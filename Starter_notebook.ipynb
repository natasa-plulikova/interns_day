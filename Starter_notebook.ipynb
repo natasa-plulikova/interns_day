{
 "cells": [
  {
   "cell_type": "markdown",
   "id": "4d72d7c9-ecef-4785-b2bd-a0891338bb4b",
   "metadata": {},
   "source": [
    "# AI based resource scaling"
   ]
  },
  {
   "cell_type": "markdown",
   "id": "a40b52af-e9bf-424a-88c6-4ebb0c46dbed",
   "metadata": {},
   "source": [
    "## Case scenario"
   ]
  },
  {
   "cell_type": "markdown",
   "id": "b0e722a7-ff8b-4eee-b733-5e3fd54325fc",
   "metadata": {},
   "source": [
    "You and your team have been assigned to a project. The business idea is to reduce carbon footprint by saving resources. Your initial investigation shows, that majority of applications that are deployed on Cloud have high and low traffic hours, but the resources are set to support the peak times. That means there are hours when the allocated resources to the application are not utilized.\n",
    "\n",
    "You want to develop a model which will allow automatic scaling of these resources. For that purpose, your machine learning model should correctly predict the CPU usage."
   ]
  },
  {
   "cell_type": "markdown",
   "id": "a01eddf4-4898-4f06-baa8-0eb32d2e7e7f",
   "metadata": {},
   "source": [
    "## Data"
   ]
  },
  {
   "cell_type": "markdown",
   "id": "02a2a8a1-1ab2-44b3-97ed-ed70c29c7678",
   "metadata": {},
   "source": [
    "The extract of the data for a sample application was provided to you. In the `data` folder you will find 2 files: `train.csv` and `test.csv`. You should conduct your exploration and model building on the `train.csv` file.\n",
    "Once you are happy with the model, use the `test.csv` file to predict the `cpu_usage`. You should store your predictions in a new csv file which will be called `<your_name>.csv`. The new file should have the following attributes:\n",
    "- `id` column\n",
    "- `timestamp` column\n",
    "- `cpu_usage` column which should hold your predictions"
   ]
  },
  {
   "cell_type": "markdown",
   "id": "30be9c7b-428b-4882-a94f-b65b61a94aff",
   "metadata": {},
   "source": [
    "### Data explanation"
   ]
  },
  {
   "cell_type": "markdown",
   "id": "ccde4c1e-3cf2-4d38-af8a-c08a00bdfbdc",
   "metadata": {},
   "source": [
    "- `id` - identifier of the record\n",
    "- `timestamp` - timestamp in the format YYYY-MM-DD HH-MM-SS\n",
    "- `number_of_requests` - number of requests the application received in the given time\n",
    "- `number_of_errors` - number of errors that the application logged in the given time\n",
    "- `response_time` - cummulative time the application took to respond to a request, in miliseconds\n",
    "- `cpu_cores` - number of CPU cores allocated to the application at a given time (maximum 8 are available)\n",
    "- `memory_usage` - memory allocation in a given time, in percent\n",
    "- `cpu_usage` - cpu allocation in a given time, in percent"
   ]
  },
  {
   "cell_type": "markdown",
   "id": "24110c8e-2eb2-4db1-ba12-d24f6ef5c928",
   "metadata": {},
   "source": [
    "## Your delivery"
   ]
  },
  {
   "cell_type": "markdown",
   "id": "c24c9ae1-eda2-4bdb-bfda-dd2e5589a36a",
   "metadata": {},
   "source": [
    "At the end of the day, you should provide us with your code in which you demonstrate that you followed these steps:\n",
    "1. Data load\n",
    "2. Data cleaning\n",
    "3. Data Exploration\n",
    "4. Data Modeling and validation\n",
    "5. Prediction\n",
    "\n",
    "The submission should be done as a pull request (PR) on github to this repository. **Please use branch with your name (not main branch)**. The PR should contain the `<your_name>.csv` file stored in the `data` folder and your code stored either in a jupyter notebook or python module.\n",
    "We have prepared this notebook to help you with the exercise however you are not obliged to use it."
   ]
  },
  {
   "cell_type": "markdown",
   "id": "bf4820fc-2509-4d37-9ed5-65f605fb98cd",
   "metadata": {},
   "source": [
    "# Evaluation"
   ]
  },
  {
   "cell_type": "markdown",
   "id": "018874d3-b86b-48ad-bd9a-94f129fa35dc",
   "metadata": {},
   "source": [
    "This exercise does not have one solution. The problem can be approached in multiple ways. In order to evaluate how well your model performs, we will use the  root mean squared error (RMSE) metric. You can learn more about this metric here: https://en.wikipedia.org/wiki/Root-mean-square_deviation"
   ]
  },
  {
   "cell_type": "markdown",
   "id": "fe5b0a26-34bf-41f2-a52d-2199fb74e680",
   "metadata": {},
   "source": [
    "# Get started"
   ]
  },
  {
   "cell_type": "markdown",
   "id": "f025f5bd-2180-4399-bc55-b0dfec2f99fb",
   "metadata": {},
   "source": [
    "## Getting this to your local environment"
   ]
  },
  {
   "cell_type": "markdown",
   "id": "c6d95fee-b024-4ce4-859b-6c69ebe688b8",
   "metadata": {},
   "source": [
    "Make sure you have an account at github.com. We suggest you fork this repository to your own space. Refer here to quickly get the right git commands: https://docs.github.com/en/get-started/quickstart/git-cheatsheet or simply use Github Desktop: https://desktop.github.com/.\n",
    "Before you start working, make sure that your work can be reproduced later on a different machine.\n",
    "\n",
    "Hint: define the environment for your project along with all dependencies. Make sure that any random element you use in your code is started from the same seed value."
   ]
  },
  {
   "cell_type": "markdown",
   "id": "603fc3ba",
   "metadata": {},
   "source": [
    "## Git cheatsheet"
   ]
  },
  {
   "cell_type": "markdown",
   "id": "a915efa1",
   "metadata": {},
   "source": [
    "If you are familiar with git/github and you know your way around, you can skip this section. \n",
    "\n",
    "### Basic Github Flow\n",
    "Follwing [video](https://ibm.box.com/s/dvym4y5ktbcw8sdv02hecfs5wwe0dn22) describes basic github workflow. It describes how to fork repository, clone it, make some changes, push changes to remote repo and create pull request against original repository. \n",
    "\n",
    "### Cloning repo\n",
    "Before you can clone repo you need either github token or ssh key. If you do not have it setup please follow this [guide](https://docs.github.com/en/authentication/connecting-to-github-with-ssh/adding-a-new-ssh-key-to-your-github-account)\n",
    "\n",
    "### Usual workflow\n",
    "Your usual worklow might look like this:\n",
    "1. Fork and clone repo on your local (first part of video)\n",
    "2. Develop your solution, periodically commiting changes when you reach some milestone\n",
    "3. Push changes to remote server if you are finished or you want just make copy on remote server just in case :-).\n",
    "4. Once you are done with your solution. Create pull request as show in second part of the video. **Please remember to create pull request against branch with your name (do not use main branch).**\n",
    "\n",
    "### Useful git commands\n",
    "Here are some useful git commands:\n",
    "* ```git clone <repo url>``` - clone repo from remote location to local directory\n",
    "* ```git add <file|folder>``` - stage your changes \n",
    "* ```git commit -m \"commit message\"``` - commit your changes to local git repo\n",
    "* ```git push``` - push changes to remote git repo\n"
   ]
  },
  {
   "cell_type": "markdown",
   "id": "c861b71a-bbb5-41b0-86cb-eca66fd17118",
   "metadata": {},
   "source": [
    "## 1. Load the data"
   ]
  },
  {
   "cell_type": "code",
   "execution_count": 3,
   "id": "8c2621a0-370c-471a-b5b0-c4b40bd7aa30",
   "metadata": {},
   "outputs": [],
   "source": [
    "# Your code goes here\n",
    "import pandas as pd\n",
    "import numpy as np\n",
    "\n",
    "df_test = pd.read_csv('data/test.csv')\n",
    "df_train = pd.read_csv('data/train.csv')"
   ]
  },
  {
   "cell_type": "markdown",
   "id": "b782938b-41f5-4337-b48a-f96f79d1f645",
   "metadata": {},
   "source": [
    "## 2. Data cleaning"
   ]
  },
  {
   "cell_type": "markdown",
   "id": "9484af96-1993-4117-8bc6-4e3e6f14f388",
   "metadata": {},
   "source": [
    "In this step you want to make sure that the data that you work with is loaded correctly, that it does not contain any strange values or that you are not missing any important records. You can read more about this step here: https://en.wikipedia.org/wiki/Data_cleansing"
   ]
  },
  {
   "cell_type": "code",
   "execution_count": 4,
   "id": "7217dd75-c58b-469e-ba89-5c16fc6d9f34",
   "metadata": {},
   "outputs": [],
   "source": [
    "# Your code goes here\n",
    "df_test = df_test.fillna(0)\n",
    "df_train = df_train.fillna(0) #cleanig datasets from NaN values"
   ]
  },
  {
   "cell_type": "code",
   "execution_count": 5,
   "id": "b913fa22",
   "metadata": {},
   "outputs": [
    {
     "data": {
      "text/plain": [
       "False"
      ]
     },
     "execution_count": 5,
     "metadata": {},
     "output_type": "execute_result"
    }
   ],
   "source": [
    "df_test.isnull().values.any()"
   ]
  },
  {
   "cell_type": "code",
   "execution_count": 6,
   "id": "9872f0ea",
   "metadata": {},
   "outputs": [
    {
     "data": {
      "text/plain": [
       "False"
      ]
     },
     "execution_count": 6,
     "metadata": {},
     "output_type": "execute_result"
    }
   ],
   "source": [
    "df_train.isnull().values.any() #check for NaN values after cleaning"
   ]
  },
  {
   "cell_type": "code",
   "execution_count": 7,
   "id": "bbfce8da",
   "metadata": {},
   "outputs": [],
   "source": [
    "df_test.rename(columns={'Unnamed: 0':'id'}, inplace=True) #add name for missing columns"
   ]
  },
  {
   "cell_type": "code",
   "execution_count": 8,
   "id": "68e67eca",
   "metadata": {},
   "outputs": [
    {
     "data": {
      "text/plain": [
       "True"
      ]
     },
     "execution_count": 8,
     "metadata": {},
     "output_type": "execute_result"
    }
   ],
   "source": [
    "df_test['id'].is_unique"
   ]
  },
  {
   "cell_type": "code",
   "execution_count": 9,
   "id": "647b508e",
   "metadata": {},
   "outputs": [
    {
     "data": {
      "text/plain": [
       "True"
      ]
     },
     "execution_count": 9,
     "metadata": {},
     "output_type": "execute_result"
    }
   ],
   "source": [
    "df_train['id'].is_unique"
   ]
  },
  {
   "cell_type": "code",
   "execution_count": 10,
   "id": "0f07e99e",
   "metadata": {},
   "outputs": [],
   "source": [
    "drop_c = ['id', \n",
    "          'timestamp']\n",
    "df_test.drop(columns=drop_c, inplace=True, axis=1)\n",
    "df_train.drop(columns=drop_c, inplace=True, axis=1)"
   ]
  },
  {
   "cell_type": "code",
   "execution_count": 11,
   "id": "cd10cf34",
   "metadata": {},
   "outputs": [
    {
     "data": {
      "text/plain": [
       "float64    4\n",
       "int64      2\n",
       "dtype: int64"
      ]
     },
     "execution_count": 11,
     "metadata": {},
     "output_type": "execute_result"
    }
   ],
   "source": [
    "df_train.dtypes.value_counts() "
   ]
  },
  {
   "cell_type": "code",
   "execution_count": 12,
   "id": "670fff88",
   "metadata": {},
   "outputs": [
    {
     "data": {
      "text/plain": [
       "float64    3\n",
       "int64      2\n",
       "dtype: int64"
      ]
     },
     "execution_count": 12,
     "metadata": {},
     "output_type": "execute_result"
    }
   ],
   "source": [
    "df_test.dtypes.value_counts() "
   ]
  },
  {
   "cell_type": "code",
   "execution_count": 44,
   "id": "68d664c4",
   "metadata": {},
   "outputs": [
    {
     "data": {
      "text/html": [
       "<div>\n",
       "<style scoped>\n",
       "    .dataframe tbody tr th:only-of-type {\n",
       "        vertical-align: middle;\n",
       "    }\n",
       "\n",
       "    .dataframe tbody tr th {\n",
       "        vertical-align: top;\n",
       "    }\n",
       "\n",
       "    .dataframe thead th {\n",
       "        text-align: right;\n",
       "    }\n",
       "</style>\n",
       "<table border=\"1\" class=\"dataframe\">\n",
       "  <thead>\n",
       "    <tr style=\"text-align: right;\">\n",
       "      <th></th>\n",
       "      <th>number_of_requests</th>\n",
       "      <th>number_of_errors</th>\n",
       "      <th>response_time</th>\n",
       "      <th>cpu_cores</th>\n",
       "      <th>memory_usage</th>\n",
       "    </tr>\n",
       "  </thead>\n",
       "  <tbody>\n",
       "    <tr>\n",
       "      <th>count</th>\n",
       "      <td>17200.000000</td>\n",
       "      <td>17200.000000</td>\n",
       "      <td>17200.000000</td>\n",
       "      <td>17200.000000</td>\n",
       "      <td>17200.000000</td>\n",
       "    </tr>\n",
       "    <tr>\n",
       "      <th>mean</th>\n",
       "      <td>5201.385640</td>\n",
       "      <td>2.491919</td>\n",
       "      <td>12307.822900</td>\n",
       "      <td>3.363488</td>\n",
       "      <td>0.503066</td>\n",
       "    </tr>\n",
       "    <tr>\n",
       "      <th>std</th>\n",
       "      <td>10483.977459</td>\n",
       "      <td>22.124663</td>\n",
       "      <td>2037.352316</td>\n",
       "      <td>2.202170</td>\n",
       "      <td>0.289226</td>\n",
       "    </tr>\n",
       "    <tr>\n",
       "      <th>min</th>\n",
       "      <td>0.000000</td>\n",
       "      <td>0.000000</td>\n",
       "      <td>0.000000</td>\n",
       "      <td>2.000000</td>\n",
       "      <td>0.000059</td>\n",
       "    </tr>\n",
       "    <tr>\n",
       "      <th>25%</th>\n",
       "      <td>249.000000</td>\n",
       "      <td>0.000000</td>\n",
       "      <td>10985.987705</td>\n",
       "      <td>2.000000</td>\n",
       "      <td>0.253181</td>\n",
       "    </tr>\n",
       "    <tr>\n",
       "      <th>50%</th>\n",
       "      <td>498.000000</td>\n",
       "      <td>0.000000</td>\n",
       "      <td>11948.646584</td>\n",
       "      <td>2.000000</td>\n",
       "      <td>0.507247</td>\n",
       "    </tr>\n",
       "    <tr>\n",
       "      <th>75%</th>\n",
       "      <td>2955.500000</td>\n",
       "      <td>0.000000</td>\n",
       "      <td>13739.689722</td>\n",
       "      <td>4.000000</td>\n",
       "      <td>0.751626</td>\n",
       "    </tr>\n",
       "    <tr>\n",
       "      <th>max</th>\n",
       "      <td>49998.000000</td>\n",
       "      <td>690.000000</td>\n",
       "      <td>16773.110102</td>\n",
       "      <td>8.000000</td>\n",
       "      <td>0.999834</td>\n",
       "    </tr>\n",
       "  </tbody>\n",
       "</table>\n",
       "</div>"
      ],
      "text/plain": [
       "       number_of_requests  number_of_errors  response_time     cpu_cores  \\\n",
       "count        17200.000000      17200.000000   17200.000000  17200.000000   \n",
       "mean          5201.385640          2.491919   12307.822900      3.363488   \n",
       "std          10483.977459         22.124663    2037.352316      2.202170   \n",
       "min              0.000000          0.000000       0.000000      2.000000   \n",
       "25%            249.000000          0.000000   10985.987705      2.000000   \n",
       "50%            498.000000          0.000000   11948.646584      2.000000   \n",
       "75%           2955.500000          0.000000   13739.689722      4.000000   \n",
       "max          49998.000000        690.000000   16773.110102      8.000000   \n",
       "\n",
       "       memory_usage  \n",
       "count  17200.000000  \n",
       "mean       0.503066  \n",
       "std        0.289226  \n",
       "min        0.000059  \n",
       "25%        0.253181  \n",
       "50%        0.507247  \n",
       "75%        0.751626  \n",
       "max        0.999834  "
      ]
     },
     "execution_count": 44,
     "metadata": {},
     "output_type": "execute_result"
    }
   ],
   "source": [
    "df_test.describe()"
   ]
  },
  {
   "cell_type": "code",
   "execution_count": 45,
   "id": "f7e995e0",
   "metadata": {},
   "outputs": [
    {
     "data": {
      "text/html": [
       "<div>\n",
       "<style scoped>\n",
       "    .dataframe tbody tr th:only-of-type {\n",
       "        vertical-align: middle;\n",
       "    }\n",
       "\n",
       "    .dataframe tbody tr th {\n",
       "        vertical-align: top;\n",
       "    }\n",
       "\n",
       "    .dataframe thead th {\n",
       "        text-align: right;\n",
       "    }\n",
       "</style>\n",
       "<table border=\"1\" class=\"dataframe\">\n",
       "  <thead>\n",
       "    <tr style=\"text-align: right;\">\n",
       "      <th></th>\n",
       "      <th>number_of_requests</th>\n",
       "      <th>number_of_errors</th>\n",
       "      <th>response_time</th>\n",
       "      <th>cpu_cores</th>\n",
       "      <th>memory_usage</th>\n",
       "      <th>cpu_usage</th>\n",
       "    </tr>\n",
       "  </thead>\n",
       "  <tbody>\n",
       "    <tr>\n",
       "      <th>0</th>\n",
       "      <td>9758</td>\n",
       "      <td>0.0</td>\n",
       "      <td>14742.755324</td>\n",
       "      <td>6</td>\n",
       "      <td>0.347599</td>\n",
       "      <td>48.498589</td>\n",
       "    </tr>\n",
       "    <tr>\n",
       "      <th>1</th>\n",
       "      <td>9967</td>\n",
       "      <td>2.0</td>\n",
       "      <td>14897.201621</td>\n",
       "      <td>6</td>\n",
       "      <td>0.756413</td>\n",
       "      <td>53.355349</td>\n",
       "    </tr>\n",
       "    <tr>\n",
       "      <th>2</th>\n",
       "      <td>5210</td>\n",
       "      <td>1.0</td>\n",
       "      <td>14009.132817</td>\n",
       "      <td>6</td>\n",
       "      <td>0.698468</td>\n",
       "      <td>46.573140</td>\n",
       "    </tr>\n",
       "    <tr>\n",
       "      <th>3</th>\n",
       "      <td>7361</td>\n",
       "      <td>1.0</td>\n",
       "      <td>14716.491537</td>\n",
       "      <td>6</td>\n",
       "      <td>0.137349</td>\n",
       "      <td>46.624516</td>\n",
       "    </tr>\n",
       "    <tr>\n",
       "      <th>4</th>\n",
       "      <td>9667</td>\n",
       "      <td>0.0</td>\n",
       "      <td>15148.657690</td>\n",
       "      <td>6</td>\n",
       "      <td>0.157933</td>\n",
       "      <td>49.455284</td>\n",
       "    </tr>\n",
       "    <tr>\n",
       "      <th>...</th>\n",
       "      <td>...</td>\n",
       "      <td>...</td>\n",
       "      <td>...</td>\n",
       "      <td>...</td>\n",
       "      <td>...</td>\n",
       "      <td>...</td>\n",
       "    </tr>\n",
       "    <tr>\n",
       "      <th>51596</th>\n",
       "      <td>9303</td>\n",
       "      <td>2.0</td>\n",
       "      <td>14376.052495</td>\n",
       "      <td>6</td>\n",
       "      <td>0.614495</td>\n",
       "      <td>51.684143</td>\n",
       "    </tr>\n",
       "    <tr>\n",
       "      <th>51597</th>\n",
       "      <td>5945</td>\n",
       "      <td>1.0</td>\n",
       "      <td>14373.898084</td>\n",
       "      <td>6</td>\n",
       "      <td>0.209691</td>\n",
       "      <td>47.571840</td>\n",
       "    </tr>\n",
       "    <tr>\n",
       "      <th>51598</th>\n",
       "      <td>6959</td>\n",
       "      <td>1.0</td>\n",
       "      <td>14768.549663</td>\n",
       "      <td>6</td>\n",
       "      <td>0.707395</td>\n",
       "      <td>47.585932</td>\n",
       "    </tr>\n",
       "    <tr>\n",
       "      <th>51599</th>\n",
       "      <td>8274</td>\n",
       "      <td>0.0</td>\n",
       "      <td>14352.171497</td>\n",
       "      <td>6</td>\n",
       "      <td>0.887683</td>\n",
       "      <td>48.178243</td>\n",
       "    </tr>\n",
       "    <tr>\n",
       "      <th>51600</th>\n",
       "      <td>8571</td>\n",
       "      <td>2.0</td>\n",
       "      <td>14870.259551</td>\n",
       "      <td>6</td>\n",
       "      <td>0.209852</td>\n",
       "      <td>51.371905</td>\n",
       "    </tr>\n",
       "  </tbody>\n",
       "</table>\n",
       "<p>51601 rows × 6 columns</p>\n",
       "</div>"
      ],
      "text/plain": [
       "       number_of_requests  number_of_errors  response_time  cpu_cores  \\\n",
       "0                    9758               0.0   14742.755324          6   \n",
       "1                    9967               2.0   14897.201621          6   \n",
       "2                    5210               1.0   14009.132817          6   \n",
       "3                    7361               1.0   14716.491537          6   \n",
       "4                    9667               0.0   15148.657690          6   \n",
       "...                   ...               ...            ...        ...   \n",
       "51596                9303               2.0   14376.052495          6   \n",
       "51597                5945               1.0   14373.898084          6   \n",
       "51598                6959               1.0   14768.549663          6   \n",
       "51599                8274               0.0   14352.171497          6   \n",
       "51600                8571               2.0   14870.259551          6   \n",
       "\n",
       "       memory_usage  cpu_usage  \n",
       "0          0.347599  48.498589  \n",
       "1          0.756413  53.355349  \n",
       "2          0.698468  46.573140  \n",
       "3          0.137349  46.624516  \n",
       "4          0.157933  49.455284  \n",
       "...             ...        ...  \n",
       "51596      0.614495  51.684143  \n",
       "51597      0.209691  47.571840  \n",
       "51598      0.707395  47.585932  \n",
       "51599      0.887683  48.178243  \n",
       "51600      0.209852  51.371905  \n",
       "\n",
       "[51601 rows x 6 columns]"
      ]
     },
     "execution_count": 45,
     "metadata": {},
     "output_type": "execute_result"
    }
   ],
   "source": [
    "df_train"
   ]
  },
  {
   "cell_type": "markdown",
   "id": "6f660e38-a542-4892-a614-40fe8af4a41f",
   "metadata": {},
   "source": [
    "## 3. Data exploration"
   ]
  },
  {
   "cell_type": "markdown",
   "id": "aefa9061-7e86-4756-a646-7431c9617d77",
   "metadata": {},
   "source": [
    "This may be one of the most important steps in your analysis. Your objective is to explore patterns in the data that will later drive your decisions about the suitable prediction model. You can read more about this step here: https://en.wikipedia.org/wiki/Data_exploration.\n",
    "\n",
    "There are many visualization libraries in python which can help you visualize and better understand the relationships between the data. Some of the most used ones are `matplotlib` (https://matplotlib.org/) and `seaborn` (https://seaborn.pydata.org/)\n",
    "\n",
    "At the end of this step, you should be able to make some important decisions. For example, will you include all features, or only a subset? Will you create new features? How will you treat your target variable? Will you need to encode the data in a different way?"
   ]
  },
  {
   "cell_type": "code",
   "execution_count": 14,
   "id": "ff321bec-090c-4b20-8987-8cdf567663fe",
   "metadata": {},
   "outputs": [],
   "source": [
    "# Your code goes here\n",
    "\n",
    "#has_errors_train = np.where((df_train.number_of_errors >  0),1,df_train.number_of_errors) #encode number_of_errors train\n",
    "#has_errors_test = np.where((df_test.number_of_errors >  0),1,df_test.number_of_errors) #encode number_of_errors test\n",
    "#has_errors_train = {'has_error': has_errors_train}\n",
    "#df_has_errors_train = pd.DataFrame(has_errors_train)\n",
    "#has_errors_test = {'has_error': has_errors_test}\n",
    "#df_has_errors_test = pd.DataFrame(has_errors_test)"
   ]
  },
  {
   "cell_type": "code",
   "execution_count": 16,
   "id": "175f4d3a",
   "metadata": {},
   "outputs": [],
   "source": [
    "#df_new_train.drop('number_of_errors',inplace=True, axis=1)\n",
    "#df_new_test.drop('number_of_errors',inplace=True, axis=1)"
   ]
  },
  {
   "cell_type": "code",
   "execution_count": 17,
   "id": "3fd02b7d",
   "metadata": {},
   "outputs": [],
   "source": [
    "#df_new_train = pd.concat([df_has_errors_train, df_new_train], axis=1)\n",
    "#df_new_test = pd.concat([df_has_errors_test, df_new_test], axis=1)"
   ]
  },
  {
   "cell_type": "code",
   "execution_count": 18,
   "id": "01b84155",
   "metadata": {},
   "outputs": [
    {
     "data": {
      "text/html": [
       "<div>\n",
       "<style scoped>\n",
       "    .dataframe tbody tr th:only-of-type {\n",
       "        vertical-align: middle;\n",
       "    }\n",
       "\n",
       "    .dataframe tbody tr th {\n",
       "        vertical-align: top;\n",
       "    }\n",
       "\n",
       "    .dataframe thead th {\n",
       "        text-align: right;\n",
       "    }\n",
       "</style>\n",
       "<table border=\"1\" class=\"dataframe\">\n",
       "  <thead>\n",
       "    <tr style=\"text-align: right;\">\n",
       "      <th></th>\n",
       "      <th>has_error</th>\n",
       "      <th>number_of_requests</th>\n",
       "      <th>response_time</th>\n",
       "      <th>cpu_cores</th>\n",
       "      <th>memory_usage</th>\n",
       "      <th>cpu_usage</th>\n",
       "    </tr>\n",
       "  </thead>\n",
       "  <tbody>\n",
       "    <tr>\n",
       "      <th>count</th>\n",
       "      <td>51601.000000</td>\n",
       "      <td>51601.000000</td>\n",
       "      <td>51601.000000</td>\n",
       "      <td>51601.000000</td>\n",
       "      <td>51601.000000</td>\n",
       "      <td>51601.000000</td>\n",
       "    </tr>\n",
       "    <tr>\n",
       "      <th>mean</th>\n",
       "      <td>0.188989</td>\n",
       "      <td>0.104556</td>\n",
       "      <td>0.732122</td>\n",
       "      <td>0.420379</td>\n",
       "      <td>0.500593</td>\n",
       "      <td>0.476761</td>\n",
       "    </tr>\n",
       "    <tr>\n",
       "      <th>std</th>\n",
       "      <td>0.391503</td>\n",
       "      <td>0.211049</td>\n",
       "      <td>0.120264</td>\n",
       "      <td>0.275277</td>\n",
       "      <td>0.288370</td>\n",
       "      <td>0.074210</td>\n",
       "    </tr>\n",
       "    <tr>\n",
       "      <th>min</th>\n",
       "      <td>0.000000</td>\n",
       "      <td>0.000000</td>\n",
       "      <td>0.000000</td>\n",
       "      <td>0.250000</td>\n",
       "      <td>0.000005</td>\n",
       "      <td>0.000000</td>\n",
       "    </tr>\n",
       "    <tr>\n",
       "      <th>25%</th>\n",
       "      <td>0.000000</td>\n",
       "      <td>0.005041</td>\n",
       "      <td>0.653422</td>\n",
       "      <td>0.250000</td>\n",
       "      <td>0.249918</td>\n",
       "      <td>0.468391</td>\n",
       "    </tr>\n",
       "    <tr>\n",
       "      <th>50%</th>\n",
       "      <td>0.000000</td>\n",
       "      <td>0.009962</td>\n",
       "      <td>0.710186</td>\n",
       "      <td>0.250000</td>\n",
       "      <td>0.502901</td>\n",
       "      <td>0.473184</td>\n",
       "    </tr>\n",
       "    <tr>\n",
       "      <th>75%</th>\n",
       "      <td>0.000000</td>\n",
       "      <td>0.058973</td>\n",
       "      <td>0.816401</td>\n",
       "      <td>0.500000</td>\n",
       "      <td>0.750709</td>\n",
       "      <td>0.479614</td>\n",
       "    </tr>\n",
       "    <tr>\n",
       "      <th>max</th>\n",
       "      <td>1.000000</td>\n",
       "      <td>1.000000</td>\n",
       "      <td>1.000000</td>\n",
       "      <td>1.000000</td>\n",
       "      <td>1.000000</td>\n",
       "      <td>1.000000</td>\n",
       "    </tr>\n",
       "  </tbody>\n",
       "</table>\n",
       "</div>"
      ],
      "text/plain": [
       "          has_error  number_of_requests  response_time     cpu_cores  \\\n",
       "count  51601.000000        51601.000000   51601.000000  51601.000000   \n",
       "mean       0.188989            0.104556       0.732122      0.420379   \n",
       "std        0.391503            0.211049       0.120264      0.275277   \n",
       "min        0.000000            0.000000       0.000000      0.250000   \n",
       "25%        0.000000            0.005041       0.653422      0.250000   \n",
       "50%        0.000000            0.009962       0.710186      0.250000   \n",
       "75%        0.000000            0.058973       0.816401      0.500000   \n",
       "max        1.000000            1.000000       1.000000      1.000000   \n",
       "\n",
       "       memory_usage     cpu_usage  \n",
       "count  51601.000000  51601.000000  \n",
       "mean       0.500593      0.476761  \n",
       "std        0.288370      0.074210  \n",
       "min        0.000005      0.000000  \n",
       "25%        0.249918      0.468391  \n",
       "50%        0.502901      0.473184  \n",
       "75%        0.750709      0.479614  \n",
       "max        1.000000      1.000000  "
      ]
     },
     "execution_count": 18,
     "metadata": {},
     "output_type": "execute_result"
    }
   ],
   "source": [
    "df_new_train.describe()"
   ]
  },
  {
   "cell_type": "code",
   "execution_count": 33,
   "id": "4412d7d6",
   "metadata": {},
   "outputs": [
    {
     "data": {
      "text/html": [
       "<div>\n",
       "<style scoped>\n",
       "    .dataframe tbody tr th:only-of-type {\n",
       "        vertical-align: middle;\n",
       "    }\n",
       "\n",
       "    .dataframe tbody tr th {\n",
       "        vertical-align: top;\n",
       "    }\n",
       "\n",
       "    .dataframe thead th {\n",
       "        text-align: right;\n",
       "    }\n",
       "</style>\n",
       "<table border=\"1\" class=\"dataframe\">\n",
       "  <thead>\n",
       "    <tr style=\"text-align: right;\">\n",
       "      <th></th>\n",
       "      <th>has_error</th>\n",
       "      <th>number_of_requests</th>\n",
       "      <th>response_time</th>\n",
       "      <th>cpu_cores</th>\n",
       "      <th>memory_usage</th>\n",
       "      <th>cpu_usage</th>\n",
       "    </tr>\n",
       "  </thead>\n",
       "  <tbody>\n",
       "    <tr>\n",
       "      <th>0</th>\n",
       "      <td>0.0</td>\n",
       "      <td>0.195203</td>\n",
       "      <td>0.876610</td>\n",
       "      <td>0.75</td>\n",
       "      <td>0.347608</td>\n",
       "      <td>0.484986</td>\n",
       "    </tr>\n",
       "    <tr>\n",
       "      <th>1</th>\n",
       "      <td>1.0</td>\n",
       "      <td>0.199384</td>\n",
       "      <td>0.885793</td>\n",
       "      <td>0.75</td>\n",
       "      <td>0.756432</td>\n",
       "      <td>0.533553</td>\n",
       "    </tr>\n",
       "    <tr>\n",
       "      <th>2</th>\n",
       "      <td>1.0</td>\n",
       "      <td>0.104223</td>\n",
       "      <td>0.832988</td>\n",
       "      <td>0.75</td>\n",
       "      <td>0.698485</td>\n",
       "      <td>0.465731</td>\n",
       "    </tr>\n",
       "    <tr>\n",
       "      <th>3</th>\n",
       "      <td>1.0</td>\n",
       "      <td>0.147252</td>\n",
       "      <td>0.875048</td>\n",
       "      <td>0.75</td>\n",
       "      <td>0.137353</td>\n",
       "      <td>0.466245</td>\n",
       "    </tr>\n",
       "    <tr>\n",
       "      <th>4</th>\n",
       "      <td>0.0</td>\n",
       "      <td>0.193383</td>\n",
       "      <td>0.900745</td>\n",
       "      <td>0.75</td>\n",
       "      <td>0.157937</td>\n",
       "      <td>0.494553</td>\n",
       "    </tr>\n",
       "    <tr>\n",
       "      <th>...</th>\n",
       "      <td>...</td>\n",
       "      <td>...</td>\n",
       "      <td>...</td>\n",
       "      <td>...</td>\n",
       "      <td>...</td>\n",
       "      <td>...</td>\n",
       "    </tr>\n",
       "    <tr>\n",
       "      <th>51596</th>\n",
       "      <td>1.0</td>\n",
       "      <td>0.186101</td>\n",
       "      <td>0.854805</td>\n",
       "      <td>0.75</td>\n",
       "      <td>0.614510</td>\n",
       "      <td>0.516841</td>\n",
       "    </tr>\n",
       "    <tr>\n",
       "      <th>51597</th>\n",
       "      <td>1.0</td>\n",
       "      <td>0.118926</td>\n",
       "      <td>0.854677</td>\n",
       "      <td>0.75</td>\n",
       "      <td>0.209696</td>\n",
       "      <td>0.475718</td>\n",
       "    </tr>\n",
       "    <tr>\n",
       "      <th>51598</th>\n",
       "      <td>1.0</td>\n",
       "      <td>0.139211</td>\n",
       "      <td>0.878143</td>\n",
       "      <td>0.75</td>\n",
       "      <td>0.707412</td>\n",
       "      <td>0.475859</td>\n",
       "    </tr>\n",
       "    <tr>\n",
       "      <th>51599</th>\n",
       "      <td>0.0</td>\n",
       "      <td>0.165516</td>\n",
       "      <td>0.853385</td>\n",
       "      <td>0.75</td>\n",
       "      <td>0.887705</td>\n",
       "      <td>0.481782</td>\n",
       "    </tr>\n",
       "    <tr>\n",
       "      <th>51600</th>\n",
       "      <td>1.0</td>\n",
       "      <td>0.171458</td>\n",
       "      <td>0.884191</td>\n",
       "      <td>0.75</td>\n",
       "      <td>0.209857</td>\n",
       "      <td>0.513719</td>\n",
       "    </tr>\n",
       "  </tbody>\n",
       "</table>\n",
       "<p>51601 rows × 6 columns</p>\n",
       "</div>"
      ],
      "text/plain": [
       "       has_error  number_of_requests  response_time  cpu_cores  memory_usage  \\\n",
       "0            0.0            0.195203       0.876610       0.75      0.347608   \n",
       "1            1.0            0.199384       0.885793       0.75      0.756432   \n",
       "2            1.0            0.104223       0.832988       0.75      0.698485   \n",
       "3            1.0            0.147252       0.875048       0.75      0.137353   \n",
       "4            0.0            0.193383       0.900745       0.75      0.157937   \n",
       "...          ...                 ...            ...        ...           ...   \n",
       "51596        1.0            0.186101       0.854805       0.75      0.614510   \n",
       "51597        1.0            0.118926       0.854677       0.75      0.209696   \n",
       "51598        1.0            0.139211       0.878143       0.75      0.707412   \n",
       "51599        0.0            0.165516       0.853385       0.75      0.887705   \n",
       "51600        1.0            0.171458       0.884191       0.75      0.209857   \n",
       "\n",
       "       cpu_usage  \n",
       "0       0.484986  \n",
       "1       0.533553  \n",
       "2       0.465731  \n",
       "3       0.466245  \n",
       "4       0.494553  \n",
       "...          ...  \n",
       "51596   0.516841  \n",
       "51597   0.475718  \n",
       "51598   0.475859  \n",
       "51599   0.481782  \n",
       "51600   0.513719  \n",
       "\n",
       "[51601 rows x 6 columns]"
      ]
     },
     "execution_count": 33,
     "metadata": {},
     "output_type": "execute_result"
    }
   ],
   "source": [
    "df_new_train"
   ]
  },
  {
   "cell_type": "markdown",
   "id": "a4dbf95d-5edb-49e3-85a5-15d3d20e638c",
   "metadata": {},
   "source": [
    "## 4. Data Modeling and Validation"
   ]
  },
  {
   "cell_type": "markdown",
   "id": "2a2eb3b8-cb4d-419b-9702-3bd5a623e77a",
   "metadata": {},
   "source": [
    "At this point, you should have an idea about your data. That means you are ready for the modeling part. Based on your exploration, you should choose the right type of the model. Since we are operating in a supervised domain (e.g. we know what we want to predict), your main decision should be whether to use a classification, regression or time-series type model.\n",
    "\n",
    "Scikit-learn (https://scikit-learn.org/stable/index.html) is very broad library for machine learning practitioners. The documentation provides examples for different machine learning problems. Feel free to check it out before you choose your final implementation. If you are not sure which model will work best, you can also train multiple models and choose the best among them.\n",
    "\n",
    "Do not forget that you need to validate your model. Especially if you train multiple models that you wish to choose from. There are more ways to do the validation (read more here: https://en.wikipedia.org/wiki/Training,_validation,_and_test_sets) but remember that your final solution will be evaluated based on RMSE metric."
   ]
  },
  {
   "cell_type": "code",
   "execution_count": 23,
   "id": "b7c56496-a6c5-40a1-9498-b847d40c981c",
   "metadata": {},
   "outputs": [
    {
     "name": "stderr",
     "output_type": "stream",
     "text": [
      "C:\\Users\\Anna\\anaconda3\\lib\\site-packages\\sklearn\\utils\\validation.py:63: DataConversionWarning: A column-vector y was passed when a 1d array was expected. Please change the shape of y to (n_samples, ), for example using ravel().\n",
      "  return f(*args, **kwargs)\n"
     ]
    },
    {
     "name": "stdout",
     "output_type": "stream",
     "text": [
      "SVR()\n"
     ]
    }
   ],
   "source": [
    "# Your code goes here\n",
    "from sklearn.model_selection import train_test_split\n",
    "from sklearn import svm\n",
    "from sklearn import metrics\n",
    "\n",
    "X = df_train.loc[:, df_train.columns != 'cpu_usage']\n",
    "y = df_train.iloc[:,df_train.columns == 'cpu_usage']\n",
    "\n",
    "regr = svm.SVR()\n",
    "regr.fit(X, y)"
   ]
  },
  {
   "cell_type": "markdown",
   "id": "9a236ff3-b299-48fe-9f67-a8d4e65dfa59",
   "metadata": {},
   "source": [
    "## 5. Prediction"
   ]
  },
  {
   "cell_type": "markdown",
   "id": "686b9a3f-b96c-4602-8946-adc9cd096e2c",
   "metadata": {},
   "source": [
    "Well done! You are almost finished with the assignment. In this last step you want to use a `predict` method on the data from `test.csv` file. Remember, any transformation or data preprocessing steps you did need to be done on this dataset too."
   ]
  },
  {
   "cell_type": "code",
   "execution_count": 33,
   "id": "b146ee97",
   "metadata": {},
   "outputs": [],
   "source": [
    "cpu_usage_t = regr.predict(df_test)"
   ]
  },
  {
   "cell_type": "code",
   "execution_count": 40,
   "id": "fd056720",
   "metadata": {},
   "outputs": [],
   "source": [
    "df_cpu_usage_t = pd.DataFrame(cpu_usage_t)\n",
    "df_cpu_usage_t.rename(columns={0:'cpu_usage'}, inplace=True)"
   ]
  },
  {
   "cell_type": "code",
   "execution_count": 41,
   "id": "2a6c2158",
   "metadata": {},
   "outputs": [
    {
     "data": {
      "text/html": [
       "<div>\n",
       "<style scoped>\n",
       "    .dataframe tbody tr th:only-of-type {\n",
       "        vertical-align: middle;\n",
       "    }\n",
       "\n",
       "    .dataframe tbody tr th {\n",
       "        vertical-align: top;\n",
       "    }\n",
       "\n",
       "    .dataframe thead th {\n",
       "        text-align: right;\n",
       "    }\n",
       "</style>\n",
       "<table border=\"1\" class=\"dataframe\">\n",
       "  <thead>\n",
       "    <tr style=\"text-align: right;\">\n",
       "      <th></th>\n",
       "      <th>cpu_usage</th>\n",
       "    </tr>\n",
       "  </thead>\n",
       "  <tbody>\n",
       "    <tr>\n",
       "      <th>0</th>\n",
       "      <td>48.837469</td>\n",
       "    </tr>\n",
       "    <tr>\n",
       "      <th>1</th>\n",
       "      <td>48.348246</td>\n",
       "    </tr>\n",
       "    <tr>\n",
       "      <th>2</th>\n",
       "      <td>48.586795</td>\n",
       "    </tr>\n",
       "    <tr>\n",
       "      <th>3</th>\n",
       "      <td>48.740181</td>\n",
       "    </tr>\n",
       "    <tr>\n",
       "      <th>4</th>\n",
       "      <td>48.844429</td>\n",
       "    </tr>\n",
       "    <tr>\n",
       "      <th>...</th>\n",
       "      <td>...</td>\n",
       "    </tr>\n",
       "    <tr>\n",
       "      <th>17195</th>\n",
       "      <td>48.873975</td>\n",
       "    </tr>\n",
       "    <tr>\n",
       "      <th>17196</th>\n",
       "      <td>49.028965</td>\n",
       "    </tr>\n",
       "    <tr>\n",
       "      <th>17197</th>\n",
       "      <td>48.651894</td>\n",
       "    </tr>\n",
       "    <tr>\n",
       "      <th>17198</th>\n",
       "      <td>49.065346</td>\n",
       "    </tr>\n",
       "    <tr>\n",
       "      <th>17199</th>\n",
       "      <td>49.155386</td>\n",
       "    </tr>\n",
       "  </tbody>\n",
       "</table>\n",
       "<p>17200 rows × 1 columns</p>\n",
       "</div>"
      ],
      "text/plain": [
       "       cpu_usage\n",
       "0      48.837469\n",
       "1      48.348246\n",
       "2      48.586795\n",
       "3      48.740181\n",
       "4      48.844429\n",
       "...          ...\n",
       "17195  48.873975\n",
       "17196  49.028965\n",
       "17197  48.651894\n",
       "17198  49.065346\n",
       "17199  49.155386\n",
       "\n",
       "[17200 rows x 1 columns]"
      ]
     },
     "execution_count": 41,
     "metadata": {},
     "output_type": "execute_result"
    }
   ],
   "source": [
    "df_cpu_usage_t"
   ]
  },
  {
   "cell_type": "code",
   "execution_count": 42,
   "id": "caa78f78",
   "metadata": {},
   "outputs": [
    {
     "data": {
      "text/html": [
       "<div>\n",
       "<style scoped>\n",
       "    .dataframe tbody tr th:only-of-type {\n",
       "        vertical-align: middle;\n",
       "    }\n",
       "\n",
       "    .dataframe tbody tr th {\n",
       "        vertical-align: top;\n",
       "    }\n",
       "\n",
       "    .dataframe thead th {\n",
       "        text-align: right;\n",
       "    }\n",
       "</style>\n",
       "<table border=\"1\" class=\"dataframe\">\n",
       "  <thead>\n",
       "    <tr style=\"text-align: right;\">\n",
       "      <th></th>\n",
       "      <th>number_of_requests</th>\n",
       "      <th>number_of_errors</th>\n",
       "      <th>response_time</th>\n",
       "      <th>cpu_cores</th>\n",
       "      <th>memory_usage</th>\n",
       "      <th>cpu_usage</th>\n",
       "    </tr>\n",
       "  </thead>\n",
       "  <tbody>\n",
       "    <tr>\n",
       "      <th>0</th>\n",
       "      <td>6013</td>\n",
       "      <td>1.0</td>\n",
       "      <td>13839.534811</td>\n",
       "      <td>6</td>\n",
       "      <td>0.332282</td>\n",
       "      <td>48.837469</td>\n",
       "    </tr>\n",
       "    <tr>\n",
       "      <th>1</th>\n",
       "      <td>8834</td>\n",
       "      <td>0.0</td>\n",
       "      <td>14657.609451</td>\n",
       "      <td>6</td>\n",
       "      <td>0.931217</td>\n",
       "      <td>48.348246</td>\n",
       "    </tr>\n",
       "    <tr>\n",
       "      <th>2</th>\n",
       "      <td>7971</td>\n",
       "      <td>0.0</td>\n",
       "      <td>14137.221618</td>\n",
       "      <td>6</td>\n",
       "      <td>0.803488</td>\n",
       "      <td>48.586795</td>\n",
       "    </tr>\n",
       "    <tr>\n",
       "      <th>3</th>\n",
       "      <td>7653</td>\n",
       "      <td>0.0</td>\n",
       "      <td>14257.821995</td>\n",
       "      <td>6</td>\n",
       "      <td>0.486343</td>\n",
       "      <td>48.740181</td>\n",
       "    </tr>\n",
       "    <tr>\n",
       "      <th>4</th>\n",
       "      <td>7313</td>\n",
       "      <td>0.0</td>\n",
       "      <td>14281.586371</td>\n",
       "      <td>6</td>\n",
       "      <td>0.369045</td>\n",
       "      <td>48.844429</td>\n",
       "    </tr>\n",
       "    <tr>\n",
       "      <th>...</th>\n",
       "      <td>...</td>\n",
       "      <td>...</td>\n",
       "      <td>...</td>\n",
       "      <td>...</td>\n",
       "      <td>...</td>\n",
       "      <td>...</td>\n",
       "    </tr>\n",
       "    <tr>\n",
       "      <th>17195</th>\n",
       "      <td>6401</td>\n",
       "      <td>0.0</td>\n",
       "      <td>13977.819765</td>\n",
       "      <td>6</td>\n",
       "      <td>0.863818</td>\n",
       "      <td>48.873975</td>\n",
       "    </tr>\n",
       "    <tr>\n",
       "      <th>17196</th>\n",
       "      <td>6525</td>\n",
       "      <td>1.0</td>\n",
       "      <td>14401.515182</td>\n",
       "      <td>6</td>\n",
       "      <td>0.300279</td>\n",
       "      <td>49.028965</td>\n",
       "    </tr>\n",
       "    <tr>\n",
       "      <th>17197</th>\n",
       "      <td>8342</td>\n",
       "      <td>2.0</td>\n",
       "      <td>14782.197038</td>\n",
       "      <td>6</td>\n",
       "      <td>0.165270</td>\n",
       "      <td>48.651894</td>\n",
       "    </tr>\n",
       "    <tr>\n",
       "      <th>17198</th>\n",
       "      <td>5355</td>\n",
       "      <td>1.0</td>\n",
       "      <td>14421.113212</td>\n",
       "      <td>6</td>\n",
       "      <td>0.377384</td>\n",
       "      <td>49.065346</td>\n",
       "    </tr>\n",
       "    <tr>\n",
       "      <th>17199</th>\n",
       "      <td>6476</td>\n",
       "      <td>0.0</td>\n",
       "      <td>14714.010527</td>\n",
       "      <td>6</td>\n",
       "      <td>0.714845</td>\n",
       "      <td>49.155386</td>\n",
       "    </tr>\n",
       "  </tbody>\n",
       "</table>\n",
       "<p>17200 rows × 6 columns</p>\n",
       "</div>"
      ],
      "text/plain": [
       "       number_of_requests  number_of_errors  response_time  cpu_cores  \\\n",
       "0                    6013               1.0   13839.534811          6   \n",
       "1                    8834               0.0   14657.609451          6   \n",
       "2                    7971               0.0   14137.221618          6   \n",
       "3                    7653               0.0   14257.821995          6   \n",
       "4                    7313               0.0   14281.586371          6   \n",
       "...                   ...               ...            ...        ...   \n",
       "17195                6401               0.0   13977.819765          6   \n",
       "17196                6525               1.0   14401.515182          6   \n",
       "17197                8342               2.0   14782.197038          6   \n",
       "17198                5355               1.0   14421.113212          6   \n",
       "17199                6476               0.0   14714.010527          6   \n",
       "\n",
       "       memory_usage  cpu_usage  \n",
       "0          0.332282  48.837469  \n",
       "1          0.931217  48.348246  \n",
       "2          0.803488  48.586795  \n",
       "3          0.486343  48.740181  \n",
       "4          0.369045  48.844429  \n",
       "...             ...        ...  \n",
       "17195      0.863818  48.873975  \n",
       "17196      0.300279  49.028965  \n",
       "17197      0.165270  48.651894  \n",
       "17198      0.377384  49.065346  \n",
       "17199      0.714845  49.155386  \n",
       "\n",
       "[17200 rows x 6 columns]"
      ]
     },
     "execution_count": 42,
     "metadata": {},
     "output_type": "execute_result"
    }
   ],
   "source": [
    "df_new_test = pd.concat([df_test, df_cpu_usage_t], axis=1)\n",
    "df_new_test"
   ]
  },
  {
   "cell_type": "code",
   "execution_count": 44,
   "id": "44a227c8",
   "metadata": {},
   "outputs": [],
   "source": [
    "df_new_test.to_csv('data/melekhova.csv')"
   ]
  },
  {
   "cell_type": "markdown",
   "id": "835420e8-fc44-406c-9648-0ac6fb2d7cf7",
   "metadata": {},
   "source": [
    "<div align=\"center\"> Well done! </div>\n",
    "You have completed all the steps necessary for the assignment. Don't forget to submit your solution according to instructions.\n",
    "We hope you have enjoyed this and we thank you for your time."
   ]
  }
 ],
 "metadata": {
  "kernelspec": {
   "display_name": "Python 3",
   "language": "python",
   "name": "python3"
  },
  "language_info": {
   "codemirror_mode": {
    "name": "ipython",
    "version": 3
   },
   "file_extension": ".py",
   "mimetype": "text/x-python",
   "name": "python",
   "nbconvert_exporter": "python",
   "pygments_lexer": "ipython3",
   "version": "3.8.8"
  }
 },
 "nbformat": 4,
 "nbformat_minor": 5
}
