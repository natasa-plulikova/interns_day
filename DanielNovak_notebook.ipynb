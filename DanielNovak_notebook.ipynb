{
 "cells": [
  {
   "cell_type": "code",
   "execution_count": null,
   "id": "8fec77dc",
   "metadata": {},
   "outputs": [],
   "source": [
    "#importovanie knižníc"
   ]
  },
  {
   "cell_type": "code",
   "execution_count": 1,
   "id": "e225f74c",
   "metadata": {},
   "outputs": [],
   "source": [
    "import pandas as pd\n",
    "import sklearn\n",
    "import matplotlib as plt"
   ]
  },
  {
   "cell_type": "code",
   "execution_count": 2,
   "id": "5368b0d7",
   "metadata": {},
   "outputs": [],
   "source": [
    "#načítanie dát"
   ]
  },
  {
   "cell_type": "code",
   "execution_count": 3,
   "id": "660915db",
   "metadata": {},
   "outputs": [],
   "source": [
    "traindata = pd.read_csv(r'train.csv')"
   ]
  },
  {
   "cell_type": "code",
   "execution_count": 4,
   "id": "c913d956",
   "metadata": {},
   "outputs": [],
   "source": [
    "testdata = pd.read_csv(r'test.csv')"
   ]
  },
  {
   "cell_type": "code",
   "execution_count": 5,
   "id": "9fa05a89",
   "metadata": {},
   "outputs": [],
   "source": [
    "#zobrazenie hlavičky dát (prvých 5 riadkov)"
   ]
  },
  {
   "cell_type": "code",
   "execution_count": 6,
   "id": "7d7644b7",
   "metadata": {
    "scrolled": true
   },
   "outputs": [
    {
     "data": {
      "text/html": [
       "<div>\n",
       "<style scoped>\n",
       "    .dataframe tbody tr th:only-of-type {\n",
       "        vertical-align: middle;\n",
       "    }\n",
       "\n",
       "    .dataframe tbody tr th {\n",
       "        vertical-align: top;\n",
       "    }\n",
       "\n",
       "    .dataframe thead th {\n",
       "        text-align: right;\n",
       "    }\n",
       "</style>\n",
       "<table border=\"1\" class=\"dataframe\">\n",
       "  <thead>\n",
       "    <tr style=\"text-align: right;\">\n",
       "      <th></th>\n",
       "      <th>id</th>\n",
       "      <th>timestamp</th>\n",
       "      <th>number_of_requests</th>\n",
       "      <th>number_of_errors</th>\n",
       "      <th>response_time</th>\n",
       "      <th>cpu_cores</th>\n",
       "      <th>memory_usage</th>\n",
       "      <th>cpu_usage</th>\n",
       "    </tr>\n",
       "  </thead>\n",
       "  <tbody>\n",
       "    <tr>\n",
       "      <th>0</th>\n",
       "      <td>0</td>\n",
       "      <td>2022-01-22 17:12:22</td>\n",
       "      <td>9758</td>\n",
       "      <td>0.0</td>\n",
       "      <td>14742.755324</td>\n",
       "      <td>6</td>\n",
       "      <td>0.347599</td>\n",
       "      <td>48.498589</td>\n",
       "    </tr>\n",
       "    <tr>\n",
       "      <th>1</th>\n",
       "      <td>1</td>\n",
       "      <td>2022-01-22 17:12:27</td>\n",
       "      <td>9967</td>\n",
       "      <td>2.0</td>\n",
       "      <td>14897.201621</td>\n",
       "      <td>6</td>\n",
       "      <td>0.756413</td>\n",
       "      <td>53.355349</td>\n",
       "    </tr>\n",
       "    <tr>\n",
       "      <th>2</th>\n",
       "      <td>2</td>\n",
       "      <td>2022-01-22 17:12:32</td>\n",
       "      <td>5210</td>\n",
       "      <td>1.0</td>\n",
       "      <td>14009.132817</td>\n",
       "      <td>6</td>\n",
       "      <td>0.698468</td>\n",
       "      <td>46.573140</td>\n",
       "    </tr>\n",
       "    <tr>\n",
       "      <th>3</th>\n",
       "      <td>3</td>\n",
       "      <td>2022-01-22 17:12:37</td>\n",
       "      <td>7361</td>\n",
       "      <td>1.0</td>\n",
       "      <td>14716.491537</td>\n",
       "      <td>6</td>\n",
       "      <td>0.137349</td>\n",
       "      <td>46.624516</td>\n",
       "    </tr>\n",
       "    <tr>\n",
       "      <th>4</th>\n",
       "      <td>4</td>\n",
       "      <td>2022-01-22 17:12:42</td>\n",
       "      <td>9667</td>\n",
       "      <td>0.0</td>\n",
       "      <td>15148.657690</td>\n",
       "      <td>6</td>\n",
       "      <td>0.157933</td>\n",
       "      <td>49.455284</td>\n",
       "    </tr>\n",
       "  </tbody>\n",
       "</table>\n",
       "</div>"
      ],
      "text/plain": [
       "   id            timestamp  number_of_requests  number_of_errors  \\\n",
       "0   0  2022-01-22 17:12:22                9758               0.0   \n",
       "1   1  2022-01-22 17:12:27                9967               2.0   \n",
       "2   2  2022-01-22 17:12:32                5210               1.0   \n",
       "3   3  2022-01-22 17:12:37                7361               1.0   \n",
       "4   4  2022-01-22 17:12:42                9667               0.0   \n",
       "\n",
       "   response_time  cpu_cores  memory_usage  cpu_usage  \n",
       "0   14742.755324          6      0.347599  48.498589  \n",
       "1   14897.201621          6      0.756413  53.355349  \n",
       "2   14009.132817          6      0.698468  46.573140  \n",
       "3   14716.491537          6      0.137349  46.624516  \n",
       "4   15148.657690          6      0.157933  49.455284  "
      ]
     },
     "execution_count": 6,
     "metadata": {},
     "output_type": "execute_result"
    }
   ],
   "source": [
    "traindata.head(5)"
   ]
  },
  {
   "cell_type": "code",
   "execution_count": 7,
   "id": "9c11a789",
   "metadata": {},
   "outputs": [],
   "source": [
    "#nastavenie indexu a úprava formátu dátumu"
   ]
  },
  {
   "cell_type": "code",
   "execution_count": 8,
   "id": "b312135a",
   "metadata": {},
   "outputs": [],
   "source": [
    "traindata = traindata.set_index(\"id\")"
   ]
  },
  {
   "cell_type": "code",
   "execution_count": 9,
   "id": "5d5ff7a7",
   "metadata": {},
   "outputs": [],
   "source": [
    "#vytvorenie kópie trénovacích dát a odstránenie stĺpca s dátumom pre modelovanie "
   ]
  },
  {
   "cell_type": "code",
   "execution_count": 10,
   "id": "087221ba",
   "metadata": {},
   "outputs": [],
   "source": [
    "train2 = traindata"
   ]
  },
  {
   "cell_type": "code",
   "execution_count": 11,
   "id": "c5cab074",
   "metadata": {},
   "outputs": [],
   "source": [
    "train2 = train2.drop([\"timestamp\"],axis=1)"
   ]
  },
  {
   "cell_type": "code",
   "execution_count": 12,
   "id": "c9cc75a4",
   "metadata": {
    "scrolled": true
   },
   "outputs": [
    {
     "data": {
      "text/html": [
       "<div>\n",
       "<style scoped>\n",
       "    .dataframe tbody tr th:only-of-type {\n",
       "        vertical-align: middle;\n",
       "    }\n",
       "\n",
       "    .dataframe tbody tr th {\n",
       "        vertical-align: top;\n",
       "    }\n",
       "\n",
       "    .dataframe thead th {\n",
       "        text-align: right;\n",
       "    }\n",
       "</style>\n",
       "<table border=\"1\" class=\"dataframe\">\n",
       "  <thead>\n",
       "    <tr style=\"text-align: right;\">\n",
       "      <th></th>\n",
       "      <th>number_of_requests</th>\n",
       "      <th>number_of_errors</th>\n",
       "      <th>response_time</th>\n",
       "      <th>cpu_cores</th>\n",
       "      <th>memory_usage</th>\n",
       "      <th>cpu_usage</th>\n",
       "    </tr>\n",
       "    <tr>\n",
       "      <th>id</th>\n",
       "      <th></th>\n",
       "      <th></th>\n",
       "      <th></th>\n",
       "      <th></th>\n",
       "      <th></th>\n",
       "      <th></th>\n",
       "    </tr>\n",
       "  </thead>\n",
       "  <tbody>\n",
       "    <tr>\n",
       "      <th>0</th>\n",
       "      <td>9758</td>\n",
       "      <td>0.0</td>\n",
       "      <td>14742.755324</td>\n",
       "      <td>6</td>\n",
       "      <td>0.347599</td>\n",
       "      <td>48.498589</td>\n",
       "    </tr>\n",
       "    <tr>\n",
       "      <th>1</th>\n",
       "      <td>9967</td>\n",
       "      <td>2.0</td>\n",
       "      <td>14897.201621</td>\n",
       "      <td>6</td>\n",
       "      <td>0.756413</td>\n",
       "      <td>53.355349</td>\n",
       "    </tr>\n",
       "    <tr>\n",
       "      <th>2</th>\n",
       "      <td>5210</td>\n",
       "      <td>1.0</td>\n",
       "      <td>14009.132817</td>\n",
       "      <td>6</td>\n",
       "      <td>0.698468</td>\n",
       "      <td>46.573140</td>\n",
       "    </tr>\n",
       "    <tr>\n",
       "      <th>3</th>\n",
       "      <td>7361</td>\n",
       "      <td>1.0</td>\n",
       "      <td>14716.491537</td>\n",
       "      <td>6</td>\n",
       "      <td>0.137349</td>\n",
       "      <td>46.624516</td>\n",
       "    </tr>\n",
       "    <tr>\n",
       "      <th>4</th>\n",
       "      <td>9667</td>\n",
       "      <td>0.0</td>\n",
       "      <td>15148.657690</td>\n",
       "      <td>6</td>\n",
       "      <td>0.157933</td>\n",
       "      <td>49.455284</td>\n",
       "    </tr>\n",
       "  </tbody>\n",
       "</table>\n",
       "</div>"
      ],
      "text/plain": [
       "    number_of_requests  number_of_errors  response_time  cpu_cores  \\\n",
       "id                                                                   \n",
       "0                 9758               0.0   14742.755324          6   \n",
       "1                 9967               2.0   14897.201621          6   \n",
       "2                 5210               1.0   14009.132817          6   \n",
       "3                 7361               1.0   14716.491537          6   \n",
       "4                 9667               0.0   15148.657690          6   \n",
       "\n",
       "    memory_usage  cpu_usage  \n",
       "id                           \n",
       "0       0.347599  48.498589  \n",
       "1       0.756413  53.355349  \n",
       "2       0.698468  46.573140  \n",
       "3       0.137349  46.624516  \n",
       "4       0.157933  49.455284  "
      ]
     },
     "execution_count": 12,
     "metadata": {},
     "output_type": "execute_result"
    }
   ],
   "source": [
    "train2.head(5)"
   ]
  },
  {
   "cell_type": "code",
   "execution_count": 13,
   "id": "2b3fe42f",
   "metadata": {},
   "outputs": [],
   "source": [
    "#kontrola hodnôt NA a null"
   ]
  },
  {
   "cell_type": "code",
   "execution_count": 14,
   "id": "0d57fbe6",
   "metadata": {
    "scrolled": true
   },
   "outputs": [
    {
     "data": {
      "text/plain": [
       "0"
      ]
     },
     "execution_count": 14,
     "metadata": {},
     "output_type": "execute_result"
    }
   ],
   "source": [
    "traindata.isnull().sum().sum()"
   ]
  },
  {
   "cell_type": "code",
   "execution_count": 15,
   "id": "8ba11852",
   "metadata": {},
   "outputs": [],
   "source": [
    "#kontrola duplikátov"
   ]
  },
  {
   "cell_type": "code",
   "execution_count": 16,
   "id": "15cbfed5",
   "metadata": {},
   "outputs": [
    {
     "data": {
      "text/plain": [
       "0"
      ]
     },
     "execution_count": 16,
     "metadata": {},
     "output_type": "execute_result"
    }
   ],
   "source": [
    "traindata.duplicated().sum()"
   ]
  },
  {
   "cell_type": "code",
   "execution_count": 17,
   "id": "74376cdd",
   "metadata": {},
   "outputs": [],
   "source": [
    "#vizualizácia vzťahov atribútov s atribútov cpu_usage, ktorý bude cieľom predikcie"
   ]
  },
  {
   "cell_type": "code",
   "execution_count": 18,
   "id": "aa78bc4e",
   "metadata": {},
   "outputs": [
    {
     "data": {
      "text/plain": [
       "<AxesSubplot:xlabel='number_of_requests', ylabel='cpu_usage'>"
      ]
     },
     "execution_count": 18,
     "metadata": {},
     "output_type": "execute_result"
    },
    {
     "data": {
      "image/png": "[encoded data removed]",
      "text/plain": [
       "<Figure size 432x288 with 1 Axes>"
      ]
     },
     "metadata": {
      "needs_background": "light"
     },
     "output_type": "display_data"
    }
   ],
   "source": [
    "traindata.plot(x ='number_of_requests', y='cpu_usage', kind = 'scatter')"
   ]
  },
  {
   "cell_type": "code",
   "execution_count": 19,
   "id": "c11f4bb9",
   "metadata": {},
   "outputs": [
    {
     "data": {
      "text/plain": [
       "<AxesSubplot:xlabel='number_of_errors', ylabel='cpu_usage'>"
      ]
     },
     "execution_count": 19,
     "metadata": {},
     "output_type": "execute_result"
    },
    {
     "data": {
      "image/png": "[encoded data removed]",
      "text/plain": [
       "<Figure size 432x288 with 1 Axes>"
      ]
     },
     "metadata": {
      "needs_background": "light"
     },
     "output_type": "display_data"
    }
   ],
   "source": [
    "traindata.plot(x ='number_of_errors', y='cpu_usage', kind = 'scatter')"
   ]
  },
  {
   "cell_type": "code",
   "execution_count": 20,
   "id": "b48b9700",
   "metadata": {},
   "outputs": [
    {
     "data": {
      "text/plain": [
       "<AxesSubplot:xlabel='response_time', ylabel='cpu_usage'>"
      ]
     },
     "execution_count": 20,
     "metadata": {},
     "output_type": "execute_result"
    },
    {
     "data": {
      "image/png": "[encoded data removed]",
      "text/plain": [
       "<Figure size 432x288 with 1 Axes>"
      ]
     },
     "metadata": {
      "needs_background": "light"
     },
     "output_type": "display_data"
    }
   ],
   "source": [
    "traindata.plot(x ='response_time', y='cpu_usage', kind = 'scatter')"
   ]
  },
  {
   "cell_type": "code",
   "execution_count": 21,
   "id": "54936a93",
   "metadata": {},
   "outputs": [
    {
     "data": {
      "text/plain": [
       "<AxesSubplot:xlabel='cpu_cores', ylabel='cpu_usage'>"
      ]
     },
     "execution_count": 21,
     "metadata": {},
     "output_type": "execute_result"
    },
    {
     "data": {
      "image/png": "[encoded data removed]",
      "text/plain": [
       "<Figure size 432x288 with 1 Axes>"
      ]
     },
     "metadata": {
      "needs_background": "light"
     },
     "output_type": "display_data"
    }
   ],
   "source": [
    "traindata.plot(x ='cpu_cores', y='cpu_usage', kind = 'scatter')"
   ]
  },
  {
   "cell_type": "code",
   "execution_count": 22,
   "id": "0c259b0d",
   "metadata": {},
   "outputs": [
    {
     "data": {
      "text/plain": [
       "<AxesSubplot:xlabel='memory_usage', ylabel='cpu_usage'>"
      ]
     },
     "execution_count": 22,
     "metadata": {},
     "output_type": "execute_result"
    },
    {
     "data": {
      "image/png": "[encoded data removed]",
      "text/plain": [
       "<Figure size 432x288 with 1 Axes>"
      ]
     },
     "metadata": {
      "needs_background": "light"
     },
     "output_type": "display_data"
    }
   ],
   "source": [
    "traindata.plot(x ='memory_usage', y='cpu_usage', kind = 'scatter')"
   ]
  },
  {
   "cell_type": "code",
   "execution_count": 23,
   "id": "fae36ea9",
   "metadata": {},
   "outputs": [],
   "source": [
    "#korelácia jednotlivých atribútov (number_of_errors a cpu_usage korelujú najviac)"
   ]
  },
  {
   "cell_type": "code",
   "execution_count": 24,
   "id": "aeb23460",
   "metadata": {
    "scrolled": false
   },
   "outputs": [
    {
     "data": {
      "text/html": [
       "<div>\n",
       "<style scoped>\n",
       "    .dataframe tbody tr th:only-of-type {\n",
       "        vertical-align: middle;\n",
       "    }\n",
       "\n",
       "    .dataframe tbody tr th {\n",
       "        vertical-align: top;\n",
       "    }\n",
       "\n",
       "    .dataframe thead th {\n",
       "        text-align: right;\n",
       "    }\n",
       "</style>\n",
       "<table border=\"1\" class=\"dataframe\">\n",
       "  <thead>\n",
       "    <tr style=\"text-align: right;\">\n",
       "      <th></th>\n",
       "      <th>number_of_requests</th>\n",
       "      <th>number_of_errors</th>\n",
       "      <th>response_time</th>\n",
       "      <th>cpu_cores</th>\n",
       "      <th>memory_usage</th>\n",
       "      <th>cpu_usage</th>\n",
       "    </tr>\n",
       "  </thead>\n",
       "  <tbody>\n",
       "    <tr>\n",
       "      <th>number_of_requests</th>\n",
       "      <td>1.000000</td>\n",
       "      <td>0.386609</td>\n",
       "      <td>0.730648</td>\n",
       "      <td>0.840201</td>\n",
       "      <td>0.000867</td>\n",
       "      <td>0.364691</td>\n",
       "    </tr>\n",
       "    <tr>\n",
       "      <th>number_of_errors</th>\n",
       "      <td>0.386609</td>\n",
       "      <td>1.000000</td>\n",
       "      <td>0.205799</td>\n",
       "      <td>0.224862</td>\n",
       "      <td>0.007733</td>\n",
       "      <td>0.533335</td>\n",
       "    </tr>\n",
       "    <tr>\n",
       "      <th>response_time</th>\n",
       "      <td>0.730648</td>\n",
       "      <td>0.205799</td>\n",
       "      <td>1.000000</td>\n",
       "      <td>0.832045</td>\n",
       "      <td>0.000957</td>\n",
       "      <td>0.183187</td>\n",
       "    </tr>\n",
       "    <tr>\n",
       "      <th>cpu_cores</th>\n",
       "      <td>0.840201</td>\n",
       "      <td>0.224862</td>\n",
       "      <td>0.832045</td>\n",
       "      <td>1.000000</td>\n",
       "      <td>-0.001027</td>\n",
       "      <td>0.106763</td>\n",
       "    </tr>\n",
       "    <tr>\n",
       "      <th>memory_usage</th>\n",
       "      <td>0.000867</td>\n",
       "      <td>0.007733</td>\n",
       "      <td>0.000957</td>\n",
       "      <td>-0.001027</td>\n",
       "      <td>1.000000</td>\n",
       "      <td>0.008249</td>\n",
       "    </tr>\n",
       "    <tr>\n",
       "      <th>cpu_usage</th>\n",
       "      <td>0.364691</td>\n",
       "      <td>0.533335</td>\n",
       "      <td>0.183187</td>\n",
       "      <td>0.106763</td>\n",
       "      <td>0.008249</td>\n",
       "      <td>1.000000</td>\n",
       "    </tr>\n",
       "  </tbody>\n",
       "</table>\n",
       "</div>"
      ],
      "text/plain": [
       "                    number_of_requests  number_of_errors  response_time  \\\n",
       "number_of_requests            1.000000          0.386609       0.730648   \n",
       "number_of_errors              0.386609          1.000000       0.205799   \n",
       "response_time                 0.730648          0.205799       1.000000   \n",
       "cpu_cores                     0.840201          0.224862       0.832045   \n",
       "memory_usage                  0.000867          0.007733       0.000957   \n",
       "cpu_usage                     0.364691          0.533335       0.183187   \n",
       "\n",
       "                    cpu_cores  memory_usage  cpu_usage  \n",
       "number_of_requests   0.840201      0.000867   0.364691  \n",
       "number_of_errors     0.224862      0.007733   0.533335  \n",
       "response_time        0.832045      0.000957   0.183187  \n",
       "cpu_cores            1.000000     -0.001027   0.106763  \n",
       "memory_usage        -0.001027      1.000000   0.008249  \n",
       "cpu_usage            0.106763      0.008249   1.000000  "
      ]
     },
     "execution_count": 24,
     "metadata": {},
     "output_type": "execute_result"
    }
   ],
   "source": [
    "traindata.corr()"
   ]
  },
  {
   "cell_type": "code",
   "execution_count": 25,
   "id": "7bb3b937",
   "metadata": {},
   "outputs": [],
   "source": [
    "#importovanie knižníc pre trénovanie a vytvorenie modelov strojového učenia"
   ]
  },
  {
   "cell_type": "code",
   "execution_count": 26,
   "id": "916aed36",
   "metadata": {},
   "outputs": [],
   "source": [
    "from sklearn.model_selection import train_test_split\n",
    "from sklearn import svm, metrics\n",
    "from sklearn.tree import DecisionTreeRegressor\n",
    "from sklearn.svm import SVR\n",
    "from sklearn.metrics import mean_squared_error\n",
    "from sklearn.svm import LinearSVR\n",
    "from sklearn.neighbors import KNeighborsRegressor"
   ]
  },
  {
   "cell_type": "code",
   "execution_count": 27,
   "id": "24bafc9c",
   "metadata": {},
   "outputs": [],
   "source": [
    "#rozdelenie dát na testovaciu a trénovaciu množinu \n",
    "#(trénujeme iba s atribútmi number_of_errors a number_of_requests kvôli najvyššej korelácii)\n",
    "#pri pridaní tretieho najviac korelovaného atribútu (response_time) sa mi zhoršila presnosť modelov"
   ]
  },
  {
   "cell_type": "code",
   "execution_count": 28,
   "id": "05812aea",
   "metadata": {},
   "outputs": [],
   "source": [
    "X_train, X_test, y_train, y_test = train_test_split(train2[['number_of_errors', 'number_of_requests']], train2.cpu_usage, test_size=0.2,random_state=109)"
   ]
  },
  {
   "cell_type": "code",
   "execution_count": null,
   "id": "2545649d",
   "metadata": {},
   "outputs": [],
   "source": [
    "#1. model - rbf"
   ]
  },
  {
   "cell_type": "code",
   "execution_count": 29,
   "id": "8b93cf21",
   "metadata": {},
   "outputs": [],
   "source": [
    "regressor = SVR(kernel = \"rbf\")"
   ]
  },
  {
   "cell_type": "code",
   "execution_count": 30,
   "id": "be66ce40",
   "metadata": {},
   "outputs": [
    {
     "data": {
      "text/plain": [
       "SVR()"
      ]
     },
     "execution_count": 30,
     "metadata": {},
     "output_type": "execute_result"
    }
   ],
   "source": [
    "regressor.fit(X_train, y_train)"
   ]
  },
  {
   "cell_type": "code",
   "execution_count": 31,
   "id": "35f2c93d",
   "metadata": {},
   "outputs": [],
   "source": [
    "y_pred = regressor.predict(X_test)"
   ]
  },
  {
   "cell_type": "code",
   "execution_count": 32,
   "id": "9f198b41",
   "metadata": {},
   "outputs": [
    {
     "data": {
      "text/plain": [
       "5.684868309717419"
      ]
     },
     "execution_count": 32,
     "metadata": {},
     "output_type": "execute_result"
    }
   ],
   "source": [
    "mean_squared_error(y_test, y_pred, squared=False)"
   ]
  },
  {
   "cell_type": "code",
   "execution_count": null,
   "id": "44f9d25c",
   "metadata": {},
   "outputs": [],
   "source": [
    "#4. model - KNN (k-nearest neighbours)"
   ]
  },
  {
   "cell_type": "code",
   "execution_count": 33,
   "id": "64198512",
   "metadata": {},
   "outputs": [],
   "source": [
    "KNN_model = KNeighborsRegressor(n_neighbors=3).fit(X_train,y_train)"
   ]
  },
  {
   "cell_type": "code",
   "execution_count": 34,
   "id": "03b1b9e5",
   "metadata": {},
   "outputs": [],
   "source": [
    "KNN_predict = KNN_model.predict(X_test)"
   ]
  },
  {
   "cell_type": "code",
   "execution_count": 35,
   "id": "0d751de3",
   "metadata": {},
   "outputs": [
    {
     "data": {
      "text/plain": [
       "5.067008290610775"
      ]
     },
     "execution_count": 35,
     "metadata": {},
     "output_type": "execute_result"
    }
   ],
   "source": [
    "mean_squared_error(y_test, KNN_predict, squared=False)"
   ]
  },
  {
   "cell_type": "code",
   "execution_count": null,
   "id": "948f0fda",
   "metadata": {},
   "outputs": [],
   "source": []
  },
  {
   "cell_type": "code",
   "execution_count": 36,
   "id": "947734fc",
   "metadata": {},
   "outputs": [],
   "source": [
    "testdata['cpu_usage'] = KNN_model.predict(testdata[['number_of_errors', 'number_of_requests']])"
   ]
  },
  {
   "cell_type": "code",
   "execution_count": 37,
   "id": "a8cf056d",
   "metadata": {},
   "outputs": [
    {
     "data": {
      "text/html": [
       "<div>\n",
       "<style scoped>\n",
       "    .dataframe tbody tr th:only-of-type {\n",
       "        vertical-align: middle;\n",
       "    }\n",
       "\n",
       "    .dataframe tbody tr th {\n",
       "        vertical-align: top;\n",
       "    }\n",
       "\n",
       "    .dataframe thead th {\n",
       "        text-align: right;\n",
       "    }\n",
       "</style>\n",
       "<table border=\"1\" class=\"dataframe\">\n",
       "  <thead>\n",
       "    <tr style=\"text-align: right;\">\n",
       "      <th></th>\n",
       "      <th>Unnamed: 0</th>\n",
       "      <th>timestamp</th>\n",
       "      <th>number_of_requests</th>\n",
       "      <th>number_of_errors</th>\n",
       "      <th>response_time</th>\n",
       "      <th>cpu_cores</th>\n",
       "      <th>memory_usage</th>\n",
       "      <th>cpu_usage</th>\n",
       "    </tr>\n",
       "  </thead>\n",
       "  <tbody>\n",
       "    <tr>\n",
       "      <th>0</th>\n",
       "      <td>51601</td>\n",
       "      <td>2022-01-25 16:52:27</td>\n",
       "      <td>6013</td>\n",
       "      <td>1.0</td>\n",
       "      <td>13839.534811</td>\n",
       "      <td>6</td>\n",
       "      <td>0.332282</td>\n",
       "      <td>46.385686</td>\n",
       "    </tr>\n",
       "    <tr>\n",
       "      <th>1</th>\n",
       "      <td>51602</td>\n",
       "      <td>2022-01-25 16:52:32</td>\n",
       "      <td>8834</td>\n",
       "      <td>0.0</td>\n",
       "      <td>14657.609451</td>\n",
       "      <td>6</td>\n",
       "      <td>0.931217</td>\n",
       "      <td>48.686414</td>\n",
       "    </tr>\n",
       "    <tr>\n",
       "      <th>2</th>\n",
       "      <td>51603</td>\n",
       "      <td>2022-01-25 16:52:37</td>\n",
       "      <td>7971</td>\n",
       "      <td>0.0</td>\n",
       "      <td>14137.221618</td>\n",
       "      <td>6</td>\n",
       "      <td>0.803488</td>\n",
       "      <td>47.457597</td>\n",
       "    </tr>\n",
       "    <tr>\n",
       "      <th>3</th>\n",
       "      <td>51604</td>\n",
       "      <td>2022-01-25 16:52:42</td>\n",
       "      <td>7653</td>\n",
       "      <td>0.0</td>\n",
       "      <td>14257.821995</td>\n",
       "      <td>6</td>\n",
       "      <td>0.486343</td>\n",
       "      <td>48.605812</td>\n",
       "    </tr>\n",
       "    <tr>\n",
       "      <th>4</th>\n",
       "      <td>51605</td>\n",
       "      <td>2022-01-25 16:52:47</td>\n",
       "      <td>7313</td>\n",
       "      <td>0.0</td>\n",
       "      <td>14281.586371</td>\n",
       "      <td>6</td>\n",
       "      <td>0.369045</td>\n",
       "      <td>48.077256</td>\n",
       "    </tr>\n",
       "    <tr>\n",
       "      <th>...</th>\n",
       "      <td>...</td>\n",
       "      <td>...</td>\n",
       "      <td>...</td>\n",
       "      <td>...</td>\n",
       "      <td>...</td>\n",
       "      <td>...</td>\n",
       "      <td>...</td>\n",
       "      <td>...</td>\n",
       "    </tr>\n",
       "    <tr>\n",
       "      <th>17195</th>\n",
       "      <td>68796</td>\n",
       "      <td>2022-01-26 16:45:22</td>\n",
       "      <td>6401</td>\n",
       "      <td>0.0</td>\n",
       "      <td>13977.819765</td>\n",
       "      <td>6</td>\n",
       "      <td>0.863818</td>\n",
       "      <td>47.669657</td>\n",
       "    </tr>\n",
       "    <tr>\n",
       "      <th>17196</th>\n",
       "      <td>68797</td>\n",
       "      <td>2022-01-26 16:45:27</td>\n",
       "      <td>6525</td>\n",
       "      <td>1.0</td>\n",
       "      <td>14401.515182</td>\n",
       "      <td>6</td>\n",
       "      <td>0.300279</td>\n",
       "      <td>48.401911</td>\n",
       "    </tr>\n",
       "    <tr>\n",
       "      <th>17197</th>\n",
       "      <td>68798</td>\n",
       "      <td>2022-01-26 16:45:32</td>\n",
       "      <td>8342</td>\n",
       "      <td>2.0</td>\n",
       "      <td>14782.197038</td>\n",
       "      <td>6</td>\n",
       "      <td>0.165270</td>\n",
       "      <td>49.559939</td>\n",
       "    </tr>\n",
       "    <tr>\n",
       "      <th>17198</th>\n",
       "      <td>68799</td>\n",
       "      <td>2022-01-26 16:45:37</td>\n",
       "      <td>5355</td>\n",
       "      <td>1.0</td>\n",
       "      <td>14421.113212</td>\n",
       "      <td>6</td>\n",
       "      <td>0.377384</td>\n",
       "      <td>45.635336</td>\n",
       "    </tr>\n",
       "    <tr>\n",
       "      <th>17199</th>\n",
       "      <td>68800</td>\n",
       "      <td>2022-01-26 16:45:42</td>\n",
       "      <td>6476</td>\n",
       "      <td>0.0</td>\n",
       "      <td>14714.010527</td>\n",
       "      <td>6</td>\n",
       "      <td>0.714845</td>\n",
       "      <td>48.155284</td>\n",
       "    </tr>\n",
       "  </tbody>\n",
       "</table>\n",
       "<p>17200 rows × 8 columns</p>\n",
       "</div>"
      ],
      "text/plain": [
       "       Unnamed: 0            timestamp  number_of_requests  number_of_errors  \\\n",
       "0           51601  2022-01-25 16:52:27                6013               1.0   \n",
       "1           51602  2022-01-25 16:52:32                8834               0.0   \n",
       "2           51603  2022-01-25 16:52:37                7971               0.0   \n",
       "3           51604  2022-01-25 16:52:42                7653               0.0   \n",
       "4           51605  2022-01-25 16:52:47                7313               0.0   \n",
       "...           ...                  ...                 ...               ...   \n",
       "17195       68796  2022-01-26 16:45:22                6401               0.0   \n",
       "17196       68797  2022-01-26 16:45:27                6525               1.0   \n",
       "17197       68798  2022-01-26 16:45:32                8342               2.0   \n",
       "17198       68799  2022-01-26 16:45:37                5355               1.0   \n",
       "17199       68800  2022-01-26 16:45:42                6476               0.0   \n",
       "\n",
       "       response_time  cpu_cores  memory_usage  cpu_usage  \n",
       "0       13839.534811          6      0.332282  46.385686  \n",
       "1       14657.609451          6      0.931217  48.686414  \n",
       "2       14137.221618          6      0.803488  47.457597  \n",
       "3       14257.821995          6      0.486343  48.605812  \n",
       "4       14281.586371          6      0.369045  48.077256  \n",
       "...              ...        ...           ...        ...  \n",
       "17195   13977.819765          6      0.863818  47.669657  \n",
       "17196   14401.515182          6      0.300279  48.401911  \n",
       "17197   14782.197038          6      0.165270  49.559939  \n",
       "17198   14421.113212          6      0.377384  45.635336  \n",
       "17199   14714.010527          6      0.714845  48.155284  \n",
       "\n",
       "[17200 rows x 8 columns]"
      ]
     },
     "execution_count": 37,
     "metadata": {},
     "output_type": "execute_result"
    }
   ],
   "source": [
    "testdata"
   ]
  },
  {
   "cell_type": "code",
   "execution_count": null,
   "id": "da5e7743",
   "metadata": {},
   "outputs": [],
   "source": []
  }
 ],
 "metadata": {
  "kernelspec": {
   "display_name": "Python 3 (ipykernel)",
   "language": "python",
   "name": "python3"
  },
  "language_info": {
   "codemirror_mode": {
    "name": "ipython",
    "version": 3
   },
   "file_extension": ".py",
   "mimetype": "text/x-python",
   "name": "python",
   "nbconvert_exporter": "python",
   "pygments_lexer": "ipython3",
   "version": "3.9.5"
  }
 },
 "nbformat": 4,
 "nbformat_minor": 5
}
