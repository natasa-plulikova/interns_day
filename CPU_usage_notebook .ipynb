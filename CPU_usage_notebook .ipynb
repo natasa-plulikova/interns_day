{
 "cells": [
  {
   "cell_type": "markdown",
   "id": "4d72d7c9-ecef-4785-b2bd-a0891338bb4b",
   "metadata": {},
   "source": [
    "# AI based resource scaling"
   ]
  },
  {
   "cell_type": "markdown",
   "id": "a40b52af-e9bf-424a-88c6-4ebb0c46dbed",
   "metadata": {},
   "source": [
    "## Case scenario"
   ]
  },
  {
   "cell_type": "markdown",
   "id": "b0e722a7-ff8b-4eee-b733-5e3fd54325fc",
   "metadata": {},
   "source": [
    "You and your team have been assigned to a project. The business idea is to reduce carbon footprint by saving resources. Your initial investigation shows, that majority of applications that are deployed on Cloud have high and low traffic hours, but the resources are set to support the peak times. That means there are hours when the allocated resources to the application are not utilized.\n",
    "\n",
    "You want to develop a model which will allow automatic scaling of these resources. For that purpose, your machine learning model should correctly predict the CPU usage."
   ]
  },
  {
   "cell_type": "markdown",
   "id": "a01eddf4-4898-4f06-baa8-0eb32d2e7e7f",
   "metadata": {},
   "source": [
    "## Data"
   ]
  },
  {
   "cell_type": "markdown",
   "id": "02a2a8a1-1ab2-44b3-97ed-ed70c29c7678",
   "metadata": {},
   "source": [
    "The extract of the data for a sample application was provided to you. In the `data` folder you will find 2 files: `train.csv` and `test.csv`. You should conduct your exploration and model building on the `train.csv` file.\n",
    "Once you are happy with the model, use the `test.csv` file to predict the `cpu_usage`. You should store your predictions in a new csv file which will be called `<your_name>.csv`. The new file should have the following attributes:\n",
    "- `id` column\n",
    "- `timestamp` column\n",
    "- `cpu_usage` column which should hold your predictions"
   ]
  },
  {
   "cell_type": "markdown",
   "id": "30be9c7b-428b-4882-a94f-b65b61a94aff",
   "metadata": {},
   "source": [
    "### Data explanation"
   ]
  },
  {
   "cell_type": "markdown",
   "id": "ccde4c1e-3cf2-4d38-af8a-c08a00bdfbdc",
   "metadata": {},
   "source": [
    "- `id` - identifier of the record\n",
    "- `timestamp` - timestamp in the format YYYY-MM-DD HH-MM-SS\n",
    "- `number_of_requests` - number of requests the application received in the given time\n",
    "- `number_of_errors` - number of errors that the application logged in the given time\n",
    "- `response_time` - cummulative time the application took to respond to a request, in miliseconds\n",
    "- `cpu_cores` - number of CPU cores allocated to the application at a given time (maximum 8 are available)\n",
    "- `memory_usage` - memory allocation in a given time, in percent\n",
    "- `cpu_usage` - cpu allocation in a given time, in percent"
   ]
  },
  {
   "cell_type": "markdown",
   "id": "24110c8e-2eb2-4db1-ba12-d24f6ef5c928",
   "metadata": {},
   "source": [
    "## Your delivery"
   ]
  },
  {
   "cell_type": "markdown",
   "id": "c24c9ae1-eda2-4bdb-bfda-dd2e5589a36a",
   "metadata": {},
   "source": [
    "At the end of the day, you should provide us with your code in which you demonstrate that you followed these steps:\n",
    "1. Data load\n",
    "2. Data cleaning\n",
    "3. Data Exploration\n",
    "4. Data Modeling and validation\n",
    "5. Prediction\n",
    "\n",
    "The submission should be done as a pull request (PR) on github to this repository. **Please use branch with your name (not main branch)**. The PR should contain the `<your_name>.csv` file stored in the `data` folder and your code stored either in a jupyter notebook or python module.\n",
    "We have prepared this notebook to help you with the exercise however you are not obliged to use it."
   ]
  },
  {
   "cell_type": "markdown",
   "id": "64fd7781",
   "metadata": {},
   "source": [
    "### IMPORTS"
   ]
  },
  {
   "cell_type": "code",
   "execution_count": 70,
   "id": "ab2f25fd",
   "metadata": {},
   "outputs": [],
   "source": [
    "import pandas as pd \n",
    "import os\n",
    "import numpy as np\n",
    "import matplotlib.pyplot as plt\n",
    "import seaborn as sns\n",
    "\n",
    "from sklearn.datasets import make_classification\n",
    "from sklearn.feature_selection import SelectKBest\n",
    "from sklearn.feature_selection import f_classif\n",
    "from sklearn.preprocessing import MinMaxScaler\n",
    "from sklearn.model_selection import train_test_split, cross_val_score\n",
    "from sklearn.ensemble import RandomForestRegressor\n",
    "\n",
    "from sklearn.metrics import accuracy_score, confusion_matrix\n",
    "from sklearn.linear_model import LinearRegression\n",
    "from sklearn.ensemble import RandomForestClassifier\n",
    "from sklearn import svm, tree\n",
    "from xgboost import XGBRegressor\n",
    "\n",
    "\n",
    "from sklearn.metrics import mean_squared_error,mean_absolute_error \n",
    "from sklearn.metrics import mean_absolute_percentage_error\n",
    "\n",
    "\n",
    "from keras.models import Sequential\n",
    "from keras.layers import Dense\n",
    "from keras.wrappers.scikit_learn import KerasRegressor\n",
    "from sklearn.model_selection import cross_val_score\n",
    "from sklearn.model_selection import KFold\n",
    "from sklearn.preprocessing import StandardScaler\n",
    "from sklearn.pipeline import Pipeline"
   ]
  },
  {
   "cell_type": "markdown",
   "id": "6dd14d97",
   "metadata": {},
   "source": [
    "### LOADING DATA "
   ]
  },
  {
   "cell_type": "code",
   "execution_count": 3,
   "id": "956b6847",
   "metadata": {},
   "outputs": [],
   "source": [
    "train = pd.read_csv('train.csv',parse_dates = True)\n",
    "test =  pd.read_csv('test.csv',parse_dates = True)"
   ]
  },
  {
   "cell_type": "markdown",
   "id": "e9f867af",
   "metadata": {},
   "source": [
    "### Data exploration "
   ]
  },
  {
   "cell_type": "code",
   "execution_count": 4,
   "id": "8b7c12cf",
   "metadata": {},
   "outputs": [
    {
     "name": "stdout",
     "output_type": "stream",
     "text": [
      "<class 'pandas.core.frame.DataFrame'>\n",
      "RangeIndex: 51601 entries, 0 to 51600\n",
      "Data columns (total 8 columns):\n",
      " #   Column              Non-Null Count  Dtype  \n",
      "---  ------              --------------  -----  \n",
      " 0   id                  51601 non-null  int64  \n",
      " 1   timestamp           51601 non-null  object \n",
      " 2   number_of_requests  51601 non-null  int64  \n",
      " 3   number_of_errors    51601 non-null  float64\n",
      " 4   response_time       51601 non-null  float64\n",
      " 5   cpu_cores           51601 non-null  int64  \n",
      " 6   memory_usage        51601 non-null  float64\n",
      " 7   cpu_usage           51601 non-null  float64\n",
      "dtypes: float64(4), int64(3), object(1)\n",
      "memory usage: 3.1+ MB\n"
     ]
    }
   ],
   "source": [
    "train.info()"
   ]
  },
  {
   "cell_type": "code",
   "execution_count": 5,
   "id": "df1b53d9",
   "metadata": {},
   "outputs": [
    {
     "data": {
      "text/plain": [
       "(51601, 8)"
      ]
     },
     "execution_count": 5,
     "metadata": {},
     "output_type": "execute_result"
    }
   ],
   "source": [
    "train.shape"
   ]
  },
  {
   "cell_type": "code",
   "execution_count": 6,
   "id": "85650e35",
   "metadata": {},
   "outputs": [
    {
     "data": {
      "text/html": [
       "<div>\n",
       "<style scoped>\n",
       "    .dataframe tbody tr th:only-of-type {\n",
       "        vertical-align: middle;\n",
       "    }\n",
       "\n",
       "    .dataframe tbody tr th {\n",
       "        vertical-align: top;\n",
       "    }\n",
       "\n",
       "    .dataframe thead th {\n",
       "        text-align: right;\n",
       "    }\n",
       "</style>\n",
       "<table border=\"1\" class=\"dataframe\">\n",
       "  <thead>\n",
       "    <tr style=\"text-align: right;\">\n",
       "      <th></th>\n",
       "      <th>id</th>\n",
       "      <th>timestamp</th>\n",
       "      <th>number_of_requests</th>\n",
       "      <th>number_of_errors</th>\n",
       "      <th>response_time</th>\n",
       "      <th>cpu_cores</th>\n",
       "      <th>memory_usage</th>\n",
       "      <th>cpu_usage</th>\n",
       "    </tr>\n",
       "  </thead>\n",
       "  <tbody>\n",
       "    <tr>\n",
       "      <th>0</th>\n",
       "      <td>0</td>\n",
       "      <td>2022-01-22 17:12:22</td>\n",
       "      <td>9758</td>\n",
       "      <td>0.0</td>\n",
       "      <td>14742.755324</td>\n",
       "      <td>6</td>\n",
       "      <td>0.347599</td>\n",
       "      <td>48.498589</td>\n",
       "    </tr>\n",
       "    <tr>\n",
       "      <th>1</th>\n",
       "      <td>1</td>\n",
       "      <td>2022-01-22 17:12:27</td>\n",
       "      <td>9967</td>\n",
       "      <td>2.0</td>\n",
       "      <td>14897.201621</td>\n",
       "      <td>6</td>\n",
       "      <td>0.756413</td>\n",
       "      <td>53.355349</td>\n",
       "    </tr>\n",
       "    <tr>\n",
       "      <th>2</th>\n",
       "      <td>2</td>\n",
       "      <td>2022-01-22 17:12:32</td>\n",
       "      <td>5210</td>\n",
       "      <td>1.0</td>\n",
       "      <td>14009.132817</td>\n",
       "      <td>6</td>\n",
       "      <td>0.698468</td>\n",
       "      <td>46.573140</td>\n",
       "    </tr>\n",
       "    <tr>\n",
       "      <th>3</th>\n",
       "      <td>3</td>\n",
       "      <td>2022-01-22 17:12:37</td>\n",
       "      <td>7361</td>\n",
       "      <td>1.0</td>\n",
       "      <td>14716.491537</td>\n",
       "      <td>6</td>\n",
       "      <td>0.137349</td>\n",
       "      <td>46.624516</td>\n",
       "    </tr>\n",
       "    <tr>\n",
       "      <th>4</th>\n",
       "      <td>4</td>\n",
       "      <td>2022-01-22 17:12:42</td>\n",
       "      <td>9667</td>\n",
       "      <td>0.0</td>\n",
       "      <td>15148.657690</td>\n",
       "      <td>6</td>\n",
       "      <td>0.157933</td>\n",
       "      <td>49.455284</td>\n",
       "    </tr>\n",
       "    <tr>\n",
       "      <th>5</th>\n",
       "      <td>5</td>\n",
       "      <td>2022-01-22 17:12:47</td>\n",
       "      <td>9036</td>\n",
       "      <td>1.0</td>\n",
       "      <td>15018.478985</td>\n",
       "      <td>6</td>\n",
       "      <td>0.179469</td>\n",
       "      <td>50.993088</td>\n",
       "    </tr>\n",
       "    <tr>\n",
       "      <th>6</th>\n",
       "      <td>6</td>\n",
       "      <td>2022-01-22 17:12:52</td>\n",
       "      <td>6702</td>\n",
       "      <td>1.0</td>\n",
       "      <td>13949.745742</td>\n",
       "      <td>6</td>\n",
       "      <td>0.913810</td>\n",
       "      <td>46.829059</td>\n",
       "    </tr>\n",
       "    <tr>\n",
       "      <th>7</th>\n",
       "      <td>7</td>\n",
       "      <td>2022-01-22 17:12:57</td>\n",
       "      <td>8591</td>\n",
       "      <td>0.0</td>\n",
       "      <td>14187.883403</td>\n",
       "      <td>6</td>\n",
       "      <td>0.972644</td>\n",
       "      <td>49.235006</td>\n",
       "    </tr>\n",
       "    <tr>\n",
       "      <th>8</th>\n",
       "      <td>8</td>\n",
       "      <td>2022-01-22 17:13:02</td>\n",
       "      <td>7916</td>\n",
       "      <td>0.0</td>\n",
       "      <td>14341.466056</td>\n",
       "      <td>6</td>\n",
       "      <td>0.646286</td>\n",
       "      <td>48.021224</td>\n",
       "    </tr>\n",
       "    <tr>\n",
       "      <th>9</th>\n",
       "      <td>9</td>\n",
       "      <td>2022-01-22 17:13:07</td>\n",
       "      <td>8718</td>\n",
       "      <td>0.0</td>\n",
       "      <td>14522.217863</td>\n",
       "      <td>6</td>\n",
       "      <td>0.806290</td>\n",
       "      <td>47.907288</td>\n",
       "    </tr>\n",
       "    <tr>\n",
       "      <th>10</th>\n",
       "      <td>10</td>\n",
       "      <td>2022-01-22 17:13:12</td>\n",
       "      <td>9445</td>\n",
       "      <td>2.0</td>\n",
       "      <td>14624.272555</td>\n",
       "      <td>6</td>\n",
       "      <td>0.823467</td>\n",
       "      <td>51.499927</td>\n",
       "    </tr>\n",
       "    <tr>\n",
       "      <th>11</th>\n",
       "      <td>11</td>\n",
       "      <td>2022-01-22 17:13:17</td>\n",
       "      <td>6294</td>\n",
       "      <td>0.0</td>\n",
       "      <td>14242.054246</td>\n",
       "      <td>6</td>\n",
       "      <td>0.194849</td>\n",
       "      <td>48.808814</td>\n",
       "    </tr>\n",
       "    <tr>\n",
       "      <th>12</th>\n",
       "      <td>12</td>\n",
       "      <td>2022-01-22 17:13:22</td>\n",
       "      <td>6193</td>\n",
       "      <td>0.0</td>\n",
       "      <td>14571.522951</td>\n",
       "      <td>6</td>\n",
       "      <td>0.384337</td>\n",
       "      <td>49.079583</td>\n",
       "    </tr>\n",
       "    <tr>\n",
       "      <th>13</th>\n",
       "      <td>13</td>\n",
       "      <td>2022-01-22 17:13:27</td>\n",
       "      <td>5639</td>\n",
       "      <td>1.0</td>\n",
       "      <td>14119.314802</td>\n",
       "      <td>6</td>\n",
       "      <td>0.327152</td>\n",
       "      <td>47.022142</td>\n",
       "    </tr>\n",
       "    <tr>\n",
       "      <th>14</th>\n",
       "      <td>14</td>\n",
       "      <td>2022-01-22 17:13:32</td>\n",
       "      <td>7366</td>\n",
       "      <td>0.0</td>\n",
       "      <td>14041.783376</td>\n",
       "      <td>6</td>\n",
       "      <td>0.140117</td>\n",
       "      <td>47.747359</td>\n",
       "    </tr>\n",
       "    <tr>\n",
       "      <th>15</th>\n",
       "      <td>15</td>\n",
       "      <td>2022-01-22 17:13:37</td>\n",
       "      <td>8317</td>\n",
       "      <td>0.0</td>\n",
       "      <td>14135.876192</td>\n",
       "      <td>6</td>\n",
       "      <td>0.127824</td>\n",
       "      <td>48.938409</td>\n",
       "    </tr>\n",
       "    <tr>\n",
       "      <th>16</th>\n",
       "      <td>16</td>\n",
       "      <td>2022-01-22 17:13:42</td>\n",
       "      <td>7967</td>\n",
       "      <td>1.0</td>\n",
       "      <td>14861.177484</td>\n",
       "      <td>6</td>\n",
       "      <td>0.270059</td>\n",
       "      <td>47.678296</td>\n",
       "    </tr>\n",
       "    <tr>\n",
       "      <th>17</th>\n",
       "      <td>17</td>\n",
       "      <td>2022-01-22 17:13:47</td>\n",
       "      <td>9173</td>\n",
       "      <td>0.0</td>\n",
       "      <td>14747.101761</td>\n",
       "      <td>6</td>\n",
       "      <td>0.080185</td>\n",
       "      <td>48.729407</td>\n",
       "    </tr>\n",
       "    <tr>\n",
       "      <th>18</th>\n",
       "      <td>18</td>\n",
       "      <td>2022-01-22 17:13:52</td>\n",
       "      <td>9024</td>\n",
       "      <td>2.0</td>\n",
       "      <td>14941.570538</td>\n",
       "      <td>6</td>\n",
       "      <td>0.756232</td>\n",
       "      <td>51.384645</td>\n",
       "    </tr>\n",
       "    <tr>\n",
       "      <th>19</th>\n",
       "      <td>19</td>\n",
       "      <td>2022-01-22 17:13:57</td>\n",
       "      <td>6373</td>\n",
       "      <td>0.0</td>\n",
       "      <td>14140.277416</td>\n",
       "      <td>6</td>\n",
       "      <td>0.080566</td>\n",
       "      <td>47.591632</td>\n",
       "    </tr>\n",
       "  </tbody>\n",
       "</table>\n",
       "</div>"
      ],
      "text/plain": [
       "    id            timestamp  number_of_requests  number_of_errors  \\\n",
       "0    0  2022-01-22 17:12:22                9758               0.0   \n",
       "1    1  2022-01-22 17:12:27                9967               2.0   \n",
       "2    2  2022-01-22 17:12:32                5210               1.0   \n",
       "3    3  2022-01-22 17:12:37                7361               1.0   \n",
       "4    4  2022-01-22 17:12:42                9667               0.0   \n",
       "5    5  2022-01-22 17:12:47                9036               1.0   \n",
       "6    6  2022-01-22 17:12:52                6702               1.0   \n",
       "7    7  2022-01-22 17:12:57                8591               0.0   \n",
       "8    8  2022-01-22 17:13:02                7916               0.0   \n",
       "9    9  2022-01-22 17:13:07                8718               0.0   \n",
       "10  10  2022-01-22 17:13:12                9445               2.0   \n",
       "11  11  2022-01-22 17:13:17                6294               0.0   \n",
       "12  12  2022-01-22 17:13:22                6193               0.0   \n",
       "13  13  2022-01-22 17:13:27                5639               1.0   \n",
       "14  14  2022-01-22 17:13:32                7366               0.0   \n",
       "15  15  2022-01-22 17:13:37                8317               0.0   \n",
       "16  16  2022-01-22 17:13:42                7967               1.0   \n",
       "17  17  2022-01-22 17:13:47                9173               0.0   \n",
       "18  18  2022-01-22 17:13:52                9024               2.0   \n",
       "19  19  2022-01-22 17:13:57                6373               0.0   \n",
       "\n",
       "    response_time  cpu_cores  memory_usage  cpu_usage  \n",
       "0    14742.755324          6      0.347599  48.498589  \n",
       "1    14897.201621          6      0.756413  53.355349  \n",
       "2    14009.132817          6      0.698468  46.573140  \n",
       "3    14716.491537          6      0.137349  46.624516  \n",
       "4    15148.657690          6      0.157933  49.455284  \n",
       "5    15018.478985          6      0.179469  50.993088  \n",
       "6    13949.745742          6      0.913810  46.829059  \n",
       "7    14187.883403          6      0.972644  49.235006  \n",
       "8    14341.466056          6      0.646286  48.021224  \n",
       "9    14522.217863          6      0.806290  47.907288  \n",
       "10   14624.272555          6      0.823467  51.499927  \n",
       "11   14242.054246          6      0.194849  48.808814  \n",
       "12   14571.522951          6      0.384337  49.079583  \n",
       "13   14119.314802          6      0.327152  47.022142  \n",
       "14   14041.783376          6      0.140117  47.747359  \n",
       "15   14135.876192          6      0.127824  48.938409  \n",
       "16   14861.177484          6      0.270059  47.678296  \n",
       "17   14747.101761          6      0.080185  48.729407  \n",
       "18   14941.570538          6      0.756232  51.384645  \n",
       "19   14140.277416          6      0.080566  47.591632  "
      ]
     },
     "execution_count": 6,
     "metadata": {},
     "output_type": "execute_result"
    }
   ],
   "source": [
    "train.head(20)"
   ]
  },
  {
   "cell_type": "code",
   "execution_count": 7,
   "id": "d17d323d",
   "metadata": {},
   "outputs": [
    {
     "data": {
      "text/html": [
       "<div>\n",
       "<style scoped>\n",
       "    .dataframe tbody tr th:only-of-type {\n",
       "        vertical-align: middle;\n",
       "    }\n",
       "\n",
       "    .dataframe tbody tr th {\n",
       "        vertical-align: top;\n",
       "    }\n",
       "\n",
       "    .dataframe thead th {\n",
       "        text-align: right;\n",
       "    }\n",
       "</style>\n",
       "<table border=\"1\" class=\"dataframe\">\n",
       "  <thead>\n",
       "    <tr style=\"text-align: right;\">\n",
       "      <th></th>\n",
       "      <th>id</th>\n",
       "      <th>number_of_requests</th>\n",
       "      <th>number_of_errors</th>\n",
       "      <th>response_time</th>\n",
       "      <th>cpu_cores</th>\n",
       "      <th>memory_usage</th>\n",
       "      <th>cpu_usage</th>\n",
       "    </tr>\n",
       "  </thead>\n",
       "  <tbody>\n",
       "    <tr>\n",
       "      <th>id</th>\n",
       "      <td>1.000000</td>\n",
       "      <td>0.143198</td>\n",
       "      <td>0.038654</td>\n",
       "      <td>0.140227</td>\n",
       "      <td>0.177408</td>\n",
       "      <td>-0.002627</td>\n",
       "      <td>0.017952</td>\n",
       "    </tr>\n",
       "    <tr>\n",
       "      <th>number_of_requests</th>\n",
       "      <td>0.143198</td>\n",
       "      <td>1.000000</td>\n",
       "      <td>0.386609</td>\n",
       "      <td>0.730648</td>\n",
       "      <td>0.840201</td>\n",
       "      <td>0.000867</td>\n",
       "      <td>0.364691</td>\n",
       "    </tr>\n",
       "    <tr>\n",
       "      <th>number_of_errors</th>\n",
       "      <td>0.038654</td>\n",
       "      <td>0.386609</td>\n",
       "      <td>1.000000</td>\n",
       "      <td>0.205799</td>\n",
       "      <td>0.224862</td>\n",
       "      <td>0.007733</td>\n",
       "      <td>0.533335</td>\n",
       "    </tr>\n",
       "    <tr>\n",
       "      <th>response_time</th>\n",
       "      <td>0.140227</td>\n",
       "      <td>0.730648</td>\n",
       "      <td>0.205799</td>\n",
       "      <td>1.000000</td>\n",
       "      <td>0.832045</td>\n",
       "      <td>0.000957</td>\n",
       "      <td>0.183187</td>\n",
       "    </tr>\n",
       "    <tr>\n",
       "      <th>cpu_cores</th>\n",
       "      <td>0.177408</td>\n",
       "      <td>0.840201</td>\n",
       "      <td>0.224862</td>\n",
       "      <td>0.832045</td>\n",
       "      <td>1.000000</td>\n",
       "      <td>-0.001027</td>\n",
       "      <td>0.106763</td>\n",
       "    </tr>\n",
       "    <tr>\n",
       "      <th>memory_usage</th>\n",
       "      <td>-0.002627</td>\n",
       "      <td>0.000867</td>\n",
       "      <td>0.007733</td>\n",
       "      <td>0.000957</td>\n",
       "      <td>-0.001027</td>\n",
       "      <td>1.000000</td>\n",
       "      <td>0.008249</td>\n",
       "    </tr>\n",
       "    <tr>\n",
       "      <th>cpu_usage</th>\n",
       "      <td>0.017952</td>\n",
       "      <td>0.364691</td>\n",
       "      <td>0.533335</td>\n",
       "      <td>0.183187</td>\n",
       "      <td>0.106763</td>\n",
       "      <td>0.008249</td>\n",
       "      <td>1.000000</td>\n",
       "    </tr>\n",
       "  </tbody>\n",
       "</table>\n",
       "</div>"
      ],
      "text/plain": [
       "                          id  number_of_requests  number_of_errors  \\\n",
       "id                  1.000000            0.143198          0.038654   \n",
       "number_of_requests  0.143198            1.000000          0.386609   \n",
       "number_of_errors    0.038654            0.386609          1.000000   \n",
       "response_time       0.140227            0.730648          0.205799   \n",
       "cpu_cores           0.177408            0.840201          0.224862   \n",
       "memory_usage       -0.002627            0.000867          0.007733   \n",
       "cpu_usage           0.017952            0.364691          0.533335   \n",
       "\n",
       "                    response_time  cpu_cores  memory_usage  cpu_usage  \n",
       "id                       0.140227   0.177408     -0.002627   0.017952  \n",
       "number_of_requests       0.730648   0.840201      0.000867   0.364691  \n",
       "number_of_errors         0.205799   0.224862      0.007733   0.533335  \n",
       "response_time            1.000000   0.832045      0.000957   0.183187  \n",
       "cpu_cores                0.832045   1.000000     -0.001027   0.106763  \n",
       "memory_usage             0.000957  -0.001027      1.000000   0.008249  \n",
       "cpu_usage                0.183187   0.106763      0.008249   1.000000  "
      ]
     },
     "execution_count": 7,
     "metadata": {},
     "output_type": "execute_result"
    }
   ],
   "source": [
    "## finding correlection for the best features selection\n",
    "train.corr(method ='pearson')"
   ]
  },
  {
   "cell_type": "code",
   "execution_count": 8,
   "id": "4cee5f8d",
   "metadata": {},
   "outputs": [],
   "source": [
    "## memory_usage is not a very usefull feature in determining the cpu_usage \n",
    "## from the above it can be seen that cpu_usage is closely realated to number_of_errors and number_of_requests \n",
    "## the rest have significant low correlation i will drop memory_usage "
   ]
  },
  {
   "cell_type": "markdown",
   "id": "f2eda75b",
   "metadata": {},
   "source": [
    "### Data cleaning and Data visualization"
   ]
  },
  {
   "cell_type": "code",
   "execution_count": 9,
   "id": "9d9a40c0",
   "metadata": {},
   "outputs": [],
   "source": [
    "train_data = train.drop(['id','timestamp','memory_usage'], axis = 1)"
   ]
  },
  {
   "cell_type": "code",
   "execution_count": 10,
   "id": "bd0d06b2",
   "metadata": {},
   "outputs": [
    {
     "data": {
      "image/png": "[encoded data removed]",
      "text/plain": [
       "<Figure size 432x288 with 1 Axes>"
      ]
     },
     "metadata": {
      "needs_background": "light"
     },
     "output_type": "display_data"
    },
    {
     "data": {
      "image/png": "[encoded data removed]",
      "text/plain": [
       "<Figure size 432x288 with 1 Axes>"
      ]
     },
     "metadata": {
      "needs_background": "light"
     },
     "output_type": "display_data"
    },
    {
     "data": {
      "image/png": "[encoded data removed]",
      "text/plain": [
       "<Figure size 432x288 with 1 Axes>"
      ]
     },
     "metadata": {
      "needs_background": "light"
     },
     "output_type": "display_data"
    },
    {
     "data": {
      "image/png": "[encoded data removed]",
      "text/plain": [
       "<Figure size 432x288 with 1 Axes>"
      ]
     },
     "metadata": {
      "needs_background": "light"
     },
     "output_type": "display_data"
    },
    {
     "data": {
      "image/png": "[encoded data removed]",
      "text/plain": [
       "<Figure size 432x288 with 1 Axes>"
      ]
     },
     "metadata": {
      "needs_background": "light"
     },
     "output_type": "display_data"
    }
   ],
   "source": [
    "#data visualization\n",
    "for column in train_data:\n",
    "    sns.histplot(train_data[column], color='plum',  edgecolor=\"k\", linewidth=1)\n",
    "    plt.show()"
   ]
  },
  {
   "cell_type": "markdown",
   "id": "699482ab",
   "metadata": {},
   "source": [
    "#### ploting to see how each feature afftect our target"
   ]
  },
  {
   "cell_type": "code",
   "execution_count": 11,
   "id": "6d76801a",
   "metadata": {},
   "outputs": [],
   "source": [
    "## there is almost a linear corelation between number_of_requests and cpu_usage"
   ]
  },
  {
   "cell_type": "code",
   "execution_count": 12,
   "id": "a8f32452",
   "metadata": {},
   "outputs": [
    {
     "data": {
      "text/plain": [
       "Text(0, 0.5, 'cpu_usage')"
      ]
     },
     "execution_count": 12,
     "metadata": {},
     "output_type": "execute_result"
    },
    {
     "data": {
      "image/png": "[encoded data removed]",
      "text/plain": [
       "<Figure size 432x288 with 1 Axes>"
      ]
     },
     "metadata": {
      "needs_background": "light"
     },
     "output_type": "display_data"
    }
   ],
   "source": [
    "plt.scatter(train_data[\"number_of_requests\"], train_data[\"cpu_usage\"])\n",
    "plt.xlabel('number_of_requests')\n",
    "plt.ylabel('cpu_usage')\n"
   ]
  },
  {
   "cell_type": "code",
   "execution_count": 13,
   "id": "d9da5f1b",
   "metadata": {},
   "outputs": [],
   "source": [
    "##  the number_of_errors does affect cpu_usage until about  a certain value afterwhich its constant"
   ]
  },
  {
   "cell_type": "code",
   "execution_count": 14,
   "id": "5661e56c",
   "metadata": {},
   "outputs": [
    {
     "data": {
      "image/png": "[encoded data removed]",
      "text/plain": [
       "<Figure size 432x288 with 1 Axes>"
      ]
     },
     "metadata": {
      "needs_background": "light"
     },
     "output_type": "display_data"
    }
   ],
   "source": [
    "plt.scatter(train_data[\"number_of_errors\"], train_data[\"cpu_usage\"])\n",
    "plt.xlabel('number_of_errors')\n",
    "plt.ylabel('cpu_usage')\n",
    "plt.grid(True)"
   ]
  },
  {
   "cell_type": "code",
   "execution_count": 15,
   "id": "bbc45033",
   "metadata": {},
   "outputs": [],
   "source": [
    "## the response time seem to have low correlation and is almost random so i will remove it as a feature "
   ]
  },
  {
   "cell_type": "code",
   "execution_count": 16,
   "id": "19e4af61",
   "metadata": {},
   "outputs": [
    {
     "data": {
      "image/png": "[encoded data removed]",
      "text/plain": [
       "<Figure size 432x288 with 1 Axes>"
      ]
     },
     "metadata": {
      "needs_background": "light"
     },
     "output_type": "display_data"
    }
   ],
   "source": [
    "plt.scatter(train_data[\"response_time\"], train_data[\"cpu_usage\"])\n",
    "plt.xlabel('response_time')\n",
    "plt.ylabel('cpu_usage')\n",
    "plt.grid(True)"
   ]
  },
  {
   "cell_type": "code",
   "execution_count": 17,
   "id": "e30d2b7f",
   "metadata": {},
   "outputs": [
    {
     "data": {
      "image/png": "[encoded data removed]",
      "text/plain": [
       "<Figure size 432x288 with 1 Axes>"
      ]
     },
     "metadata": {
      "needs_background": "light"
     },
     "output_type": "display_data"
    }
   ],
   "source": [
    "plt.scatter(train_data[\"cpu_cores\"], train_data[\"cpu_usage\"])\n",
    "plt.xlabel('cpu_cores')\n",
    "plt.ylabel('cpu_usage')\n",
    "plt.grid(True)"
   ]
  },
  {
   "cell_type": "code",
   "execution_count": 18,
   "id": "1e04c019",
   "metadata": {},
   "outputs": [
    {
     "data": {
      "text/html": [
       "<div>\n",
       "<style scoped>\n",
       "    .dataframe tbody tr th:only-of-type {\n",
       "        vertical-align: middle;\n",
       "    }\n",
       "\n",
       "    .dataframe tbody tr th {\n",
       "        vertical-align: top;\n",
       "    }\n",
       "\n",
       "    .dataframe thead th {\n",
       "        text-align: right;\n",
       "    }\n",
       "</style>\n",
       "<table border=\"1\" class=\"dataframe\">\n",
       "  <thead>\n",
       "    <tr style=\"text-align: right;\">\n",
       "      <th></th>\n",
       "      <th>number_of_requests</th>\n",
       "      <th>number_of_errors</th>\n",
       "      <th>response_time</th>\n",
       "      <th>cpu_cores</th>\n",
       "      <th>cpu_usage</th>\n",
       "    </tr>\n",
       "  </thead>\n",
       "  <tbody>\n",
       "    <tr>\n",
       "      <th>0</th>\n",
       "      <td>9758</td>\n",
       "      <td>0.0</td>\n",
       "      <td>14742.755324</td>\n",
       "      <td>6</td>\n",
       "      <td>48.498589</td>\n",
       "    </tr>\n",
       "    <tr>\n",
       "      <th>1</th>\n",
       "      <td>9967</td>\n",
       "      <td>2.0</td>\n",
       "      <td>14897.201621</td>\n",
       "      <td>6</td>\n",
       "      <td>53.355349</td>\n",
       "    </tr>\n",
       "    <tr>\n",
       "      <th>2</th>\n",
       "      <td>5210</td>\n",
       "      <td>1.0</td>\n",
       "      <td>14009.132817</td>\n",
       "      <td>6</td>\n",
       "      <td>46.573140</td>\n",
       "    </tr>\n",
       "    <tr>\n",
       "      <th>3</th>\n",
       "      <td>7361</td>\n",
       "      <td>1.0</td>\n",
       "      <td>14716.491537</td>\n",
       "      <td>6</td>\n",
       "      <td>46.624516</td>\n",
       "    </tr>\n",
       "    <tr>\n",
       "      <th>4</th>\n",
       "      <td>9667</td>\n",
       "      <td>0.0</td>\n",
       "      <td>15148.657690</td>\n",
       "      <td>6</td>\n",
       "      <td>49.455284</td>\n",
       "    </tr>\n",
       "    <tr>\n",
       "      <th>...</th>\n",
       "      <td>...</td>\n",
       "      <td>...</td>\n",
       "      <td>...</td>\n",
       "      <td>...</td>\n",
       "      <td>...</td>\n",
       "    </tr>\n",
       "    <tr>\n",
       "      <th>51596</th>\n",
       "      <td>9303</td>\n",
       "      <td>2.0</td>\n",
       "      <td>14376.052495</td>\n",
       "      <td>6</td>\n",
       "      <td>51.684143</td>\n",
       "    </tr>\n",
       "    <tr>\n",
       "      <th>51597</th>\n",
       "      <td>5945</td>\n",
       "      <td>1.0</td>\n",
       "      <td>14373.898084</td>\n",
       "      <td>6</td>\n",
       "      <td>47.571840</td>\n",
       "    </tr>\n",
       "    <tr>\n",
       "      <th>51598</th>\n",
       "      <td>6959</td>\n",
       "      <td>1.0</td>\n",
       "      <td>14768.549663</td>\n",
       "      <td>6</td>\n",
       "      <td>47.585932</td>\n",
       "    </tr>\n",
       "    <tr>\n",
       "      <th>51599</th>\n",
       "      <td>8274</td>\n",
       "      <td>0.0</td>\n",
       "      <td>14352.171497</td>\n",
       "      <td>6</td>\n",
       "      <td>48.178243</td>\n",
       "    </tr>\n",
       "    <tr>\n",
       "      <th>51600</th>\n",
       "      <td>8571</td>\n",
       "      <td>2.0</td>\n",
       "      <td>14870.259551</td>\n",
       "      <td>6</td>\n",
       "      <td>51.371905</td>\n",
       "    </tr>\n",
       "  </tbody>\n",
       "</table>\n",
       "<p>51601 rows × 5 columns</p>\n",
       "</div>"
      ],
      "text/plain": [
       "       number_of_requests  number_of_errors  response_time  cpu_cores  \\\n",
       "0                    9758               0.0   14742.755324          6   \n",
       "1                    9967               2.0   14897.201621          6   \n",
       "2                    5210               1.0   14009.132817          6   \n",
       "3                    7361               1.0   14716.491537          6   \n",
       "4                    9667               0.0   15148.657690          6   \n",
       "...                   ...               ...            ...        ...   \n",
       "51596                9303               2.0   14376.052495          6   \n",
       "51597                5945               1.0   14373.898084          6   \n",
       "51598                6959               1.0   14768.549663          6   \n",
       "51599                8274               0.0   14352.171497          6   \n",
       "51600                8571               2.0   14870.259551          6   \n",
       "\n",
       "       cpu_usage  \n",
       "0      48.498589  \n",
       "1      53.355349  \n",
       "2      46.573140  \n",
       "3      46.624516  \n",
       "4      49.455284  \n",
       "...          ...  \n",
       "51596  51.684143  \n",
       "51597  47.571840  \n",
       "51598  47.585932  \n",
       "51599  48.178243  \n",
       "51600  51.371905  \n",
       "\n",
       "[51601 rows x 5 columns]"
      ]
     },
     "execution_count": 18,
     "metadata": {},
     "output_type": "execute_result"
    }
   ],
   "source": [
    "train_data"
   ]
  },
  {
   "cell_type": "markdown",
   "id": "077ffb01",
   "metadata": {},
   "source": [
    "## Predictions"
   ]
  },
  {
   "cell_type": "markdown",
   "id": "cdef8c8d",
   "metadata": {},
   "source": [
    "### scaling our data "
   ]
  },
  {
   "cell_type": "markdown",
   "id": "3e9805d4",
   "metadata": {},
   "source": [
    "##### from the graphs it can be seen that our data is skewed and therefore we will scale "
   ]
  },
  {
   "cell_type": "code",
   "execution_count": 55,
   "id": "8ad28196",
   "metadata": {},
   "outputs": [],
   "source": [
    "x_train = train_data[['number_of_requests','number_of_errors']]\n",
    "y_train = train_data.drop(['number_of_requests','number_of_errors','cpu_cores','response_time'], axis = 1)\n",
    "\n",
    "x_test = train_data[['number_of_requests','number_of_errors']]\n",
    "y_test = train_data.drop(['number_of_requests','number_of_errors','cpu_cores','response_time'], axis = 1)"
   ]
  },
  {
   "cell_type": "code",
   "execution_count": 57,
   "id": "91c556b5",
   "metadata": {},
   "outputs": [],
   "source": [
    "sc = MinMaxScaler()\n",
    "x_train_transformed = sc.fit_transform(x_train)\n",
    "y_train_transformed = sc.fit_transform(y_train)\n",
    "\n",
    "x_test_transformed = sc.fit_transform(x_test)\n",
    "y_test_transformed = sc.fit_transform(y_test)"
   ]
  },
  {
   "cell_type": "code",
   "execution_count": null,
   "id": "4791f6bc",
   "metadata": {},
   "outputs": [],
   "source": []
  },
  {
   "cell_type": "code",
   "execution_count": 74,
   "id": "d6f0da0d",
   "metadata": {},
   "outputs": [
    {
     "name": "stdout",
     "output_type": "stream",
     "text": [
      "0.024722229680147152\n"
     ]
    }
   ],
   "source": [
    "#VALIDATOING THE FIRST MODEL\n",
    "model_LR=LinearRegression()\n",
    "model_LR.fit(x_train_transformed, y_train_transformed)\n",
    "prediction_LR =model_LR.predict(x_test_transformed) \n",
    "\n",
    "print(mean_absolute_error(y_test_transformed, prediction_LR))"
   ]
  },
  {
   "cell_type": "code",
   "execution_count": 73,
   "id": "e4a2a6be",
   "metadata": {},
   "outputs": [
    {
     "name": "stderr",
     "output_type": "stream",
     "text": [
      "C:\\Users\\New User\\anaconda3\\lib\\site-packages\\sklearn\\utils\\validation.py:63: DataConversionWarning: A column-vector y was passed when a 1d array was expected. Please change the shape of y to (n_samples, ), for example using ravel().\n",
      "  return f(*args, **kwargs)\n"
     ]
    },
    {
     "name": "stdout",
     "output_type": "stream",
     "text": [
      "0.06988404904827943\n"
     ]
    }
   ],
   "source": [
    "#VALIDATING THE SECOND MODEL\n",
    "model_svm = svm.SVR()\n",
    "model_svm.fit(x_train_transformed, y_train_transformed)\n",
    "prediction_svm =model_svm.predict(x_test_transformed) \n",
    "\n",
    "print(mean_absolute_error(y_test_transformed, prediction_svm))\n"
   ]
  },
  {
   "cell_type": "code",
   "execution_count": 72,
   "id": "bd21d17f",
   "metadata": {},
   "outputs": [
    {
     "name": "stderr",
     "output_type": "stream",
     "text": [
      "C:\\Users\\NEWUSE~1\\AppData\\Local\\Temp/ipykernel_7652/3827188970.py:3: DataConversionWarning: A column-vector y was passed when a 1d array was expected. Please change the shape of y to (n_samples,), for example using ravel().\n",
      "  model_RFR.fit(x_train_transformed, y_train_transformed)\n"
     ]
    },
    {
     "name": "stdout",
     "output_type": "stream",
     "text": [
      "0.003946464045331623\n"
     ]
    }
   ],
   "source": [
    "#VALIDATOING THE THIRD MODEL\n",
    "model_RFR=RandomForestRegressor()\n",
    "model_RFR.fit(x_train_transformed, y_train_transformed)\n",
    "prediction_RFR =model_RFR.predict(x_test_transformed) \n",
    "\n",
    "print(mean_absolute_error(y_test_transformed, prediction_RFR))"
   ]
  },
  {
   "cell_type": "code",
   "execution_count": 71,
   "id": "92a98b48",
   "metadata": {},
   "outputs": [
    {
     "name": "stdout",
     "output_type": "stream",
     "text": [
      "0.00609192091895194\n"
     ]
    }
   ],
   "source": [
    "#VALIDATOING THE THIRD MODEL\n",
    "model_XGB=XGBRegressor()\n",
    "model_XGB.fit(x_train_transformed, y_train_transformed)\n",
    "prediction_XGB =model_XGB.predict(x_test_transformed) \n",
    "\n",
    "print(mean_absolute_error (y_test_transformed, prediction_XGB))\n"
   ]
  },
  {
   "cell_type": "code",
   "execution_count": 51,
   "id": "c0af14e3",
   "metadata": {},
   "outputs": [],
   "source": [
    "## model_RFR is the best for this case "
   ]
  },
  {
   "cell_type": "code",
   "execution_count": null,
   "id": "ca2c1009",
   "metadata": {},
   "outputs": [],
   "source": []
  }
 ],
 "metadata": {
  "kernelspec": {
   "display_name": "Python 3 (ipykernel)",
   "language": "python",
   "name": "python3"
  },
  "language_info": {
   "codemirror_mode": {
    "name": "ipython",
    "version": 3
   },
   "file_extension": ".py",
   "mimetype": "text/x-python",
   "name": "python",
   "nbconvert_exporter": "python",
   "pygments_lexer": "ipython3",
   "version": "3.9.7"
  }
 },
 "nbformat": 4,
 "nbformat_minor": 5
}
