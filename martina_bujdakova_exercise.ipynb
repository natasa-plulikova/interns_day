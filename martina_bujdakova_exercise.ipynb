{
 "cells": [
  {
   "cell_type": "markdown",
   "id": "4d72d7c9-ecef-4785-b2bd-a0891338bb4b",
   "metadata": {},
   "source": [
    "# AI based resource scaling"
   ]
  },
  {
   "cell_type": "markdown",
   "id": "a40b52af-e9bf-424a-88c6-4ebb0c46dbed",
   "metadata": {},
   "source": [
    "## Case scenario"
   ]
  },
  {
   "cell_type": "markdown",
   "id": "b0e722a7-ff8b-4eee-b733-5e3fd54325fc",
   "metadata": {},
   "source": [
    "You and your team have been assigned to a project. The business idea is to reduce carbon footprint by saving resources. Your initial investigation shows, that majority of applications that are deployed on Cloud have high and low traffic hours, but the resources are set to support the peak times. That means there are hours when the allocated resources to the application are not utilized.\n",
    "\n",
    "You want to develop a model which will allow automatic scaling of these resources. For that purpose, your machine learning model should correctly predict the CPU usage."
   ]
  },
  {
   "cell_type": "markdown",
   "id": "a01eddf4-4898-4f06-baa8-0eb32d2e7e7f",
   "metadata": {},
   "source": [
    "## Data"
   ]
  },
  {
   "cell_type": "markdown",
   "id": "02a2a8a1-1ab2-44b3-97ed-ed70c29c7678",
   "metadata": {},
   "source": [
    "The extract of the data for a sample application was provided to you. In the `data` folder you will find 2 files: `train.csv` and `test.csv`. You should conduct your exploration and model building on the `train.csv` file.\n",
    "Once you are happy with the model, use the `test.csv` file to predict the `cpu_usage`. You should store your predictions in a new csv file which will be called `<your_name>.csv`. The new file should have the following attributes:\n",
    "- `id` column\n",
    "- `timestamp` column\n",
    "- `cpu_usage` column which should hold your predictions"
   ]
  },
  {
   "cell_type": "markdown",
   "id": "30be9c7b-428b-4882-a94f-b65b61a94aff",
   "metadata": {},
   "source": [
    "### Data explanation"
   ]
  },
  {
   "cell_type": "markdown",
   "id": "ccde4c1e-3cf2-4d38-af8a-c08a00bdfbdc",
   "metadata": {},
   "source": [
    "- `id` - identifier of the record\n",
    "- `timestamp` - timestamp in the format YYYY-MM-DD HH-MM-SS\n",
    "- `number_of_requests` - number of requests the application received in the given time\n",
    "- `number_of_errors` - number of errors that the application logged in the given time\n",
    "- `response_time` - cummulative time the application took to respond to a request, in miliseconds\n",
    "- `cpu_cores` - number of CPU cores allocated to the application at a given time (maximum 8 are available)\n",
    "- `memory_usage` - memory allocation in a given time, in percent\n",
    "- `cpu_usage` - cpu allocation in a given time, in percent"
   ]
  },
  {
   "cell_type": "markdown",
   "id": "24110c8e-2eb2-4db1-ba12-d24f6ef5c928",
   "metadata": {},
   "source": [
    "## Your delivery"
   ]
  },
  {
   "cell_type": "markdown",
   "id": "c24c9ae1-eda2-4bdb-bfda-dd2e5589a36a",
   "metadata": {},
   "source": [
    "At the end of the day, you should provide us with your code in which you demonstrate that you followed these steps:\n",
    "1. Data load\n",
    "2. Data cleaning\n",
    "3. Data Exploration\n",
    "4. Data Modeling and validation\n",
    "5. Prediction\n",
    "\n",
    "The submission should be done as a pull request (PR) on github to this repository. **Please use branch with your name (not main branch)**. The PR should contain the `<your_name>.csv` file stored in the `data` folder and your code stored either in a jupyter notebook or python module.\n",
    "We have prepared this notebook to help you with the exercise however you are not obliged to use it."
   ]
  },
  {
   "cell_type": "markdown",
   "id": "bf4820fc-2509-4d37-9ed5-65f605fb98cd",
   "metadata": {},
   "source": [
    "# Evaluation"
   ]
  },
  {
   "cell_type": "markdown",
   "id": "018874d3-b86b-48ad-bd9a-94f129fa35dc",
   "metadata": {},
   "source": [
    "This exercise does not have one solution. The problem can be approached in multiple ways. In order to evaluate how well your model performs, we will use the  root mean squared error (RMSE) metric. You can learn more about this metric here: https://en.wikipedia.org/wiki/Root-mean-square_deviation"
   ]
  },
  {
   "cell_type": "markdown",
   "id": "fe5b0a26-34bf-41f2-a52d-2199fb74e680",
   "metadata": {},
   "source": [
    "# Get started"
   ]
  },
  {
   "cell_type": "markdown",
   "id": "f025f5bd-2180-4399-bc55-b0dfec2f99fb",
   "metadata": {},
   "source": [
    "## Getting this to your local environment"
   ]
  },
  {
   "cell_type": "markdown",
   "id": "c6d95fee-b024-4ce4-859b-6c69ebe688b8",
   "metadata": {},
   "source": [
    "Make sure you have an account at github.com. We suggest you fork this repository to your own space. Refer here to quickly get the right git commands: https://docs.github.com/en/get-started/quickstart/git-cheatsheet or simply use Github Desktop: https://desktop.github.com/.\n",
    "Before you start working, make sure that your work can be reproduced later on a different machine.\n",
    "\n",
    "Hint: define the environment for your project along with all dependencies. Make sure that any random element you use in your code is started from the same seed value."
   ]
  },
  {
   "cell_type": "markdown",
   "id": "603fc3ba",
   "metadata": {},
   "source": [
    "## Git cheatsheet"
   ]
  },
  {
   "cell_type": "markdown",
   "id": "a915efa1",
   "metadata": {},
   "source": [
    "If you are familiar with git/github and you know your way around, you can skip this section. \n",
    "\n",
    "### Basic Github Flow\n",
    "Follwing [video](https://ibm.box.com/s/dvym4y5ktbcw8sdv02hecfs5wwe0dn22) describes basic github workflow. It describes how to fork repository, clone it, make some changes, push changes to remote repo and create pull request against original repository. \n",
    "\n",
    "### Cloning repo\n",
    "Before you can clone repo you need either github token or ssh key. If you do not have it setup please follow this [guide](https://docs.github.com/en/authentication/connecting-to-github-with-ssh/adding-a-new-ssh-key-to-your-github-account)\n",
    "\n",
    "### Usual workflow\n",
    "Your usual worklow might look like this:\n",
    "1. Fork and clone repo on your local (first part of video)\n",
    "2. Develop your solution, periodically commiting changes when you reach some milestone\n",
    "3. Push changes to remote server if you are finished or you want just make copy on remote server just in case :-).\n",
    "4. Once you are done with your solution. Create pull request as show in second part of the video. **Please remember to create pull request against branch with your name (do not use main branch).**\n",
    "\n",
    "### Useful git commands\n",
    "Here are some useful git commands:\n",
    "* ```git clone <repo url>``` - clone repo from remote location to local directory\n",
    "* ```git add <file|folder>``` - stage your changes \n",
    "* ```git commit -m \"commit message\"``` - commit your changes to local git repo\n",
    "* ```git push``` - push changes to remote git repo\n"
   ]
  },
  {
   "cell_type": "markdown",
   "id": "5eb5e0ef-446c-4c13-98ca-21bc2e19d0ef",
   "metadata": {},
   "source": [
    "## Loading Libraries"
   ]
  },
  {
   "cell_type": "markdown",
   "id": "c861b71a-bbb5-41b0-86cb-eca66fd17118",
   "metadata": {},
   "source": [
    "## 1. Load the data"
   ]
  },
  {
   "cell_type": "code",
   "execution_count": 1,
   "id": "8c2621a0-370c-471a-b5b0-c4b40bd7aa30",
   "metadata": {},
   "outputs": [],
   "source": [
    "# Your code goes here\n",
    "import pandas as pd\n",
    "import numpy as np\n",
    "import matplotlib.pyplot as plt\n",
    "import seaborn as sns"
   ]
  },
  {
   "cell_type": "code",
   "execution_count": 2,
   "id": "7217dd75-c58b-469e-ba89-5c16fc6d9f34",
   "metadata": {},
   "outputs": [],
   "source": [
    "# Your code goes here\n",
    "df_test = pd.read_csv('test.csv')\n",
    "df_train = pd.read_csv('train.csv')\n",
    "\n"
   ]
  },
  {
   "cell_type": "markdown",
   "id": "eae8cae6-d4fb-4b87-a24a-e6e97e56053e",
   "metadata": {},
   "source": [
    " ## Display the first 5 columns of the dataframe"
   ]
  },
  {
   "cell_type": "code",
   "execution_count": 3,
   "id": "c70730cc-d27f-43be-a9f8-4e3acc214437",
   "metadata": {},
   "outputs": [
    {
     "data": {
      "text/html": [
       "<div>\n",
       "<style scoped>\n",
       "    .dataframe tbody tr th:only-of-type {\n",
       "        vertical-align: middle;\n",
       "    }\n",
       "\n",
       "    .dataframe tbody tr th {\n",
       "        vertical-align: top;\n",
       "    }\n",
       "\n",
       "    .dataframe thead th {\n",
       "        text-align: right;\n",
       "    }\n",
       "</style>\n",
       "<table border=\"1\" class=\"dataframe\">\n",
       "  <thead>\n",
       "    <tr style=\"text-align: right;\">\n",
       "      <th></th>\n",
       "      <th>Unnamed: 0</th>\n",
       "      <th>timestamp</th>\n",
       "      <th>number_of_requests</th>\n",
       "      <th>number_of_errors</th>\n",
       "      <th>response_time</th>\n",
       "      <th>cpu_cores</th>\n",
       "      <th>memory_usage</th>\n",
       "    </tr>\n",
       "  </thead>\n",
       "  <tbody>\n",
       "    <tr>\n",
       "      <th>0</th>\n",
       "      <td>51601</td>\n",
       "      <td>2022-01-25 16:52:27</td>\n",
       "      <td>6013</td>\n",
       "      <td>1.0</td>\n",
       "      <td>13839.534811</td>\n",
       "      <td>6</td>\n",
       "      <td>0.332282</td>\n",
       "    </tr>\n",
       "    <tr>\n",
       "      <th>1</th>\n",
       "      <td>51602</td>\n",
       "      <td>2022-01-25 16:52:32</td>\n",
       "      <td>8834</td>\n",
       "      <td>0.0</td>\n",
       "      <td>14657.609451</td>\n",
       "      <td>6</td>\n",
       "      <td>0.931217</td>\n",
       "    </tr>\n",
       "    <tr>\n",
       "      <th>2</th>\n",
       "      <td>51603</td>\n",
       "      <td>2022-01-25 16:52:37</td>\n",
       "      <td>7971</td>\n",
       "      <td>0.0</td>\n",
       "      <td>14137.221618</td>\n",
       "      <td>6</td>\n",
       "      <td>0.803488</td>\n",
       "    </tr>\n",
       "    <tr>\n",
       "      <th>3</th>\n",
       "      <td>51604</td>\n",
       "      <td>2022-01-25 16:52:42</td>\n",
       "      <td>7653</td>\n",
       "      <td>0.0</td>\n",
       "      <td>14257.821995</td>\n",
       "      <td>6</td>\n",
       "      <td>0.486343</td>\n",
       "    </tr>\n",
       "    <tr>\n",
       "      <th>4</th>\n",
       "      <td>51605</td>\n",
       "      <td>2022-01-25 16:52:47</td>\n",
       "      <td>7313</td>\n",
       "      <td>0.0</td>\n",
       "      <td>14281.586371</td>\n",
       "      <td>6</td>\n",
       "      <td>0.369045</td>\n",
       "    </tr>\n",
       "  </tbody>\n",
       "</table>\n",
       "</div>"
      ],
      "text/plain": [
       "   Unnamed: 0            timestamp  number_of_requests  number_of_errors  \\\n",
       "0       51601  2022-01-25 16:52:27                6013               1.0   \n",
       "1       51602  2022-01-25 16:52:32                8834               0.0   \n",
       "2       51603  2022-01-25 16:52:37                7971               0.0   \n",
       "3       51604  2022-01-25 16:52:42                7653               0.0   \n",
       "4       51605  2022-01-25 16:52:47                7313               0.0   \n",
       "\n",
       "   response_time  cpu_cores  memory_usage  \n",
       "0   13839.534811          6      0.332282  \n",
       "1   14657.609451          6      0.931217  \n",
       "2   14137.221618          6      0.803488  \n",
       "3   14257.821995          6      0.486343  \n",
       "4   14281.586371          6      0.369045  "
      ]
     },
     "execution_count": 3,
     "metadata": {},
     "output_type": "execute_result"
    }
   ],
   "source": [
    "df_test.head()"
   ]
  },
  {
   "cell_type": "code",
   "execution_count": 4,
   "id": "03b6fba2-3890-4dd9-b712-422c2a6f8ce4",
   "metadata": {},
   "outputs": [
    {
     "data": {
      "text/html": [
       "<div>\n",
       "<style scoped>\n",
       "    .dataframe tbody tr th:only-of-type {\n",
       "        vertical-align: middle;\n",
       "    }\n",
       "\n",
       "    .dataframe tbody tr th {\n",
       "        vertical-align: top;\n",
       "    }\n",
       "\n",
       "    .dataframe thead th {\n",
       "        text-align: right;\n",
       "    }\n",
       "</style>\n",
       "<table border=\"1\" class=\"dataframe\">\n",
       "  <thead>\n",
       "    <tr style=\"text-align: right;\">\n",
       "      <th></th>\n",
       "      <th>id</th>\n",
       "      <th>timestamp</th>\n",
       "      <th>number_of_requests</th>\n",
       "      <th>number_of_errors</th>\n",
       "      <th>response_time</th>\n",
       "      <th>cpu_cores</th>\n",
       "      <th>memory_usage</th>\n",
       "      <th>cpu_usage</th>\n",
       "    </tr>\n",
       "  </thead>\n",
       "  <tbody>\n",
       "    <tr>\n",
       "      <th>0</th>\n",
       "      <td>0</td>\n",
       "      <td>2022-01-22 17:12:22</td>\n",
       "      <td>9758</td>\n",
       "      <td>0.0</td>\n",
       "      <td>14742.755324</td>\n",
       "      <td>6</td>\n",
       "      <td>0.347599</td>\n",
       "      <td>48.498589</td>\n",
       "    </tr>\n",
       "    <tr>\n",
       "      <th>1</th>\n",
       "      <td>1</td>\n",
       "      <td>2022-01-22 17:12:27</td>\n",
       "      <td>9967</td>\n",
       "      <td>2.0</td>\n",
       "      <td>14897.201621</td>\n",
       "      <td>6</td>\n",
       "      <td>0.756413</td>\n",
       "      <td>53.355349</td>\n",
       "    </tr>\n",
       "    <tr>\n",
       "      <th>2</th>\n",
       "      <td>2</td>\n",
       "      <td>2022-01-22 17:12:32</td>\n",
       "      <td>5210</td>\n",
       "      <td>1.0</td>\n",
       "      <td>14009.132817</td>\n",
       "      <td>6</td>\n",
       "      <td>0.698468</td>\n",
       "      <td>46.573140</td>\n",
       "    </tr>\n",
       "    <tr>\n",
       "      <th>3</th>\n",
       "      <td>3</td>\n",
       "      <td>2022-01-22 17:12:37</td>\n",
       "      <td>7361</td>\n",
       "      <td>1.0</td>\n",
       "      <td>14716.491537</td>\n",
       "      <td>6</td>\n",
       "      <td>0.137349</td>\n",
       "      <td>46.624516</td>\n",
       "    </tr>\n",
       "    <tr>\n",
       "      <th>4</th>\n",
       "      <td>4</td>\n",
       "      <td>2022-01-22 17:12:42</td>\n",
       "      <td>9667</td>\n",
       "      <td>0.0</td>\n",
       "      <td>15148.657690</td>\n",
       "      <td>6</td>\n",
       "      <td>0.157933</td>\n",
       "      <td>49.455284</td>\n",
       "    </tr>\n",
       "  </tbody>\n",
       "</table>\n",
       "</div>"
      ],
      "text/plain": [
       "   id            timestamp  number_of_requests  number_of_errors  \\\n",
       "0   0  2022-01-22 17:12:22                9758               0.0   \n",
       "1   1  2022-01-22 17:12:27                9967               2.0   \n",
       "2   2  2022-01-22 17:12:32                5210               1.0   \n",
       "3   3  2022-01-22 17:12:37                7361               1.0   \n",
       "4   4  2022-01-22 17:12:42                9667               0.0   \n",
       "\n",
       "   response_time  cpu_cores  memory_usage  cpu_usage  \n",
       "0   14742.755324          6      0.347599  48.498589  \n",
       "1   14897.201621          6      0.756413  53.355349  \n",
       "2   14009.132817          6      0.698468  46.573140  \n",
       "3   14716.491537          6      0.137349  46.624516  \n",
       "4   15148.657690          6      0.157933  49.455284  "
      ]
     },
     "execution_count": 4,
     "metadata": {},
     "output_type": "execute_result"
    }
   ],
   "source": [
    "df_train.head()"
   ]
  },
  {
   "cell_type": "markdown",
   "id": "262ec6ea-8f4a-41b6-90dd-433e4e29c5e7",
   "metadata": {},
   "source": [
    "## Check the data types of each column"
   ]
  },
  {
   "cell_type": "code",
   "execution_count": 5,
   "id": "29515d36-9037-44dd-aff4-e80ab46fae19",
   "metadata": {},
   "outputs": [
    {
     "data": {
      "text/plain": [
       "Unnamed: 0              int64\n",
       "timestamp              object\n",
       "number_of_requests      int64\n",
       "number_of_errors      float64\n",
       "response_time         float64\n",
       "cpu_cores               int64\n",
       "memory_usage          float64\n",
       "dtype: object"
      ]
     },
     "execution_count": 5,
     "metadata": {},
     "output_type": "execute_result"
    }
   ],
   "source": [
    "df_test.dtypes"
   ]
  },
  {
   "cell_type": "code",
   "execution_count": 6,
   "id": "38923eda-3888-4169-a24b-c1fda5017419",
   "metadata": {},
   "outputs": [
    {
     "data": {
      "text/plain": [
       "id                      int64\n",
       "timestamp              object\n",
       "number_of_requests      int64\n",
       "number_of_errors      float64\n",
       "response_time         float64\n",
       "cpu_cores               int64\n",
       "memory_usage          float64\n",
       "cpu_usage             float64\n",
       "dtype: object"
      ]
     },
     "execution_count": 6,
     "metadata": {},
     "output_type": "execute_result"
    }
   ],
   "source": [
    "df_train.dtypes"
   ]
  },
  {
   "cell_type": "code",
   "execution_count": null,
   "id": "80d771b8-3b0e-499e-805e-cd6b3ee6d905",
   "metadata": {},
   "outputs": [],
   "source": []
  },
  {
   "cell_type": "markdown",
   "id": "b782938b-41f5-4337-b48a-f96f79d1f645",
   "metadata": {
    "tags": []
   },
   "source": [
    "## 2. Data cleaning"
   ]
  },
  {
   "cell_type": "markdown",
   "id": "9484af96-1993-4117-8bc6-4e3e6f14f388",
   "metadata": {
    "tags": []
   },
   "source": [
    "In this step you want to make sure that the data that you work with is loaded correctly, that it does not contain any strange values or that you are not missing any important records. You can read more about this step here: https://en.wikipedia.org/wiki/Data_cleansing"
   ]
  },
  {
   "cell_type": "markdown",
   "id": "98763730-aef2-40f9-8fa1-18d3f8a38d77",
   "metadata": {},
   "source": [
    "## Timestamp data - data type - object = convert to datetime\n"
   ]
  },
  {
   "cell_type": "code",
   "execution_count": 7,
   "id": "6ff2e15b-1581-487b-b6ec-6e4ef27a09d6",
   "metadata": {},
   "outputs": [
    {
     "data": {
      "text/html": [
       "<div>\n",
       "<style scoped>\n",
       "    .dataframe tbody tr th:only-of-type {\n",
       "        vertical-align: middle;\n",
       "    }\n",
       "\n",
       "    .dataframe tbody tr th {\n",
       "        vertical-align: top;\n",
       "    }\n",
       "\n",
       "    .dataframe thead th {\n",
       "        text-align: right;\n",
       "    }\n",
       "</style>\n",
       "<table border=\"1\" class=\"dataframe\">\n",
       "  <thead>\n",
       "    <tr style=\"text-align: right;\">\n",
       "      <th></th>\n",
       "      <th>id</th>\n",
       "      <th>timestamp</th>\n",
       "      <th>number_of_requests</th>\n",
       "      <th>number_of_errors</th>\n",
       "      <th>response_time</th>\n",
       "      <th>cpu_cores</th>\n",
       "      <th>memory_usage</th>\n",
       "      <th>cpu_usage</th>\n",
       "    </tr>\n",
       "  </thead>\n",
       "  <tbody>\n",
       "    <tr>\n",
       "      <th>0</th>\n",
       "      <td>0</td>\n",
       "      <td>2022-01-22 17:12:22</td>\n",
       "      <td>9758</td>\n",
       "      <td>0.0</td>\n",
       "      <td>14742.755324</td>\n",
       "      <td>6</td>\n",
       "      <td>0.347599</td>\n",
       "      <td>48.498589</td>\n",
       "    </tr>\n",
       "    <tr>\n",
       "      <th>1</th>\n",
       "      <td>1</td>\n",
       "      <td>2022-01-22 17:12:27</td>\n",
       "      <td>9967</td>\n",
       "      <td>2.0</td>\n",
       "      <td>14897.201621</td>\n",
       "      <td>6</td>\n",
       "      <td>0.756413</td>\n",
       "      <td>53.355349</td>\n",
       "    </tr>\n",
       "    <tr>\n",
       "      <th>2</th>\n",
       "      <td>2</td>\n",
       "      <td>2022-01-22 17:12:32</td>\n",
       "      <td>5210</td>\n",
       "      <td>1.0</td>\n",
       "      <td>14009.132817</td>\n",
       "      <td>6</td>\n",
       "      <td>0.698468</td>\n",
       "      <td>46.573140</td>\n",
       "    </tr>\n",
       "    <tr>\n",
       "      <th>3</th>\n",
       "      <td>3</td>\n",
       "      <td>2022-01-22 17:12:37</td>\n",
       "      <td>7361</td>\n",
       "      <td>1.0</td>\n",
       "      <td>14716.491537</td>\n",
       "      <td>6</td>\n",
       "      <td>0.137349</td>\n",
       "      <td>46.624516</td>\n",
       "    </tr>\n",
       "    <tr>\n",
       "      <th>4</th>\n",
       "      <td>4</td>\n",
       "      <td>2022-01-22 17:12:42</td>\n",
       "      <td>9667</td>\n",
       "      <td>0.0</td>\n",
       "      <td>15148.657690</td>\n",
       "      <td>6</td>\n",
       "      <td>0.157933</td>\n",
       "      <td>49.455284</td>\n",
       "    </tr>\n",
       "  </tbody>\n",
       "</table>\n",
       "</div>"
      ],
      "text/plain": [
       "   id           timestamp  number_of_requests  number_of_errors  \\\n",
       "0   0 2022-01-22 17:12:22                9758               0.0   \n",
       "1   1 2022-01-22 17:12:27                9967               2.0   \n",
       "2   2 2022-01-22 17:12:32                5210               1.0   \n",
       "3   3 2022-01-22 17:12:37                7361               1.0   \n",
       "4   4 2022-01-22 17:12:42                9667               0.0   \n",
       "\n",
       "   response_time  cpu_cores  memory_usage  cpu_usage  \n",
       "0   14742.755324          6      0.347599  48.498589  \n",
       "1   14897.201621          6      0.756413  53.355349  \n",
       "2   14009.132817          6      0.698468  46.573140  \n",
       "3   14716.491537          6      0.137349  46.624516  \n",
       "4   15148.657690          6      0.157933  49.455284  "
      ]
     },
     "execution_count": 7,
     "metadata": {},
     "output_type": "execute_result"
    }
   ],
   "source": [
    "df_train['timestamp'] = pd.to_datetime(df_train['timestamp'])\n",
    "df_test['timestam'] = pd.to_datetime(df_test['timestamp'])\n",
    "df_train.head()"
   ]
  },
  {
   "cell_type": "markdown",
   "id": "481cb55d-9ec0-4467-b03e-b11ad58668c4",
   "metadata": {},
   "source": [
    "## Check if we have any missing values"
   ]
  },
  {
   "cell_type": "code",
   "execution_count": 8,
   "id": "a6d6d615-a915-4583-868e-13c48ae29952",
   "metadata": {},
   "outputs": [
    {
     "data": {
      "text/plain": [
       "id                    0\n",
       "timestamp             0\n",
       "number_of_requests    0\n",
       "number_of_errors      0\n",
       "response_time         0\n",
       "cpu_cores             0\n",
       "memory_usage          0\n",
       "cpu_usage             0\n",
       "dtype: int64"
      ]
     },
     "execution_count": 8,
     "metadata": {},
     "output_type": "execute_result"
    }
   ],
   "source": [
    "df_train.isnull().sum()"
   ]
  },
  {
   "cell_type": "code",
   "execution_count": 9,
   "id": "2f3bb26c-f19d-48f8-b959-f48ff8c2892c",
   "metadata": {},
   "outputs": [
    {
     "data": {
      "text/plain": [
       "Unnamed: 0            0\n",
       "timestamp             0\n",
       "number_of_requests    0\n",
       "number_of_errors      0\n",
       "response_time         0\n",
       "cpu_cores             0\n",
       "memory_usage          0\n",
       "timestam              0\n",
       "dtype: int64"
      ]
     },
     "execution_count": 9,
     "metadata": {},
     "output_type": "execute_result"
    }
   ],
   "source": [
    "df_test.isnull().sum()"
   ]
  },
  {
   "cell_type": "markdown",
   "id": "30f0cd4e-e535-486f-b244-f5fdb4df67e8",
   "metadata": {},
   "source": [
    "## Number of errors should be integer "
   ]
  },
  {
   "cell_type": "code",
   "execution_count": 10,
   "id": "ffc8e778-e532-42fb-8c4b-39d92d9c48ba",
   "metadata": {},
   "outputs": [
    {
     "data": {
      "text/plain": [
       "True"
      ]
     },
     "execution_count": 10,
     "metadata": {},
     "output_type": "execute_result"
    }
   ],
   "source": [
    "df_train.number_of_errors.apply(float.is_integer).all()\n"
   ]
  },
  {
   "cell_type": "code",
   "execution_count": 11,
   "id": "3feea8c5-1d7e-4433-8f43-5c1f8c28da1d",
   "metadata": {},
   "outputs": [
    {
     "data": {
      "text/plain": [
       "True"
      ]
     },
     "execution_count": 11,
     "metadata": {},
     "output_type": "execute_result"
    }
   ],
   "source": [
    "df_test.number_of_errors.apply(float.is_integer).all()"
   ]
  },
  {
   "cell_type": "markdown",
   "id": "c0dc3b70-e2bc-4a80-a29c-c79a2e2a43c8",
   "metadata": {},
   "source": [
    "## Check if numbers in data are positive values"
   ]
  },
  {
   "cell_type": "markdown",
   "id": "73f6dddb-46e5-49f2-b211-8a7ac1685e58",
   "metadata": {},
   "source": [
    "Obtain statistical summary of the data"
   ]
  },
  {
   "cell_type": "code",
   "execution_count": 12,
   "id": "7eea359a-0e72-4563-abb5-514159894219",
   "metadata": {},
   "outputs": [
    {
     "data": {
      "text/html": [
       "<div>\n",
       "<style scoped>\n",
       "    .dataframe tbody tr th:only-of-type {\n",
       "        vertical-align: middle;\n",
       "    }\n",
       "\n",
       "    .dataframe tbody tr th {\n",
       "        vertical-align: top;\n",
       "    }\n",
       "\n",
       "    .dataframe thead th {\n",
       "        text-align: right;\n",
       "    }\n",
       "</style>\n",
       "<table border=\"1\" class=\"dataframe\">\n",
       "  <thead>\n",
       "    <tr style=\"text-align: right;\">\n",
       "      <th></th>\n",
       "      <th>id</th>\n",
       "      <th>number_of_requests</th>\n",
       "      <th>number_of_errors</th>\n",
       "      <th>response_time</th>\n",
       "      <th>cpu_cores</th>\n",
       "      <th>memory_usage</th>\n",
       "      <th>cpu_usage</th>\n",
       "    </tr>\n",
       "  </thead>\n",
       "  <tbody>\n",
       "    <tr>\n",
       "      <th>count</th>\n",
       "      <td>51601.000000</td>\n",
       "      <td>51601.000000</td>\n",
       "      <td>51601.000000</td>\n",
       "      <td>51601.000000</td>\n",
       "      <td>51601.000000</td>\n",
       "      <td>51601.000000</td>\n",
       "      <td>51601.000000</td>\n",
       "    </tr>\n",
       "    <tr>\n",
       "      <th>mean</th>\n",
       "      <td>25800.000000</td>\n",
       "      <td>5226.672720</td>\n",
       "      <td>2.644542</td>\n",
       "      <td>12312.780296</td>\n",
       "      <td>3.363036</td>\n",
       "      <td>0.500581</td>\n",
       "      <td>47.676140</td>\n",
       "    </tr>\n",
       "    <tr>\n",
       "      <th>std</th>\n",
       "      <td>14896.069957</td>\n",
       "      <td>10550.113172</td>\n",
       "      <td>23.911454</td>\n",
       "      <td>2022.598034</td>\n",
       "      <td>2.202220</td>\n",
       "      <td>0.288363</td>\n",
       "      <td>7.420956</td>\n",
       "    </tr>\n",
       "    <tr>\n",
       "      <th>min</th>\n",
       "      <td>0.000000</td>\n",
       "      <td>0.000000</td>\n",
       "      <td>0.000000</td>\n",
       "      <td>0.000000</td>\n",
       "      <td>2.000000</td>\n",
       "      <td>0.000005</td>\n",
       "      <td>0.000000</td>\n",
       "    </tr>\n",
       "    <tr>\n",
       "      <th>25%</th>\n",
       "      <td>12900.000000</td>\n",
       "      <td>252.000000</td>\n",
       "      <td>0.000000</td>\n",
       "      <td>10989.211638</td>\n",
       "      <td>2.000000</td>\n",
       "      <td>0.249912</td>\n",
       "      <td>46.839072</td>\n",
       "    </tr>\n",
       "    <tr>\n",
       "      <th>50%</th>\n",
       "      <td>25800.000000</td>\n",
       "      <td>498.000000</td>\n",
       "      <td>0.000000</td>\n",
       "      <td>11943.853696</td>\n",
       "      <td>2.000000</td>\n",
       "      <td>0.502889</td>\n",
       "      <td>47.318397</td>\n",
       "    </tr>\n",
       "    <tr>\n",
       "      <th>75%</th>\n",
       "      <td>38700.000000</td>\n",
       "      <td>2948.000000</td>\n",
       "      <td>0.000000</td>\n",
       "      <td>13730.180213</td>\n",
       "      <td>4.000000</td>\n",
       "      <td>0.750690</td>\n",
       "      <td>47.961371</td>\n",
       "    </tr>\n",
       "    <tr>\n",
       "      <th>max</th>\n",
       "      <td>51600.000000</td>\n",
       "      <td>49989.000000</td>\n",
       "      <td>875.000000</td>\n",
       "      <td>16817.927832</td>\n",
       "      <td>8.000000</td>\n",
       "      <td>0.999975</td>\n",
       "      <td>100.000000</td>\n",
       "    </tr>\n",
       "  </tbody>\n",
       "</table>\n",
       "</div>"
      ],
      "text/plain": [
       "                 id  number_of_requests  number_of_errors  response_time  \\\n",
       "count  51601.000000        51601.000000      51601.000000   51601.000000   \n",
       "mean   25800.000000         5226.672720          2.644542   12312.780296   \n",
       "std    14896.069957        10550.113172         23.911454    2022.598034   \n",
       "min        0.000000            0.000000          0.000000       0.000000   \n",
       "25%    12900.000000          252.000000          0.000000   10989.211638   \n",
       "50%    25800.000000          498.000000          0.000000   11943.853696   \n",
       "75%    38700.000000         2948.000000          0.000000   13730.180213   \n",
       "max    51600.000000        49989.000000        875.000000   16817.927832   \n",
       "\n",
       "          cpu_cores  memory_usage     cpu_usage  \n",
       "count  51601.000000  51601.000000  51601.000000  \n",
       "mean       3.363036      0.500581     47.676140  \n",
       "std        2.202220      0.288363      7.420956  \n",
       "min        2.000000      0.000005      0.000000  \n",
       "25%        2.000000      0.249912     46.839072  \n",
       "50%        2.000000      0.502889     47.318397  \n",
       "75%        4.000000      0.750690     47.961371  \n",
       "max        8.000000      0.999975    100.000000  "
      ]
     },
     "execution_count": 12,
     "metadata": {},
     "output_type": "execute_result"
    }
   ],
   "source": [
    "df_train.describe() #we can see that numbers are not lower that 0 (_min_ row)\n",
    "# we see, that cpu_usage is not more that 100% "
   ]
  },
  {
   "cell_type": "code",
   "execution_count": 13,
   "id": "14b6b0d6-003c-49d5-b26c-bf49bcd4d449",
   "metadata": {},
   "outputs": [
    {
     "data": {
      "text/html": [
       "<div>\n",
       "<style scoped>\n",
       "    .dataframe tbody tr th:only-of-type {\n",
       "        vertical-align: middle;\n",
       "    }\n",
       "\n",
       "    .dataframe tbody tr th {\n",
       "        vertical-align: top;\n",
       "    }\n",
       "\n",
       "    .dataframe thead th {\n",
       "        text-align: right;\n",
       "    }\n",
       "</style>\n",
       "<table border=\"1\" class=\"dataframe\">\n",
       "  <thead>\n",
       "    <tr style=\"text-align: right;\">\n",
       "      <th></th>\n",
       "      <th>Unnamed: 0</th>\n",
       "      <th>number_of_requests</th>\n",
       "      <th>number_of_errors</th>\n",
       "      <th>response_time</th>\n",
       "      <th>cpu_cores</th>\n",
       "      <th>memory_usage</th>\n",
       "    </tr>\n",
       "  </thead>\n",
       "  <tbody>\n",
       "    <tr>\n",
       "      <th>count</th>\n",
       "      <td>17200.000000</td>\n",
       "      <td>17200.000000</td>\n",
       "      <td>17200.000000</td>\n",
       "      <td>17200.000000</td>\n",
       "      <td>17200.000000</td>\n",
       "      <td>17200.000000</td>\n",
       "    </tr>\n",
       "    <tr>\n",
       "      <th>mean</th>\n",
       "      <td>60200.500000</td>\n",
       "      <td>5201.385640</td>\n",
       "      <td>2.491919</td>\n",
       "      <td>12307.822900</td>\n",
       "      <td>3.363488</td>\n",
       "      <td>0.503066</td>\n",
       "    </tr>\n",
       "    <tr>\n",
       "      <th>std</th>\n",
       "      <td>4965.356651</td>\n",
       "      <td>10483.977459</td>\n",
       "      <td>22.124663</td>\n",
       "      <td>2037.352316</td>\n",
       "      <td>2.202170</td>\n",
       "      <td>0.289226</td>\n",
       "    </tr>\n",
       "    <tr>\n",
       "      <th>min</th>\n",
       "      <td>51601.000000</td>\n",
       "      <td>0.000000</td>\n",
       "      <td>0.000000</td>\n",
       "      <td>0.000000</td>\n",
       "      <td>2.000000</td>\n",
       "      <td>0.000059</td>\n",
       "    </tr>\n",
       "    <tr>\n",
       "      <th>25%</th>\n",
       "      <td>55900.750000</td>\n",
       "      <td>249.000000</td>\n",
       "      <td>0.000000</td>\n",
       "      <td>10985.987705</td>\n",
       "      <td>2.000000</td>\n",
       "      <td>0.253181</td>\n",
       "    </tr>\n",
       "    <tr>\n",
       "      <th>50%</th>\n",
       "      <td>60200.500000</td>\n",
       "      <td>498.000000</td>\n",
       "      <td>0.000000</td>\n",
       "      <td>11948.646584</td>\n",
       "      <td>2.000000</td>\n",
       "      <td>0.507247</td>\n",
       "    </tr>\n",
       "    <tr>\n",
       "      <th>75%</th>\n",
       "      <td>64500.250000</td>\n",
       "      <td>2955.500000</td>\n",
       "      <td>0.000000</td>\n",
       "      <td>13739.689722</td>\n",
       "      <td>4.000000</td>\n",
       "      <td>0.751626</td>\n",
       "    </tr>\n",
       "    <tr>\n",
       "      <th>max</th>\n",
       "      <td>68800.000000</td>\n",
       "      <td>49998.000000</td>\n",
       "      <td>690.000000</td>\n",
       "      <td>16773.110102</td>\n",
       "      <td>8.000000</td>\n",
       "      <td>0.999834</td>\n",
       "    </tr>\n",
       "  </tbody>\n",
       "</table>\n",
       "</div>"
      ],
      "text/plain": [
       "         Unnamed: 0  number_of_requests  number_of_errors  response_time  \\\n",
       "count  17200.000000        17200.000000      17200.000000   17200.000000   \n",
       "mean   60200.500000         5201.385640          2.491919   12307.822900   \n",
       "std     4965.356651        10483.977459         22.124663    2037.352316   \n",
       "min    51601.000000            0.000000          0.000000       0.000000   \n",
       "25%    55900.750000          249.000000          0.000000   10985.987705   \n",
       "50%    60200.500000          498.000000          0.000000   11948.646584   \n",
       "75%    64500.250000         2955.500000          0.000000   13739.689722   \n",
       "max    68800.000000        49998.000000        690.000000   16773.110102   \n",
       "\n",
       "          cpu_cores  memory_usage  \n",
       "count  17200.000000  17200.000000  \n",
       "mean       3.363488      0.503066  \n",
       "std        2.202170      0.289226  \n",
       "min        2.000000      0.000059  \n",
       "25%        2.000000      0.253181  \n",
       "50%        2.000000      0.507247  \n",
       "75%        4.000000      0.751626  \n",
       "max        8.000000      0.999834  "
      ]
     },
     "execution_count": 13,
     "metadata": {},
     "output_type": "execute_result"
    }
   ],
   "source": [
    "df_test.describe()"
   ]
  },
  {
   "cell_type": "markdown",
   "id": "6f660e38-a542-4892-a614-40fe8af4a41f",
   "metadata": {},
   "source": [
    "## 3. Data exploration"
   ]
  },
  {
   "cell_type": "markdown",
   "id": "aefa9061-7e86-4756-a646-7431c9617d77",
   "metadata": {},
   "source": [
    "This may be one of the most important steps in your analysis. Your objective is to explore patterns in the data that will later drive your decisions about the suitable prediction model. You can read more about this step here: https://en.wikipedia.org/wiki/Data_exploration.\n",
    "\n",
    "There are many visualization libraries in python which can help you visualize and better understand the relationships between the data. Some of the most used ones are `matplotlib` (https://matplotlib.org/) and `seaborn` (https://seaborn.pydata.org/)\n",
    "\n",
    "At the end of this step, you should be able to make some important decisions. For example, will you include all features, or only a subset? Will you create new features? How will you treat your target variable? Will you need to encode the data in a different way?"
   ]
  },
  {
   "cell_type": "markdown",
   "id": "570dc1bc-3399-4ab2-8181-9cf08e349d21",
   "metadata": {},
   "source": [
    "## Find the feature(s) other than cpu_usage that is most correlated with cpu_usage"
   ]
  },
  {
   "cell_type": "code",
   "execution_count": 14,
   "id": "cde2a695-8bfb-4e99-857e-c573b02b859e",
   "metadata": {},
   "outputs": [
    {
     "data": {
      "text/plain": [
       "memory_usage          0.008249\n",
       "id                    0.017952\n",
       "cpu_cores             0.106763\n",
       "response_time         0.183187\n",
       "number_of_requests    0.364691\n",
       "number_of_errors      0.533335\n",
       "cpu_usage             1.000000\n",
       "Name: cpu_usage, dtype: float64"
      ]
     },
     "execution_count": 14,
     "metadata": {},
     "output_type": "execute_result"
    }
   ],
   "source": [
    "df_train.corr()['cpu_usage'].sort_values() #number_of_errors (mostly correlated)"
   ]
  },
  {
   "cell_type": "markdown",
   "id": "94c80bc8-f26e-4eb6-911d-00bc9a15b44a",
   "metadata": {},
   "source": [
    "# Visualise the relation number_of_errors-cpu_usage"
   ]
  },
  {
   "cell_type": "code",
   "execution_count": 15,
   "id": "ff321bec-090c-4b20-8987-8cdf567663fe",
   "metadata": {},
   "outputs": [
    {
     "data": {
      "image/png": "[encoded data removed]",
      "text/plain": [
       "<Figure size 576x576 with 1 Axes>"
      ]
     },
     "metadata": {
      "needs_background": "light"
     },
     "output_type": "display_data"
    }
   ],
   "source": [
    "# Your code goes here\n",
    "fig, ax = plt.subplots(figsize = (8,8))\n",
    "ax.scatter(df_train['number_of_errors'], df_train['cpu_usage'])\n",
    "# x-axis label\n",
    "ax.set_xlabel('number_of_errors')\n",
    " \n",
    "# y-axis label\n",
    "ax.set_ylabel('cpu_usage')\n",
    "plt.show() # "
   ]
  },
  {
   "cell_type": "markdown",
   "id": "3afbcd77-c77c-4662-8705-1613b04ca2bb",
   "metadata": {},
   "source": [
    "In previous figure, we cee non-linear regression"
   ]
  },
  {
   "cell_type": "markdown",
   "id": "a2d4e37f-d046-42bf-b0e6-db8def767ddb",
   "metadata": {},
   "source": [
    "# Visualise the relation number_of_requests - cpu_usage"
   ]
  },
  {
   "cell_type": "code",
   "execution_count": 16,
   "id": "ee194875-6bc9-4982-89fb-302df21efb00",
   "metadata": {},
   "outputs": [
    {
     "data": {
      "image/png": "[encoded data removed]",
      "text/plain": [
       "<Figure size 576x576 with 1 Axes>"
      ]
     },
     "metadata": {
      "needs_background": "light"
     },
     "output_type": "display_data"
    }
   ],
   "source": [
    "fig, ax = plt.subplots(figsize = (8,8))\n",
    "ax.scatter(df_train['number_of_requests'], df_train['cpu_usage'])\n",
    "# x-axis label\n",
    "ax.set_xlabel('number_of_requests')\n",
    " \n",
    "# y-axis label\n",
    "ax.set_ylabel('cpu_usage')\n",
    "plt.show() "
   ]
  },
  {
   "cell_type": "markdown",
   "id": "8bb2283c-978c-4ef2-b525-5695f33ed7f2",
   "metadata": {},
   "source": [
    "We see in previous figure 3 clusters (and some outliers) -> possible k-means model, but we use supervised model. We try to find KNeighbours classifier "
   ]
  },
  {
   "cell_type": "code",
   "execution_count": null,
   "id": "a76c012d-0e68-4cea-aa95-864ac73785b1",
   "metadata": {},
   "outputs": [],
   "source": [
    "#sns.boxplot(x=\"number_of_requests\", y=\"cpu_usage\", data=df_train)"
   ]
  },
  {
   "cell_type": "code",
   "execution_count": 73,
   "id": "0cff4de1-0d62-4e82-96c4-fc85710a886c",
   "metadata": {},
   "outputs": [
    {
     "data": {
      "image/png": "[encoded data removed]",
      "text/plain": [
       "<Figure size 576x576 with 1 Axes>"
      ]
     },
     "metadata": {
      "needs_background": "light"
     },
     "output_type": "display_data"
    }
   ],
   "source": [
    "fig, ax = plt.subplots(figsize = (8,8))\n",
    "ax.scatter(df_train['timestamp'], df_train['cpu_usage'])\n",
    "\n",
    "# x-axis label\n",
    "ax.set_xlabel('timestamp')\n",
    " \n",
    "# y-axis label\n",
    "ax.set_ylabel('cpu_usage')\n",
    "plt.show() "
   ]
  },
  {
   "cell_type": "code",
   "execution_count": 75,
   "id": "11823a4c-f1ad-4a8c-9882-f415ffea6886",
   "metadata": {},
   "outputs": [
    {
     "data": {
      "image/png": "[encoded data removed]",
      "text/plain": [
       "<Figure size 576x576 with 1 Axes>"
      ]
     },
     "metadata": {
      "needs_background": "light"
     },
     "output_type": "display_data"
    }
   ],
   "source": [
    "fig, ax = plt.subplots(figsize = (8,8))\n",
    "ax.scatter(df_train['timestamp'], df_train['number_of_requests'])\n",
    "\n",
    "# x-axis label\n",
    "ax.set_xlabel('timestamp')\n",
    " \n",
    "# y-axis label\n",
    "ax.set_ylabel('number_of_requests')\n",
    "plt.show() "
   ]
  },
  {
   "cell_type": "markdown",
   "id": "c881b318-8d32-47ef-8a57-617d4df38559",
   "metadata": {},
   "source": [
    "In previous figure we see time depency of cpu_usage "
   ]
  },
  {
   "cell_type": "markdown",
   "id": "a4dbf95d-5edb-49e3-85a5-15d3d20e638c",
   "metadata": {},
   "source": [
    "## 4. Data Modeling and Validation"
   ]
  },
  {
   "cell_type": "markdown",
   "id": "2a2eb3b8-cb4d-419b-9702-3bd5a623e77a",
   "metadata": {},
   "source": [
    "At this point, you should have an idea about your data. That means you are ready for the modeling part. Based on your exploration, you should choose the right type of the model. Since we are operating in a supervised domain (e.g. we know what we want to predict), your main decision should be whether to use a classification, regression or time-series type model.\n",
    "\n",
    "Scikit-learn (https://scikit-learn.org/stable/index.html) is very broad library for machine learning practitioners. The documentation provides examples for different machine learning problems. Feel free to check it out before you choose your final implementation. If you are not sure which model will work best, you can also train multiple models and choose the best among them.\n",
    "\n",
    "Do not forget that you need to validate your model. Especially if you train multiple models that you wish to choose from. There are more ways to do the validation (read more here: https://en.wikipedia.org/wiki/Training,_validation,_and_test_sets) but remember that your final solution will be evaluated based on RMSE metric."
   ]
  },
  {
   "cell_type": "markdown",
   "id": "a6d13a60-d78a-4bfa-812c-0642ec35b11e",
   "metadata": {},
   "source": []
  },
  {
   "cell_type": "markdown",
   "id": "eca2ac52-94e7-4226-b4a4-bbb4d1ad5493",
   "metadata": {},
   "source": [
    "\n",
    "## Linear model"
   ]
  },
  {
   "cell_type": "code",
   "execution_count": 76,
   "id": "b7c56496-a6c5-40a1-9498-b847d40c981c",
   "metadata": {},
   "outputs": [
    {
     "data": {
      "text/plain": [
       "Text(0.5, 1.0, 'Mean squared error = 39.41')"
      ]
     },
     "execution_count": 107,
     "metadata": {},
     "output_type": "execute_result"
    },
    {
     "data": {
      "image/png": "[encoded data removed]",
      "text/plain": [
       "<Figure size 432x288 with 1 Axes>"
      ]
     },
     "metadata": {
      "needs_background": "light"
     },
     "output_type": "display_data"
    }
   ],
   "source": [
    "# Your code goes here\n",
    "X=df_train['number_of_errors'].values\n",
    "Y=df_train['cpu_usage'].values\n",
    "from sklearn.linear_model import LinearRegression\n",
    "from sklearn.metrics import mean_squared_error\n",
    "\n",
    "linear_regression = LinearRegression()\n",
    "linear_regression.fit(X.reshape(-1, 1), Y.reshape(-1, 1))\n",
    "Y_predicted = linear_regression.predict(X.reshape(-1, 1))\n",
    "\n",
    "\n",
    "mse = mean_squared_error(Y, Y_predicted)\n",
    "mse #too high\n",
    "\n",
    "ax = sns.scatterplot(data=df_train, x=\"number_of_errors\", y=\"cpu_usage\",\n",
    "                     color=\"black\", alpha=0.5)\n",
    "ax.plot(X, Y_predicted)\n",
    "ax.set_title(f\"Mean squared error = {mse:.2f}\") # really wrong fit, not even possible model\n"
   ]
  },
  {
   "cell_type": "markdown",
   "id": "b972060b-faca-4a27-a53b-a4567f6cc39a",
   "metadata": {},
   "source": [
    "Multiple Linear Regression Using Python and Scikit-learn\n",
    "\n",
    "\n"
   ]
  },
  {
   "cell_type": "code",
   "execution_count": 22,
   "id": "de7f7b47-2318-4699-9bfb-9ac79916f08c",
   "metadata": {},
   "outputs": [
    {
     "data": {
      "text/html": [
       "<div>\n",
       "<style scoped>\n",
       "    .dataframe tbody tr th:only-of-type {\n",
       "        vertical-align: middle;\n",
       "    }\n",
       "\n",
       "    .dataframe tbody tr th {\n",
       "        vertical-align: top;\n",
       "    }\n",
       "\n",
       "    .dataframe thead th {\n",
       "        text-align: right;\n",
       "    }\n",
       "</style>\n",
       "<table border=\"1\" class=\"dataframe\">\n",
       "  <thead>\n",
       "    <tr style=\"text-align: right;\">\n",
       "      <th></th>\n",
       "      <th>id</th>\n",
       "      <th>timestamp</th>\n",
       "      <th>number_of_requests</th>\n",
       "      <th>number_of_errors</th>\n",
       "      <th>response_time</th>\n",
       "      <th>cpu_cores</th>\n",
       "      <th>memory_usage</th>\n",
       "      <th>cpu_usage</th>\n",
       "    </tr>\n",
       "  </thead>\n",
       "  <tbody>\n",
       "    <tr>\n",
       "      <th>0</th>\n",
       "      <td>0</td>\n",
       "      <td>2022-01-22 17:12:22</td>\n",
       "      <td>9758</td>\n",
       "      <td>0.0</td>\n",
       "      <td>14742.755324</td>\n",
       "      <td>6</td>\n",
       "      <td>0.347599</td>\n",
       "      <td>48.498589</td>\n",
       "    </tr>\n",
       "    <tr>\n",
       "      <th>1</th>\n",
       "      <td>1</td>\n",
       "      <td>2022-01-22 17:12:27</td>\n",
       "      <td>9967</td>\n",
       "      <td>2.0</td>\n",
       "      <td>14897.201621</td>\n",
       "      <td>6</td>\n",
       "      <td>0.756413</td>\n",
       "      <td>53.355349</td>\n",
       "    </tr>\n",
       "    <tr>\n",
       "      <th>2</th>\n",
       "      <td>2</td>\n",
       "      <td>2022-01-22 17:12:32</td>\n",
       "      <td>5210</td>\n",
       "      <td>1.0</td>\n",
       "      <td>14009.132817</td>\n",
       "      <td>6</td>\n",
       "      <td>0.698468</td>\n",
       "      <td>46.573140</td>\n",
       "    </tr>\n",
       "    <tr>\n",
       "      <th>3</th>\n",
       "      <td>3</td>\n",
       "      <td>2022-01-22 17:12:37</td>\n",
       "      <td>7361</td>\n",
       "      <td>1.0</td>\n",
       "      <td>14716.491537</td>\n",
       "      <td>6</td>\n",
       "      <td>0.137349</td>\n",
       "      <td>46.624516</td>\n",
       "    </tr>\n",
       "    <tr>\n",
       "      <th>4</th>\n",
       "      <td>4</td>\n",
       "      <td>2022-01-22 17:12:42</td>\n",
       "      <td>9667</td>\n",
       "      <td>0.0</td>\n",
       "      <td>15148.657690</td>\n",
       "      <td>6</td>\n",
       "      <td>0.157933</td>\n",
       "      <td>49.455284</td>\n",
       "    </tr>\n",
       "  </tbody>\n",
       "</table>\n",
       "</div>"
      ],
      "text/plain": [
       "   id           timestamp  number_of_requests  number_of_errors  \\\n",
       "0   0 2022-01-22 17:12:22                9758               0.0   \n",
       "1   1 2022-01-22 17:12:27                9967               2.0   \n",
       "2   2 2022-01-22 17:12:32                5210               1.0   \n",
       "3   3 2022-01-22 17:12:37                7361               1.0   \n",
       "4   4 2022-01-22 17:12:42                9667               0.0   \n",
       "\n",
       "   response_time  cpu_cores  memory_usage  cpu_usage  \n",
       "0   14742.755324          6      0.347599  48.498589  \n",
       "1   14897.201621          6      0.756413  53.355349  \n",
       "2   14009.132817          6      0.698468  46.573140  \n",
       "3   14716.491537          6      0.137349  46.624516  \n",
       "4   15148.657690          6      0.157933  49.455284  "
      ]
     },
     "execution_count": 108,
     "metadata": {},
     "output_type": "execute_result"
    }
   ],
   "source": [
    "df_train.head()"
   ]
  },
  {
   "cell_type": "markdown",
   "id": "520ab204-0d20-4b15-90a3-3eff4ad98b13",
   "metadata": {},
   "source": [
    "# Multiple Linear Regression"
   ]
  },
  {
   "cell_type": "code",
   "execution_count": 77,
   "id": "b93200de-a8d6-4193-806d-8ff2425e9bef",
   "metadata": {},
   "outputs": [
    {
     "data": {
      "text/plain": [
       "37.77752927352072"
      ]
     },
     "execution_count": 109,
     "metadata": {},
     "output_type": "execute_result"
    }
   ],
   "source": [
    "x = df_train.drop('id',axis=1)\n",
    "x =x.drop('timestamp',axis=1)\n",
    "x=x.drop('cpu_usage',axis=1)\n",
    "x=x.drop('cpu_cores',axis=1)\n",
    "x=x.drop('response_time',axis=1)\n",
    "\n",
    "trainX = x.values\n",
    "trainY = df_train['cpu_usage'].values\n",
    "from sklearn.linear_model import LinearRegression\n",
    "# creating an object of LinearRegression class\n",
    "LR = LinearRegression()\n",
    "# fitting the training data\n",
    "LR.fit(trainX,trainY)\n",
    "y_prediction =  LR.predict(trainX)\n",
    "mse = mean_squared_error(trainY, y_prediction)\n",
    "mse #too high\n",
    "\n"
   ]
  },
  {
   "cell_type": "markdown",
   "id": "214a746e-60da-49ad-89b8-d7cf8d805794",
   "metadata": {},
   "source": [
    "KNeighborsRegressor ('number_of_requests' - 'cpu_usage')"
   ]
  },
  {
   "cell_type": "code",
   "execution_count": 156,
   "id": "7cdab290-a627-4013-a33e-e29c995a3de4",
   "metadata": {},
   "outputs": [
    {
     "data": {
      "text/plain": [
       "<matplotlib.collections.PathCollection at 0x22c477a0e20>"
      ]
     },
     "execution_count": 156,
     "metadata": {},
     "output_type": "execute_result"
    },
    {
     "data": {
      "image/png": "[encoded data removed]",
      "text/plain": [
       "<Figure size 432x288 with 2 Axes>"
      ]
     },
     "metadata": {
      "needs_background": "light"
     },
     "output_type": "display_data"
    }
   ],
   "source": [
    "x = df_train.drop('id',axis=1)\n",
    "x =x.drop('timestamp',axis=1)\n",
    "x=x.drop('memory_usage',axis=1)\n",
    "x=x.drop('cpu_cores',axis=1)\n",
    "x=x.drop('number_of_errors',axis=1)\n",
    "x=x.drop('response_time',axis=1)\n",
    "\n",
    "X = x['number_of_requests'].values\n",
    "Y = x['cpu_usage'].values\n",
    "\n",
    "from sklearn.neighbors import KNeighborsRegressor\n",
    "neigh = KNeighborsRegressor(n_neighbors=3,metric = 'minkowski', p=2)\n",
    "\n",
    "from sklearn.model_selection import train_test_split\n",
    "x_train, x_test, y_train, y_test = train_test_split(X, Y, test_size = 0.20, random_state = 25 )\n",
    "\n",
    "neigh.fit(x_train.reshape(-1,1), y_train)\n",
    "ynew = neigh.predict(x_test.reshape(-1,1))\n",
    "mse = mean_squared_error(y_test, ynew) \n",
    "mse \n",
    "\n",
    "plt.subplot(2,1,1)\n",
    "plt.scatter(x_test,y_test)\n",
    "plt.scatter(x_test,ynew)\n",
    "\n",
    "\n",
    "yneww= neigh.predict(X.reshape(-1,1))\n",
    "plt.subplot(2,1,2)\n",
    "plt.scatter(X,Y)\n"
   ]
  },
  {
   "cell_type": "markdown",
   "id": "de696a5d-e1b6-474c-ba1d-419a9f2655fb",
   "metadata": {},
   "source": []
  },
  {
   "cell_type": "markdown",
   "id": "5a628d19-d7ca-4d42-9755-d9d6bda5b343",
   "metadata": {},
   "source": []
  },
  {
   "cell_type": "markdown",
   "id": "9a236ff3-b299-48fe-9f67-a8d4e65dfa59",
   "metadata": {},
   "source": [
    "## 5. Prediction"
   ]
  },
  {
   "cell_type": "markdown",
   "id": "686b9a3f-b96c-4602-8946-adc9cd096e2c",
   "metadata": {},
   "source": [
    "Well done! You are almost finished with the assignment. In this last step you want to use a `predict` method on the data from `test.csv` file. Remember, any transformation or data preprocessing steps you did need to be done on this dataset too."
   ]
  },
  {
   "cell_type": "code",
   "execution_count": 166,
   "id": "6d37a262-2aa6-4686-827d-a18e83d176e8",
   "metadata": {},
   "outputs": [
    {
     "data": {
      "text/html": [
       "<div>\n",
       "<style scoped>\n",
       "    .dataframe tbody tr th:only-of-type {\n",
       "        vertical-align: middle;\n",
       "    }\n",
       "\n",
       "    .dataframe tbody tr th {\n",
       "        vertical-align: top;\n",
       "    }\n",
       "\n",
       "    .dataframe thead th {\n",
       "        text-align: right;\n",
       "    }\n",
       "</style>\n",
       "<table border=\"1\" class=\"dataframe\">\n",
       "  <thead>\n",
       "    <tr style=\"text-align: right;\">\n",
       "      <th></th>\n",
       "      <th>Unnamed: 0</th>\n",
       "      <th>timestamp</th>\n",
       "      <th>number_of_requests</th>\n",
       "      <th>number_of_errors</th>\n",
       "      <th>response_time</th>\n",
       "      <th>cpu_cores</th>\n",
       "      <th>memory_usage</th>\n",
       "      <th>timestam</th>\n",
       "      <th>cpu_usage</th>\n",
       "      <th>id</th>\n",
       "    </tr>\n",
       "  </thead>\n",
       "  <tbody>\n",
       "    <tr>\n",
       "      <th>0</th>\n",
       "      <td>51601</td>\n",
       "      <td>2022-01-25 16:52:27</td>\n",
       "      <td>6013</td>\n",
       "      <td>1.0</td>\n",
       "      <td>13839.534811</td>\n",
       "      <td>6</td>\n",
       "      <td>0.332282</td>\n",
       "      <td>2022-01-25 16:52:27</td>\n",
       "      <td>44.393365</td>\n",
       "      <td>1</td>\n",
       "    </tr>\n",
       "    <tr>\n",
       "      <th>1</th>\n",
       "      <td>51602</td>\n",
       "      <td>2022-01-25 16:52:32</td>\n",
       "      <td>8834</td>\n",
       "      <td>0.0</td>\n",
       "      <td>14657.609451</td>\n",
       "      <td>6</td>\n",
       "      <td>0.931217</td>\n",
       "      <td>2022-01-25 16:52:32</td>\n",
       "      <td>41.906607</td>\n",
       "      <td>2</td>\n",
       "    </tr>\n",
       "    <tr>\n",
       "      <th>2</th>\n",
       "      <td>51603</td>\n",
       "      <td>2022-01-25 16:52:37</td>\n",
       "      <td>7971</td>\n",
       "      <td>0.0</td>\n",
       "      <td>14137.221618</td>\n",
       "      <td>6</td>\n",
       "      <td>0.803488</td>\n",
       "      <td>2022-01-25 16:52:37</td>\n",
       "      <td>41.906607</td>\n",
       "      <td>3</td>\n",
       "    </tr>\n",
       "    <tr>\n",
       "      <th>3</th>\n",
       "      <td>51604</td>\n",
       "      <td>2022-01-25 16:52:42</td>\n",
       "      <td>7653</td>\n",
       "      <td>0.0</td>\n",
       "      <td>14257.821995</td>\n",
       "      <td>6</td>\n",
       "      <td>0.486343</td>\n",
       "      <td>2022-01-25 16:52:42</td>\n",
       "      <td>41.906607</td>\n",
       "      <td>4</td>\n",
       "    </tr>\n",
       "    <tr>\n",
       "      <th>4</th>\n",
       "      <td>51605</td>\n",
       "      <td>2022-01-25 16:52:47</td>\n",
       "      <td>7313</td>\n",
       "      <td>0.0</td>\n",
       "      <td>14281.586371</td>\n",
       "      <td>6</td>\n",
       "      <td>0.369045</td>\n",
       "      <td>2022-01-25 16:52:47</td>\n",
       "      <td>41.906607</td>\n",
       "      <td>5</td>\n",
       "    </tr>\n",
       "  </tbody>\n",
       "</table>\n",
       "</div>"
      ],
      "text/plain": [
       "   Unnamed: 0            timestamp  number_of_requests  number_of_errors  \\\n",
       "0       51601  2022-01-25 16:52:27                6013               1.0   \n",
       "1       51602  2022-01-25 16:52:32                8834               0.0   \n",
       "2       51603  2022-01-25 16:52:37                7971               0.0   \n",
       "3       51604  2022-01-25 16:52:42                7653               0.0   \n",
       "4       51605  2022-01-25 16:52:47                7313               0.0   \n",
       "\n",
       "   response_time  cpu_cores  memory_usage            timestam  cpu_usage  id  \n",
       "0   13839.534811          6      0.332282 2022-01-25 16:52:27  44.393365   1  \n",
       "1   14657.609451          6      0.931217 2022-01-25 16:52:32  41.906607   2  \n",
       "2   14137.221618          6      0.803488 2022-01-25 16:52:37  41.906607   3  \n",
       "3   14257.821995          6      0.486343 2022-01-25 16:52:42  41.906607   4  \n",
       "4   14281.586371          6      0.369045 2022-01-25 16:52:47  41.906607   5  "
      ]
     },
     "execution_count": 166,
     "metadata": {},
     "output_type": "execute_result"
    },
    {
     "data": {
      "image/png": "[encoded data removed]",
      "text/plain": [
       "<Figure size 432x288 with 1 Axes>"
      ]
     },
     "metadata": {
      "needs_background": "light"
     },
     "output_type": "display_data"
    }
   ],
   "source": [
    "# Your code goes here\n",
    "Xtest=df_test['number_of_errors'].values\n",
    "Ytest = neigh.predict(Xtest.reshape(-1,1))\n",
    "\n",
    "plt.scatter(Xtest,Ytest)\n",
    "\n",
    "df2 = df_test.assign(cpu_usage = Ytest)\n",
    "df2[\"id\"] = df2.index + 1\n",
    "df2.head()\n",
    "\n"
   ]
  },
  {
   "cell_type": "code",
   "execution_count": 171,
   "id": "6cc9612a-9f26-483e-87c6-4f12bae5be6d",
   "metadata": {},
   "outputs": [
    {
     "data": {
      "text/plain": [
       "Unnamed: 0                     int64\n",
       "timestamp                     object\n",
       "number_of_requests             int64\n",
       "number_of_errors             float64\n",
       "response_time                float64\n",
       "cpu_cores                      int64\n",
       "memory_usage                 float64\n",
       "timestam              datetime64[ns]\n",
       "cpu_usage                    float64\n",
       "id                             int64\n",
       "dtype: object"
      ]
     },
     "execution_count": 171,
     "metadata": {},
     "output_type": "execute_result"
    }
   ],
   "source": [
    "df2.dtypes"
   ]
  },
  {
   "cell_type": "code",
   "execution_count": 177,
   "id": "fe771a59-2965-4d04-a026-e2cb2a3637f9",
   "metadata": {},
   "outputs": [
    {
     "data": {
      "image/png": "[encoded data removed]",
      "text/plain": [
       "<Figure size 576x576 with 1 Axes>"
      ]
     },
     "metadata": {
      "needs_background": "light"
     },
     "output_type": "display_data"
    }
   ],
   "source": [
    "df_final = df2.drop(['Unnamed: 0','number_of_requests','number_of_errors','response_time','cpu_cores','memory_usage','timestamp'],axis=1)\n",
    "df_final.head()\n",
    "fig, ax = plt.subplots(figsize = (8,8))\n",
    "ax.scatter(df_final['timestam'], df_final['cpu_usage'])\n",
    "\n",
    "# x-axis label\n",
    "ax.set_xlabel('timestamp')\n",
    " \n",
    "# y-axis label\n",
    "ax.set_ylabel('number_of_requests')\n",
    "plt.show() \n",
    "\n",
    "df_final.to_csv('martina_bujdakova.csv', index=False)"
   ]
  },
  {
   "cell_type": "markdown",
   "id": "d2bdad91-2a86-4e0a-a3bb-8686ad6793ff",
   "metadata": {},
   "source": [
    "At the end of this exercise I want to add few words. Even that we were quite silent in room, I think this experience was really helpfull to all of us. For me personally, this was the first 'machine learning project'. Even though I have not get the best fitting model, I learned about new tools in your company and even how the big company as IBM looks like from the inside. \n",
    "If we won't see each other again, thank you for this experience and opportunity.\n",
    "* Martina"
   ]
  },
  {
   "cell_type": "markdown",
   "id": "835420e8-fc44-406c-9648-0ac6fb2d7cf7",
   "metadata": {},
   "source": [
    "<div align=\"center\"> Well done! </div>\n",
    "You have completed all the steps necessary for the assignment. Don't forget to submit your solution according to instructions.\n",
    "We hope you have enjoyed this and we thank you for your time."
   ]
  }
 ],
 "metadata": {
  "kernelspec": {
   "display_name": "Python 3 (ipykernel)",
   "language": "python",
   "name": "python3"
  },
  "language_info": {
   "codemirror_mode": {
    "name": "ipython",
    "version": 3
   },
   "file_extension": ".py",
   "mimetype": "text/x-python",
   "name": "python",
   "nbconvert_exporter": "python",
   "pygments_lexer": "ipython3",
   "version": "3.9.7"
  }
 },
 "nbformat": 4,
 "nbformat_minor": 5
}
