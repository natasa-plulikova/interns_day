{
 "cells": [
  {
   "cell_type": "markdown",
   "metadata": {},
   "source": [
    "# AI based resource scaling"
   ]
  },
  {
   "cell_type": "markdown",
   "metadata": {},
   "source": [
    "## Case scenario"
   ]
  },
  {
   "cell_type": "markdown",
   "metadata": {},
   "source": [
    "You and your team have been assigned to a project. The business idea is to reduce carbon footprint by saving resources. Your initial investigation shows, that majority of applications that are deployed on Cloud have high and low traffic hours, but the resources are set to support the peak times. That means there are hours when the allocated resources to the application are not utilized.\n",
    "\n",
    "You want to develop a model which will allow automatic scaling of these resources. For that purpose, your machine learning model should correctly predict the CPU usage."
   ]
  },
  {
   "cell_type": "markdown",
   "metadata": {},
   "source": [
    "## Data"
   ]
  },
  {
   "cell_type": "markdown",
   "metadata": {},
   "source": [
    "The extract of the data for a sample application was provided to you. In the `data` folder you will find 2 files: `train.csv` and `test.csv`. You should conduct your exploration and model building on the `train.csv` file.\n",
    "Once you are happy with the model, use the `test.csv` file to predict the `cpu_usage`. You should store your predictions in a new csv file which will be called `<your_name>.csv`. The new file should have the following attributes:\n",
    "- `id` column\n",
    "- `timestamp` column\n",
    "- `cpu_usage` column which should hold your predictions"
   ]
  },
  {
   "cell_type": "markdown",
   "metadata": {},
   "source": [
    "### Data explanation"
   ]
  },
  {
   "cell_type": "markdown",
   "metadata": {},
   "source": [
    "- `id` - identifier of the record\n",
    "- `timestamp` - timestamp in the format YYYY-MM-DD HH-MM-SS\n",
    "- `number_of_requests` - number of requests the application received in the given time\n",
    "- `number_of_errors` - number of errors that the application logged in the given time\n",
    "- `response_time` - cummulative time the application took to respond to a request, in miliseconds\n",
    "- `cpu_cores` - number of CPU cores allocated to the application at a given time (maximum 8 are available)\n",
    "- `memory_usage` - memory allocation in a given time, in percent\n",
    "- `cpu_usage` - cpu allocation in a given time, in percent"
   ]
  },
  {
   "cell_type": "markdown",
   "metadata": {},
   "source": [
    "## Your delivery"
   ]
  },
  {
   "cell_type": "markdown",
   "metadata": {},
   "source": [
    "At the end of the day, you should provide us with your code in which you demonstrate that you followed these steps:\n",
    "1. Data load\n",
    "2. Data cleaning\n",
    "3. Data Exploration\n",
    "4. Data Modeling and validation\n",
    "5. Prediction\n",
    "\n",
    "The submission should be done as a pull request (PR) on github to this repository. **Please use branch with your name (not main branch)**. The PR should contain the `<your_name>.csv` file stored in the `data` folder and your code stored either in a jupyter notebook or python module.\n",
    "We have prepared this notebook to help you with the exercise however you are not obliged to use it."
   ]
  },
  {
   "cell_type": "markdown",
   "metadata": {},
   "source": [
    "# Evaluation"
   ]
  },
  {
   "cell_type": "markdown",
   "metadata": {},
   "source": [
    "This exercise does not have one solution. The problem can be approached in multiple ways. In order to evaluate how well your model performs, we will use the  root mean squared error (RMSE) metric. You can learn more about this metric here: https://en.wikipedia.org/wiki/Root-mean-square_deviation"
   ]
  },
  {
   "cell_type": "markdown",
   "metadata": {},
   "source": [
    "# Get started"
   ]
  },
  {
   "cell_type": "markdown",
   "metadata": {},
   "source": [
    "## Getting this to your local environment"
   ]
  },
  {
   "cell_type": "markdown",
   "metadata": {},
   "source": [
    "Make sure you have an account at github.com. We suggest you fork this repository to your own space. Refer here to quickly get the right git commands: https://docs.github.com/en/get-started/quickstart/git-cheatsheet or simply use Github Desktop: https://desktop.github.com/.\n",
    "Before you start working, make sure that your work can be reproduced later on a different machine.\n",
    "\n",
    "Hint: define the environment for your project along with all dependencies. Make sure that any random element you use in your code is started from the same seed value."
   ]
  },
  {
   "cell_type": "markdown",
   "metadata": {},
   "source": [
    "## Git cheatsheet"
   ]
  },
  {
   "cell_type": "markdown",
   "metadata": {},
   "source": [
    "If you are familiar with git/github and you know your way around, you can skip this section. \n",
    "\n",
    "### Basic Github Flow\n",
    "Follwing [video](https://ibm.box.com/s/dvym4y5ktbcw8sdv02hecfs5wwe0dn22) describes basic github workflow. It describes how to fork repository, clone it, make some changes, push changes to remote repo and create pull request against original repository. \n",
    "\n",
    "### Cloning repo\n",
    "Before you can clone repo you need either github token or ssh key. If you do not have it setup please follow this [guide](https://docs.github.com/en/authentication/connecting-to-github-with-ssh/adding-a-new-ssh-key-to-your-github-account)\n",
    "\n",
    "### Usual workflow\n",
    "Your usual worklow might look like this:\n",
    "1. Fork and clone repo on your local (first part of video)\n",
    "2. Develop your solution, periodically commiting changes when you reach some milestone\n",
    "3. Push changes to remote server if you are finished or you want just make copy on remote server just in case :-).\n",
    "4. Once you are done with your solution. Create pull request as show in second part of the video. **Please remember to create pull request against branch with your name (do not use main branch).**\n",
    "\n",
    "### Useful git commands\n",
    "Here are some useful git commands:\n",
    "* ```git clone <repo url>``` - clone repo from remote location to local directory\n",
    "* ```git add <file|folder>``` - stage your changes \n",
    "* ```git commit -m \"commit message\"``` - commit your changes to local git repo\n",
    "* ```git push``` - push changes to remote git repo\n"
   ]
  },
  {
   "cell_type": "markdown",
   "metadata": {},
   "source": [
    "## 1. Load the data"
   ]
  },
  {
   "cell_type": "code",
   "execution_count": 1,
   "metadata": {},
   "outputs": [
    {
     "data": {
      "text/html": [
       "<div>\n",
       "<style scoped>\n",
       "    .dataframe tbody tr th:only-of-type {\n",
       "        vertical-align: middle;\n",
       "    }\n",
       "\n",
       "    .dataframe tbody tr th {\n",
       "        vertical-align: top;\n",
       "    }\n",
       "\n",
       "    .dataframe thead th {\n",
       "        text-align: right;\n",
       "    }\n",
       "</style>\n",
       "<table border=\"1\" class=\"dataframe\">\n",
       "  <thead>\n",
       "    <tr style=\"text-align: right;\">\n",
       "      <th></th>\n",
       "      <th>id</th>\n",
       "      <th>timestamp</th>\n",
       "      <th>number_of_requests</th>\n",
       "      <th>number_of_errors</th>\n",
       "      <th>response_time</th>\n",
       "      <th>cpu_cores</th>\n",
       "      <th>memory_usage</th>\n",
       "      <th>cpu_usage</th>\n",
       "    </tr>\n",
       "  </thead>\n",
       "  <tbody>\n",
       "    <tr>\n",
       "      <th>0</th>\n",
       "      <td>0</td>\n",
       "      <td>2022-01-22 17:12:22</td>\n",
       "      <td>9758</td>\n",
       "      <td>0.0</td>\n",
       "      <td>14742.755324</td>\n",
       "      <td>6</td>\n",
       "      <td>0.347599</td>\n",
       "      <td>48.498589</td>\n",
       "    </tr>\n",
       "    <tr>\n",
       "      <th>1</th>\n",
       "      <td>1</td>\n",
       "      <td>2022-01-22 17:12:27</td>\n",
       "      <td>9967</td>\n",
       "      <td>2.0</td>\n",
       "      <td>14897.201621</td>\n",
       "      <td>6</td>\n",
       "      <td>0.756413</td>\n",
       "      <td>53.355349</td>\n",
       "    </tr>\n",
       "    <tr>\n",
       "      <th>2</th>\n",
       "      <td>2</td>\n",
       "      <td>2022-01-22 17:12:32</td>\n",
       "      <td>5210</td>\n",
       "      <td>1.0</td>\n",
       "      <td>14009.132817</td>\n",
       "      <td>6</td>\n",
       "      <td>0.698468</td>\n",
       "      <td>46.573140</td>\n",
       "    </tr>\n",
       "    <tr>\n",
       "      <th>3</th>\n",
       "      <td>3</td>\n",
       "      <td>2022-01-22 17:12:37</td>\n",
       "      <td>7361</td>\n",
       "      <td>1.0</td>\n",
       "      <td>14716.491537</td>\n",
       "      <td>6</td>\n",
       "      <td>0.137349</td>\n",
       "      <td>46.624516</td>\n",
       "    </tr>\n",
       "    <tr>\n",
       "      <th>4</th>\n",
       "      <td>4</td>\n",
       "      <td>2022-01-22 17:12:42</td>\n",
       "      <td>9667</td>\n",
       "      <td>0.0</td>\n",
       "      <td>15148.657690</td>\n",
       "      <td>6</td>\n",
       "      <td>0.157933</td>\n",
       "      <td>49.455284</td>\n",
       "    </tr>\n",
       "    <tr>\n",
       "      <th>...</th>\n",
       "      <td>...</td>\n",
       "      <td>...</td>\n",
       "      <td>...</td>\n",
       "      <td>...</td>\n",
       "      <td>...</td>\n",
       "      <td>...</td>\n",
       "      <td>...</td>\n",
       "      <td>...</td>\n",
       "    </tr>\n",
       "    <tr>\n",
       "      <th>51596</th>\n",
       "      <td>51596</td>\n",
       "      <td>2022-01-25 16:52:02</td>\n",
       "      <td>9303</td>\n",
       "      <td>2.0</td>\n",
       "      <td>14376.052495</td>\n",
       "      <td>6</td>\n",
       "      <td>0.614495</td>\n",
       "      <td>51.684143</td>\n",
       "    </tr>\n",
       "    <tr>\n",
       "      <th>51597</th>\n",
       "      <td>51597</td>\n",
       "      <td>2022-01-25 16:52:07</td>\n",
       "      <td>5945</td>\n",
       "      <td>1.0</td>\n",
       "      <td>14373.898084</td>\n",
       "      <td>6</td>\n",
       "      <td>0.209691</td>\n",
       "      <td>47.571840</td>\n",
       "    </tr>\n",
       "    <tr>\n",
       "      <th>51598</th>\n",
       "      <td>51598</td>\n",
       "      <td>2022-01-25 16:52:12</td>\n",
       "      <td>6959</td>\n",
       "      <td>1.0</td>\n",
       "      <td>14768.549663</td>\n",
       "      <td>6</td>\n",
       "      <td>0.707395</td>\n",
       "      <td>47.585932</td>\n",
       "    </tr>\n",
       "    <tr>\n",
       "      <th>51599</th>\n",
       "      <td>51599</td>\n",
       "      <td>2022-01-25 16:52:17</td>\n",
       "      <td>8274</td>\n",
       "      <td>0.0</td>\n",
       "      <td>14352.171497</td>\n",
       "      <td>6</td>\n",
       "      <td>0.887683</td>\n",
       "      <td>48.178243</td>\n",
       "    </tr>\n",
       "    <tr>\n",
       "      <th>51600</th>\n",
       "      <td>51600</td>\n",
       "      <td>2022-01-25 16:52:22</td>\n",
       "      <td>8571</td>\n",
       "      <td>2.0</td>\n",
       "      <td>14870.259551</td>\n",
       "      <td>6</td>\n",
       "      <td>0.209852</td>\n",
       "      <td>51.371905</td>\n",
       "    </tr>\n",
       "  </tbody>\n",
       "</table>\n",
       "<p>51601 rows × 8 columns</p>\n",
       "</div>"
      ],
      "text/plain": [
       "          id            timestamp  number_of_requests  number_of_errors  \\\n",
       "0          0  2022-01-22 17:12:22                9758               0.0   \n",
       "1          1  2022-01-22 17:12:27                9967               2.0   \n",
       "2          2  2022-01-22 17:12:32                5210               1.0   \n",
       "3          3  2022-01-22 17:12:37                7361               1.0   \n",
       "4          4  2022-01-22 17:12:42                9667               0.0   \n",
       "...      ...                  ...                 ...               ...   \n",
       "51596  51596  2022-01-25 16:52:02                9303               2.0   \n",
       "51597  51597  2022-01-25 16:52:07                5945               1.0   \n",
       "51598  51598  2022-01-25 16:52:12                6959               1.0   \n",
       "51599  51599  2022-01-25 16:52:17                8274               0.0   \n",
       "51600  51600  2022-01-25 16:52:22                8571               2.0   \n",
       "\n",
       "       response_time  cpu_cores  memory_usage  cpu_usage  \n",
       "0       14742.755324          6      0.347599  48.498589  \n",
       "1       14897.201621          6      0.756413  53.355349  \n",
       "2       14009.132817          6      0.698468  46.573140  \n",
       "3       14716.491537          6      0.137349  46.624516  \n",
       "4       15148.657690          6      0.157933  49.455284  \n",
       "...              ...        ...           ...        ...  \n",
       "51596   14376.052495          6      0.614495  51.684143  \n",
       "51597   14373.898084          6      0.209691  47.571840  \n",
       "51598   14768.549663          6      0.707395  47.585932  \n",
       "51599   14352.171497          6      0.887683  48.178243  \n",
       "51600   14870.259551          6      0.209852  51.371905  \n",
       "\n",
       "[51601 rows x 8 columns]"
      ]
     },
     "execution_count": 1,
     "metadata": {},
     "output_type": "execute_result"
    }
   ],
   "source": [
    "# Your code goes here\n",
    "import pandas as pd\n",
    "import numpy as np\n",
    "import matplotlib.pyplot as plt\n",
    "import seaborn as sns\n",
    "from sklearn import metrics\n",
    "from sklearn.model_selection import train_test_split\n",
    "%matplotlib inline\n",
    "df = pd.read_csv(\"./data/train.csv\")\n",
    "df"
   ]
  },
  {
   "cell_type": "markdown",
   "metadata": {},
   "source": [
    "In this step you want to make sure that the data that you work with is loaded correctly, that it does not contain any strange values or that you are not missing any important records. You can read more about this step here: https://en.wikipedia.org/wiki/Data_cleansing"
   ]
  },
  {
   "cell_type": "markdown",
   "metadata": {},
   "source": [
    "## 2. Data cleaning"
   ]
  },
  {
   "cell_type": "code",
   "execution_count": 2,
   "metadata": {},
   "outputs": [
    {
     "data": {
      "text/plain": [
       "<AxesSubplot:>"
      ]
     },
     "execution_count": 2,
     "metadata": {},
     "output_type": "execute_result"
    },
    {
     "data": {
      "image/png": "[encoded data removed]",
      "text/plain": [
       "<Figure size 432x288 with 2 Axes>"
      ]
     },
     "metadata": {
      "needs_background": "light"
     },
     "output_type": "display_data"
    }
   ],
   "source": [
    "#df.isnull().sum().sum()\n",
    "cols = df.columns[:8]\n",
    "sns.heatmap(pd.isna(df[cols])) #recheck this later (should be right)\n"
   ]
  },
  {
   "cell_type": "markdown",
   "metadata": {},
   "source": [
    "## 3. Data exploration"
   ]
  },
  {
   "cell_type": "markdown",
   "metadata": {},
   "source": [
    "This may be one of the most important steps in your analysis. Your objective is to explore patterns in the data that will later drive your decisions about the suitable prediction model. You can read more about this step here: https://en.wikipedia.org/wiki/Data_exploration.\n",
    "\n",
    "There are many visualization libraries in python which can help you visualize and better understand the relationships between the data. Some of the most used ones are `matplotlib` (https://matplotlib.org/) and `seaborn` (https://seaborn.pydata.org/)\n",
    "\n",
    "At the end of this step, you should be able to make some important decisions. For example, will you include all features, or only a subset? Will you create new features? How will you treat your target variable? Will you need to encode the data in a different way?"
   ]
  },
  {
   "cell_type": "code",
   "execution_count": 3,
   "metadata": {},
   "outputs": [
    {
     "data": {
      "text/html": [
       "<div>\n",
       "<style scoped>\n",
       "    .dataframe tbody tr th:only-of-type {\n",
       "        vertical-align: middle;\n",
       "    }\n",
       "\n",
       "    .dataframe tbody tr th {\n",
       "        vertical-align: top;\n",
       "    }\n",
       "\n",
       "    .dataframe thead th {\n",
       "        text-align: right;\n",
       "    }\n",
       "</style>\n",
       "<table border=\"1\" class=\"dataframe\">\n",
       "  <thead>\n",
       "    <tr style=\"text-align: right;\">\n",
       "      <th></th>\n",
       "      <th>0</th>\n",
       "      <th>1</th>\n",
       "      <th>2</th>\n",
       "      <th>3</th>\n",
       "      <th>4</th>\n",
       "      <th>5</th>\n",
       "    </tr>\n",
       "  </thead>\n",
       "  <tbody>\n",
       "    <tr>\n",
       "      <th>0</th>\n",
       "      <td>0.195203</td>\n",
       "      <td>0.000000</td>\n",
       "      <td>0.876610</td>\n",
       "      <td>0.666667</td>\n",
       "      <td>0.347604</td>\n",
       "      <td>0.484986</td>\n",
       "    </tr>\n",
       "    <tr>\n",
       "      <th>1</th>\n",
       "      <td>0.199384</td>\n",
       "      <td>0.002286</td>\n",
       "      <td>0.885793</td>\n",
       "      <td>0.666667</td>\n",
       "      <td>0.756430</td>\n",
       "      <td>0.533553</td>\n",
       "    </tr>\n",
       "    <tr>\n",
       "      <th>2</th>\n",
       "      <td>0.104223</td>\n",
       "      <td>0.001143</td>\n",
       "      <td>0.832988</td>\n",
       "      <td>0.666667</td>\n",
       "      <td>0.698484</td>\n",
       "      <td>0.465731</td>\n",
       "    </tr>\n",
       "    <tr>\n",
       "      <th>3</th>\n",
       "      <td>0.147252</td>\n",
       "      <td>0.001143</td>\n",
       "      <td>0.875048</td>\n",
       "      <td>0.666667</td>\n",
       "      <td>0.137348</td>\n",
       "      <td>0.466245</td>\n",
       "    </tr>\n",
       "    <tr>\n",
       "      <th>4</th>\n",
       "      <td>0.193383</td>\n",
       "      <td>0.000000</td>\n",
       "      <td>0.900745</td>\n",
       "      <td>0.666667</td>\n",
       "      <td>0.157932</td>\n",
       "      <td>0.494553</td>\n",
       "    </tr>\n",
       "    <tr>\n",
       "      <th>...</th>\n",
       "      <td>...</td>\n",
       "      <td>...</td>\n",
       "      <td>...</td>\n",
       "      <td>...</td>\n",
       "      <td>...</td>\n",
       "      <td>...</td>\n",
       "    </tr>\n",
       "    <tr>\n",
       "      <th>51596</th>\n",
       "      <td>0.186101</td>\n",
       "      <td>0.002286</td>\n",
       "      <td>0.854805</td>\n",
       "      <td>0.666667</td>\n",
       "      <td>0.614508</td>\n",
       "      <td>0.516841</td>\n",
       "    </tr>\n",
       "    <tr>\n",
       "      <th>51597</th>\n",
       "      <td>0.118926</td>\n",
       "      <td>0.001143</td>\n",
       "      <td>0.854677</td>\n",
       "      <td>0.666667</td>\n",
       "      <td>0.209692</td>\n",
       "      <td>0.475718</td>\n",
       "    </tr>\n",
       "    <tr>\n",
       "      <th>51598</th>\n",
       "      <td>0.139211</td>\n",
       "      <td>0.001143</td>\n",
       "      <td>0.878143</td>\n",
       "      <td>0.666667</td>\n",
       "      <td>0.707411</td>\n",
       "      <td>0.475859</td>\n",
       "    </tr>\n",
       "    <tr>\n",
       "      <th>51599</th>\n",
       "      <td>0.165516</td>\n",
       "      <td>0.000000</td>\n",
       "      <td>0.853385</td>\n",
       "      <td>0.666667</td>\n",
       "      <td>0.887705</td>\n",
       "      <td>0.481782</td>\n",
       "    </tr>\n",
       "    <tr>\n",
       "      <th>51600</th>\n",
       "      <td>0.171458</td>\n",
       "      <td>0.002286</td>\n",
       "      <td>0.884191</td>\n",
       "      <td>0.666667</td>\n",
       "      <td>0.209853</td>\n",
       "      <td>0.513719</td>\n",
       "    </tr>\n",
       "  </tbody>\n",
       "</table>\n",
       "<p>51601 rows × 6 columns</p>\n",
       "</div>"
      ],
      "text/plain": [
       "              0         1         2         3         4         5\n",
       "0      0.195203  0.000000  0.876610  0.666667  0.347604  0.484986\n",
       "1      0.199384  0.002286  0.885793  0.666667  0.756430  0.533553\n",
       "2      0.104223  0.001143  0.832988  0.666667  0.698484  0.465731\n",
       "3      0.147252  0.001143  0.875048  0.666667  0.137348  0.466245\n",
       "4      0.193383  0.000000  0.900745  0.666667  0.157932  0.494553\n",
       "...         ...       ...       ...       ...       ...       ...\n",
       "51596  0.186101  0.002286  0.854805  0.666667  0.614508  0.516841\n",
       "51597  0.118926  0.001143  0.854677  0.666667  0.209692  0.475718\n",
       "51598  0.139211  0.001143  0.878143  0.666667  0.707411  0.475859\n",
       "51599  0.165516  0.000000  0.853385  0.666667  0.887705  0.481782\n",
       "51600  0.171458  0.002286  0.884191  0.666667  0.209853  0.513719\n",
       "\n",
       "[51601 rows x 6 columns]"
      ]
     },
     "execution_count": 3,
     "metadata": {},
     "output_type": "execute_result"
    }
   ],
   "source": [
    "from sklearn import preprocessing\n",
    "min_max_scaler = preprocessing.MinMaxScaler()\n",
    "cols = df.columns[2:8]\n",
    "df_norm = min_max_scaler.fit_transform(df[cols])\n",
    "df_norm = pd.DataFrame(df_norm)\n",
    "df_norm #min-max normalized dataset"
   ]
  },
  {
   "cell_type": "code",
   "execution_count": 65,
   "metadata": {},
   "outputs": [],
   "source": [
    "from sklearn.datasets import make_regression\n",
    "from sklearn.feature_selection import SelectKBest\n",
    "from sklearn.feature_selection import f_regression\n",
    "from sklearn.linear_model import LinearRegression\n",
    "from sklearn.metrics import mean_squared_error\n",
    "LR = LinearRegression()\n",
    "\n",
    "df_train, df_test = train_test_split(df_norm, \n",
    "                                     train_size = 0.6, \n",
    "                                     test_size = 0.4, \n",
    "                                     random_state = 10)\n",
    "\n",
    "train_inp = df_train.columns[2:7]\n",
    "train_out = df_train.columns[5]\n",
    "\n",
    "fs = SelectKBest(score_func=f_regression, k=4)\n",
    "\n",
    "df_train_inp = fs.fit_transform(df_train[train_inp],df_train[train_out]) #best features of df train input\n",
    "#mask = fs.get_support()\n",
    "#new_features = (df[df.columns[2:8]])[mask]"
   ]
  },
  {
   "cell_type": "code",
   "execution_count": 85,
   "metadata": {},
   "outputs": [
    {
     "name": "stdout",
     "output_type": "stream",
     "text": [
      "1.2316243074267738e-16\n"
     ]
    }
   ],
   "source": [
    "\n",
    "\n",
    "val_inp = df_test.columns[2:7]\n",
    "val_out = df_test.columns[5]\n",
    "\n",
    "LR.fit(df_train_inp,df_train[train_out])\n",
    "\n",
    "y_train_prediction = LR.predict(df_test[val_inp])\n",
    "print(np.sqrt(metrics.mean_squared_error(y_train_prediction, df_test[val_out])))\n"
   ]
  },
  {
   "cell_type": "code",
   "execution_count": 86,
   "metadata": {},
   "outputs": [
    {
     "data": {
      "text/html": [
       "<div>\n",
       "<style scoped>\n",
       "    .dataframe tbody tr th:only-of-type {\n",
       "        vertical-align: middle;\n",
       "    }\n",
       "\n",
       "    .dataframe tbody tr th {\n",
       "        vertical-align: top;\n",
       "    }\n",
       "\n",
       "    .dataframe thead th {\n",
       "        text-align: right;\n",
       "    }\n",
       "</style>\n",
       "<table border=\"1\" class=\"dataframe\">\n",
       "  <thead>\n",
       "    <tr style=\"text-align: right;\">\n",
       "      <th></th>\n",
       "      <th>2</th>\n",
       "      <th>3</th>\n",
       "      <th>4</th>\n",
       "      <th>5</th>\n",
       "    </tr>\n",
       "  </thead>\n",
       "  <tbody>\n",
       "    <tr>\n",
       "      <th>41407</th>\n",
       "      <td>0.678004</td>\n",
       "      <td>0.000000</td>\n",
       "      <td>0.419650</td>\n",
       "      <td>0.472485</td>\n",
       "    </tr>\n",
       "    <tr>\n",
       "      <th>18146</th>\n",
       "      <td>0.610939</td>\n",
       "      <td>0.000000</td>\n",
       "      <td>0.148059</td>\n",
       "      <td>0.466090</td>\n",
       "    </tr>\n",
       "    <tr>\n",
       "      <th>15219</th>\n",
       "      <td>0.641398</td>\n",
       "      <td>0.000000</td>\n",
       "      <td>0.045327</td>\n",
       "      <td>0.469016</td>\n",
       "    </tr>\n",
       "    <tr>\n",
       "      <th>14802</th>\n",
       "      <td>0.906860</td>\n",
       "      <td>1.000000</td>\n",
       "      <td>0.938970</td>\n",
       "      <td>0.516597</td>\n",
       "    </tr>\n",
       "    <tr>\n",
       "      <th>460</th>\n",
       "      <td>0.887440</td>\n",
       "      <td>0.666667</td>\n",
       "      <td>0.754575</td>\n",
       "      <td>0.477164</td>\n",
       "    </tr>\n",
       "    <tr>\n",
       "      <th>...</th>\n",
       "      <td>...</td>\n",
       "      <td>...</td>\n",
       "      <td>...</td>\n",
       "      <td>...</td>\n",
       "    </tr>\n",
       "    <tr>\n",
       "      <th>12917</th>\n",
       "      <td>0.939435</td>\n",
       "      <td>1.000000</td>\n",
       "      <td>0.713771</td>\n",
       "      <td>0.467319</td>\n",
       "    </tr>\n",
       "    <tr>\n",
       "      <th>21956</th>\n",
       "      <td>0.648148</td>\n",
       "      <td>0.000000</td>\n",
       "      <td>0.492645</td>\n",
       "      <td>0.468368</td>\n",
       "    </tr>\n",
       "    <tr>\n",
       "      <th>7532</th>\n",
       "      <td>0.512112</td>\n",
       "      <td>0.000000</td>\n",
       "      <td>0.192028</td>\n",
       "      <td>0.457068</td>\n",
       "    </tr>\n",
       "    <tr>\n",
       "      <th>40366</th>\n",
       "      <td>0.671079</td>\n",
       "      <td>0.000000</td>\n",
       "      <td>0.494369</td>\n",
       "      <td>0.473687</td>\n",
       "    </tr>\n",
       "    <tr>\n",
       "      <th>19514</th>\n",
       "      <td>0.762038</td>\n",
       "      <td>0.000000</td>\n",
       "      <td>0.177660</td>\n",
       "      <td>0.479326</td>\n",
       "    </tr>\n",
       "  </tbody>\n",
       "</table>\n",
       "<p>20641 rows × 4 columns</p>\n",
       "</div>"
      ],
      "text/plain": [
       "              2         3         4         5\n",
       "41407  0.678004  0.000000  0.419650  0.472485\n",
       "18146  0.610939  0.000000  0.148059  0.466090\n",
       "15219  0.641398  0.000000  0.045327  0.469016\n",
       "14802  0.906860  1.000000  0.938970  0.516597\n",
       "460    0.887440  0.666667  0.754575  0.477164\n",
       "...         ...       ...       ...       ...\n",
       "12917  0.939435  1.000000  0.713771  0.467319\n",
       "21956  0.648148  0.000000  0.492645  0.468368\n",
       "7532   0.512112  0.000000  0.192028  0.457068\n",
       "40366  0.671079  0.000000  0.494369  0.473687\n",
       "19514  0.762038  0.000000  0.177660  0.479326\n",
       "\n",
       "[20641 rows x 4 columns]"
      ]
     },
     "execution_count": 86,
     "metadata": {},
     "output_type": "execute_result"
    }
   ],
   "source": [
    "df_test[val_inp]"
   ]
  },
  {
   "cell_type": "markdown",
   "metadata": {},
   "source": [
    "## 4. Data Modeling and Validation"
   ]
  },
  {
   "cell_type": "markdown",
   "metadata": {},
   "source": [
    "At this point, you should have an idea about your data. That means you are ready for the modeling part. Based on your exploration, you should choose the right type of the model. Since we are operating in a supervised domain (e.g. we know what we want to predict), your main decision should be whether to use a classification, regression or time-series type model.\n",
    "\n",
    "Scikit-learn (https://scikit-learn.org/stable/index.html) is very broad library for machine learning practitioners. The documentation provides examples for different machine learning problems. Feel free to check it out before you choose your final implementation. If you are not sure which model will work best, you can also train multiple models and choose the best among them.\n",
    "\n",
    "Do not forget that you need to validate your model. Especially if you train multiple models that you wish to choose from. There are more ways to do the validation (read more here: https://en.wikipedia.org/wiki/Training,_validation,_and_test_sets) but remember that your final solution will be evaluated based on RMSE metric."
   ]
  },
  {
   "cell_type": "code",
   "execution_count": 11,
   "metadata": {},
   "outputs": [
    {
     "data": {
      "image/png": "[encoded data removed]",
      "text/plain": [
       "<Figure size 432x288 with 1 Axes>"
      ]
     },
     "metadata": {
      "needs_background": "light"
     },
     "output_type": "display_data"
    }
   ],
   "source": [
    "from pandas.plotting import lag_plot\n",
    "a = df.columns[3] #dependecy on time\n",
    "lag_plot(df[a])\n",
    "plt.show()  #doesnt really depend on time"
   ]
  },
  {
   "cell_type": "code",
   "execution_count": 27,
   "metadata": {},
   "outputs": [
    {
     "name": "stdout",
     "output_type": "stream",
     "text": [
      "Accuracy: 1.00 (+/- 0.00)\n"
     ]
    }
   ],
   "source": [
    "from sklearn.model_selection import KFold\n",
    "from sklearn.model_selection import cross_val_score\n",
    "from numpy import mean\n",
    "from numpy import std\n",
    "scores = cross_val_score(LR,df_test[val_inp],df_test[val_out], scoring='r2', cv=100)\n",
    "print(\"Accuracy: %0.2f (+/- %0.2f)\" % (scores.mean(), scores.std() * 2))"
   ]
  },
  {
   "cell_type": "markdown",
   "metadata": {},
   "source": [
    "## 5. Prediction"
   ]
  },
  {
   "cell_type": "markdown",
   "metadata": {},
   "source": [
    "Well done! You are almost finished with the assignment. In this last step you want to use a `predict` method on the data from `test.csv` file. Remember, any transformation or data preprocessing steps you did need to be done on this dataset too."
   ]
  },
  {
   "cell_type": "code",
   "execution_count": 136,
   "metadata": {},
   "outputs": [
    {
     "data": {
      "text/plain": [
       "array([0.66666667, 0.66666667, 0.66666667, ..., 0.66666667, 0.66666667,\n",
       "       0.66666667])"
      ]
     },
     "execution_count": 136,
     "metadata": {},
     "output_type": "execute_result"
    }
   ],
   "source": [
    "prac = pd.read_csv(\"./data/test.csv\")\n",
    "cols = prac.loc[:,['number_of_requests', 'number_of_errors', 'response_time', 'cpu_cores']]\n",
    "cols = min_max_scaler.fit_transform(cols)\n",
    "result = LR.predict(cols)\n",
    "result\n"
   ]
  },
  {
   "cell_type": "markdown",
   "metadata": {},
   "source": [
    "<div align=\"center\"> Well done! </div>\n",
    "You have completed all the steps necessary for the assignment. Don't forget to submit your solution according to instructions.\n",
    "We hope you have enjoyed this and we thank you for your time."
   ]
  }
 ],
 "metadata": {
  "kernelspec": {
   "display_name": "Python 3",
   "language": "python",
   "name": "python3"
  },
  "language_info": {
   "codemirror_mode": {
    "name": "ipython",
    "version": 3
   },
   "file_extension": ".py",
   "mimetype": "text/x-python",
   "name": "python",
   "nbconvert_exporter": "python",
   "pygments_lexer": "ipython3",
   "version": "3.8.5"
  }
 },
 "nbformat": 4,
 "nbformat_minor": 5
}
